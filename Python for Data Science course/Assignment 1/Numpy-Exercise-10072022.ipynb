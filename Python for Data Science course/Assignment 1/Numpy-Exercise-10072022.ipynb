{
 "cells": [
  {
   "cell_type": "markdown",
   "metadata": {},
   "source": [
    "# NumPy Exercise (5 points)"
   ]
  },
  {
   "cell_type": "markdown",
   "metadata": {},
   "source": [
    "Create a 2x10 array (two rows and 10 columns) `ary0` of 10 zeros, using integer numbers as data type. "
   ]
  },
  {
   "cell_type": "code",
   "execution_count": 102,
   "metadata": {},
   "outputs": [
    {
     "name": "stdout",
     "output_type": "stream",
     "text": [
      "ary0 =  [[0 0 0 0 0 0 0 0 0 0]\n",
      " [0 0 0 0 0 0 0 0 0 0]]\n"
     ]
    }
   ],
   "source": [
    "# Your code here\n",
    "import numpy as np\n",
    "ary0 = np.zeros((2, 10), dtype = int)\n",
    "print(\"ary0 = \",ary0)"
   ]
  },
  {
   "cell_type": "markdown",
   "metadata": {},
   "source": [
    "Create an array `ary1` of 10 ones using float numbers, and an array `aray3` of 10 threes using integer numbers. Concatenate the three arrays (ary0, ary1,ary3) horiztonally to obtain a 4x10 array called `ary4`."
   ]
  },
  {
   "cell_type": "code",
   "execution_count": 103,
   "metadata": {},
   "outputs": [
    {
     "name": "stdout",
     "output_type": "stream",
     "text": [
      "ary1 =  [1. 1. 1. 1. 1. 1. 1. 1. 1. 1.]\n",
      "aray3 =  [3 3 3 3 3 3 3 3 3 3]\n"
     ]
    }
   ],
   "source": [
    "# Your code here\n",
    "ary1 = np.ones(10, dtype = float)\n",
    "print(\"ary1 = \",ary1)\n",
    "aray3 = np.ones(10, dtype = int)*3\n",
    "print(\"aray3 = \",aray3)\n",
    "#To horizontally stack arrays:\n",
    "ary4 = np.vstack((ary0, ary1, aray3))"
   ]
  },
  {
   "cell_type": "markdown",
   "metadata": {},
   "source": [
    "Display the data type of `ary4`. Why it is that data type?"
   ]
  },
  {
   "cell_type": "code",
   "execution_count": 104,
   "metadata": {},
   "outputs": [
    {
     "name": "stdout",
     "output_type": "stream",
     "text": [
      "Array ary4 =  [[0. 0. 0. 0. 0. 0. 0. 0. 0. 0.]\n",
      " [0. 0. 0. 0. 0. 0. 0. 0. 0. 0.]\n",
      " [1. 1. 1. 1. 1. 1. 1. 1. 1. 1.]\n",
      " [3. 3. 3. 3. 3. 3. 3. 3. 3. 3.]]\n",
      "Data type of array 'ary4' =  float64\n"
     ]
    },
    {
     "data": {
      "text/plain": [
       "'The data type of the array is float as one of the arrays being concatenated \\nwas float thus to avoid information loss all arrays were concatenated and converted to float.'"
      ]
     },
     "execution_count": 104,
     "metadata": {},
     "output_type": "execute_result"
    }
   ],
   "source": [
    "# Your code here\n",
    "print(\"Array ary4 = \",ary4)\n",
    "print(\"Data type of array 'ary4' = \",ary4.dtype)\n",
    "'''The data type of the array is float as one of the arrays being concatenated \n",
    "was float thus to avoid information loss all arrays were concatenated and converted to float.'''"
   ]
  },
  {
   "cell_type": "markdown",
   "metadata": {},
   "source": [
    "Create a numpy array of integers from 10 to 50."
   ]
  },
  {
   "cell_type": "code",
   "execution_count": 105,
   "metadata": {},
   "outputs": [
    {
     "data": {
      "text/plain": [
       "array([10, 11, 12, 13, 14, 15, 16, 17, 18, 19, 20, 21, 22, 23, 24, 25, 26,\n",
       "       27, 28, 29, 30, 31, 32, 33, 34, 35, 36, 37, 38, 39, 40, 41, 42, 43,\n",
       "       44, 45, 46, 47, 48, 49, 50])"
      ]
     },
     "execution_count": 105,
     "metadata": {},
     "output_type": "execute_result"
    }
   ],
   "source": [
    "# Your code here\n",
    "np.arange(10, 51)"
   ]
  },
  {
   "cell_type": "markdown",
   "metadata": {},
   "source": [
    "Create a numpy array of the \"even\" integers from 5 to 29."
   ]
  },
  {
   "cell_type": "code",
   "execution_count": 106,
   "metadata": {},
   "outputs": [
    {
     "data": {
      "text/plain": [
       "array([ 6,  8, 10, 12, 14, 16, 18, 20, 22, 24, 26, 28])"
      ]
     },
     "execution_count": 106,
     "metadata": {},
     "output_type": "execute_result"
    }
   ],
   "source": [
    "# Your code here\n",
    "np.arange(6, 30, 2)"
   ]
  },
  {
   "cell_type": "markdown",
   "metadata": {},
   "source": [
    "Create a 3x4 array with values ranging from 0 to 12, using `arange` and `reshape`."
   ]
  },
  {
   "cell_type": "code",
   "execution_count": 107,
   "metadata": {},
   "outputs": [
    {
     "data": {
      "text/plain": [
       "array([[ 0,  1,  2,  3],\n",
       "       [ 4,  5,  6,  7],\n",
       "       [ 8,  9, 10, 11]])"
      ]
     },
     "execution_count": 107,
     "metadata": {},
     "output_type": "execute_result"
    }
   ],
   "source": [
    "# Your code here\n",
    "np.arange(0,12).reshape(3,4)"
   ]
  },
  {
   "cell_type": "markdown",
   "metadata": {},
   "source": [
    "Generate an array of 15 random numbers sampled from a standard normal distribution with 3 mean and 12 standard deviation, by applying a Random State to the random number generator. "
   ]
  },
  {
   "cell_type": "code",
   "execution_count": 108,
   "metadata": {},
   "outputs": [
    {
     "name": "stdout",
     "output_type": "stream",
     "text": [
      "Standard normal distribution with 3 mean and 12 standard deviation =\n",
      " [-1.18673341 14.8044412   9.97107397  3.84341329 12.33039212  9.98350494\n",
      " 20.66148632 22.95817211 -0.13412546 -5.26412175 -5.33907915 26.28508152\n",
      " 24.66498228  8.47576622 -3.89774448]\n"
     ]
    }
   ],
   "source": [
    "# Your code here\n",
    "np.random.seed(32)\n",
    "a_normal = 3 + 12 * np.random.randn(15)\n",
    "print(\"Standard normal distribution with 3 mean and 12 standard deviation =\\n\",a_normal)"
   ]
  },
  {
   "cell_type": "markdown",
   "metadata": {},
   "source": [
    "Display the indices of the elements of the above array sorted in ascending order. "
   ]
  },
  {
   "cell_type": "code",
   "execution_count": 109,
   "metadata": {},
   "outputs": [
    {
     "name": "stdout",
     "output_type": "stream",
     "text": [
      "The indices of above array sorted in ascending order = [10  9 14  0  8  3 13  2  5  4  1  6  7 12 11]\n"
     ]
    }
   ],
   "source": [
    "# Your code here\n",
    "print(\"The indices of above array sorted in ascending order =\",np.argsort(a_normal))"
   ]
  },
  {
   "cell_type": "markdown",
   "metadata": {},
   "source": [
    "Generate a 4x5 array called `ary4` of random numbers sampled from a uniform distribution. Use the random seed `12` to ensure reproducibility. "
   ]
  },
  {
   "cell_type": "code",
   "execution_count": 110,
   "metadata": {},
   "outputs": [
    {
     "name": "stdout",
     "output_type": "stream",
     "text": [
      "Random numbers sampled from a uniform distribution b/w 0 and 1 =\n",
      " [[0.15416284 0.7400497  0.26331502 0.53373939 0.01457496]\n",
      " [0.91874701 0.90071485 0.03342143 0.95694934 0.13720932]\n",
      " [0.28382835 0.60608318 0.94422514 0.85273554 0.00225923]\n",
      " [0.52122603 0.55203763 0.48537741 0.76813415 0.16071675]]\n"
     ]
    }
   ],
   "source": [
    "# Your code here\n",
    "np.random.seed(12)\n",
    "ary4 = np.random.uniform(size = (4, 5))\n",
    "print(\"Random numbers sampled from a uniform distribution b/w 0 and 1 =\\n\",ary4)"
   ]
  },
  {
   "cell_type": "markdown",
   "metadata": {},
   "source": [
    "Display the average values of the rows of `ary4`."
   ]
  },
  {
   "cell_type": "code",
   "execution_count": 111,
   "metadata": {},
   "outputs": [
    {
     "name": "stdout",
     "output_type": "stream",
     "text": [
      "Average of rows of the array ary4 = [0.34116838 0.58940839 0.53782629 0.4974984 ]\n"
     ]
    }
   ],
   "source": [
    "# Your code here\n",
    "print(\"Average of rows of the array ary4 =\",np.average(ary4, axis = 1))"
   ]
  },
  {
   "cell_type": "markdown",
   "metadata": {},
   "source": [
    "Display the index of the minimum element in each column in `ary4`. "
   ]
  },
  {
   "cell_type": "code",
   "execution_count": 112,
   "metadata": {},
   "outputs": [
    {
     "name": "stdout",
     "output_type": "stream",
     "text": [
      "Index of the minimum element in each column in ary4 = [0 3 1 0 2]\n"
     ]
    }
   ],
   "source": [
    "# Your code here\n",
    "print(\"Index of the minimum element in each column in ary4 =\",np.argmin(ary4, axis = 0))"
   ]
  },
  {
   "cell_type": "markdown",
   "metadata": {},
   "source": [
    "Create a Boolean mask of the elements in `ary4` that are in the range between 0.3 and 0.8, and afterward use the mask to extract the elements into a new array `ary5`."
   ]
  },
  {
   "cell_type": "code",
   "execution_count": 113,
   "metadata": {
    "scrolled": true
   },
   "outputs": [
    {
     "name": "stdout",
     "output_type": "stream",
     "text": [
      "New array ary5 = [0.7400497  0.53373939 0.60608318 0.52122603 0.55203763 0.48537741\n",
      " 0.76813415]\n"
     ]
    }
   ],
   "source": [
    "# Your code here\n",
    "mask = (ary4>0.3) & (ary4<0.8)\n",
    "ary5 = ary4[mask]\n",
    "print(\"New array ary5 =\",ary5)"
   ]
  },
  {
   "cell_type": "markdown",
   "metadata": {},
   "source": [
    "Flatten `ary5` using both `flatten()` and `ravel()` and check if the resulting arrays are views of `ary5` (i.e., share the same memory)."
   ]
  },
  {
   "cell_type": "markdown",
   "metadata": {},
   "source": [
    "### Masking converted the 2-D array into a 1-D array and flatten does not make any changes to an already 1-D array. So I have tried to mask using np.where."
   ]
  },
  {
   "cell_type": "code",
   "execution_count": 114,
   "metadata": {},
   "outputs": [
    {
     "name": "stdout",
     "output_type": "stream",
     "text": [
      "ary5 = [[0.         0.7400497  0.         0.53373939 0.        ]\n",
      " [0.         0.         0.         0.         0.        ]\n",
      " [0.         0.60608318 0.         0.         0.        ]\n",
      " [0.52122603 0.55203763 0.48537741 0.76813415 0.        ]]\n",
      "Ravel = [0.         0.7400497  0.         0.53373939 0.         0.\n",
      " 0.         0.         0.         0.         0.         0.60608318\n",
      " 0.         0.         0.         0.52122603 0.55203763 0.48537741\n",
      " 0.76813415 0.        ]\n",
      "Flatten = [0.         0.7400497  0.         0.53373939 0.         0.\n",
      " 0.         0.         0.         0.         0.         0.60608318\n",
      " 0.         0.         0.         0.52122603 0.55203763 0.48537741\n",
      " 0.76813415 0.        ]\n",
      "Check the base attribute = False\n",
      "Check share memory = False\n"
     ]
    }
   ],
   "source": [
    "ary5 = np.where(mask, ary4, 0)\n",
    "print(\"ary5 =\",ary5)\n",
    "#Ravel can work on any object that can be parsed and would only return a view.\n",
    "ary5_ravel = ary5.ravel()\n",
    "print(\"Ravel =\",ary5_ravel)\n",
    "#Flatten only works on numpy arrays and would return a copy.\n",
    "#The memory locations of the results are different.\n",
    "ary5_flatten = ary5.flatten()\n",
    "print(\"Flatten =\",ary5_flatten)\n",
    "\n",
    "#Check the base attribute\n",
    "print(\"Check the base attribute =\",ary5_flatten.base is ary5_ravel)\n",
    "\n",
    "#Check memory\n",
    "print(\"Check share memory =\",np.may_share_memory(ary5_ravel, ary5_flatten))"
   ]
  },
  {
   "cell_type": "markdown",
   "metadata": {},
   "source": [
    "Create an array of 40 linearly spaced points between 3 and 5."
   ]
  },
  {
   "cell_type": "code",
   "execution_count": 115,
   "metadata": {},
   "outputs": [
    {
     "name": "stdout",
     "output_type": "stream",
     "text": [
      "Array of 40 linearly spaced points between 3 and 5 =\n",
      " [3.         3.05128205 3.1025641  3.15384615 3.20512821 3.25641026\n",
      " 3.30769231 3.35897436 3.41025641 3.46153846 3.51282051 3.56410256\n",
      " 3.61538462 3.66666667 3.71794872 3.76923077 3.82051282 3.87179487\n",
      " 3.92307692 3.97435897 4.02564103 4.07692308 4.12820513 4.17948718\n",
      " 4.23076923 4.28205128 4.33333333 4.38461538 4.43589744 4.48717949\n",
      " 4.53846154 4.58974359 4.64102564 4.69230769 4.74358974 4.79487179\n",
      " 4.84615385 4.8974359  4.94871795 5.        ]\n"
     ]
    }
   ],
   "source": [
    "# Your code here\n",
    "print(\"Array of 40 linearly spaced points between 3 and 5 =\\n\",np.linspace(3, 5, num = 40))"
   ]
  },
  {
   "cell_type": "markdown",
   "metadata": {},
   "source": [
    "For the given array `mat`, in the following cells apply slicing operations to replicate the displayed outputs."
   ]
  },
  {
   "cell_type": "code",
   "execution_count": 116,
   "metadata": {},
   "outputs": [
    {
     "data": {
      "text/plain": [
       "array([[ 1,  2,  3,  4,  5],\n",
       "       [ 6,  7,  8,  9, 10],\n",
       "       [11, 12, 13, 14, 15],\n",
       "       [16, 17, 18, 19, 20],\n",
       "       [21, 22, 23, 24, 25]])"
      ]
     },
     "execution_count": 116,
     "metadata": {},
     "output_type": "execute_result"
    }
   ],
   "source": [
    "mat = np.arange(1,26).reshape(5,5)\n",
    "mat"
   ]
  },
  {
   "cell_type": "code",
   "execution_count": 117,
   "metadata": {},
   "outputs": [
    {
     "data": {
      "text/plain": [
       "array([[12, 13, 14, 15],\n",
       "       [17, 18, 19, 20],\n",
       "       [22, 23, 24, 25]])"
      ]
     },
     "execution_count": 117,
     "metadata": {},
     "output_type": "execute_result"
    }
   ],
   "source": [
    "# Your code here\n",
    "mat[2:,1:]"
   ]
  },
  {
   "cell_type": "code",
   "execution_count": 118,
   "metadata": {
    "scrolled": true
   },
   "outputs": [
    {
     "data": {
      "text/plain": [
       "array([[ 2],\n",
       "       [ 7],\n",
       "       [12]])"
      ]
     },
     "execution_count": 118,
     "metadata": {},
     "output_type": "execute_result"
    }
   ],
   "source": [
    "# Your code here\n",
    "mat[:3,1:2]"
   ]
  },
  {
   "cell_type": "code",
   "execution_count": 119,
   "metadata": {},
   "outputs": [
    {
     "data": {
      "text/plain": [
       "array([[ 8, 10],\n",
       "       [13, 15]])"
      ]
     },
     "execution_count": 119,
     "metadata": {},
     "output_type": "execute_result"
    }
   ],
   "source": [
    "# Your code here\n",
    "mat[1:3,2::2]"
   ]
  },
  {
   "cell_type": "code",
   "execution_count": 120,
   "metadata": {},
   "outputs": [
    {
     "data": {
      "text/plain": [
       "array([[16, 17, 18, 19, 20],\n",
       "       [21, 22, 23, 24, 25]])"
      ]
     },
     "execution_count": 120,
     "metadata": {},
     "output_type": "execute_result"
    }
   ],
   "source": [
    "# Your code here\n",
    "mat[3:]"
   ]
  }
 ],
 "metadata": {
  "anaconda-cloud": {},
  "kernelspec": {
   "display_name": "Python 3 (ipykernel)",
   "language": "python",
   "name": "python3"
  },
  "language_info": {
   "codemirror_mode": {
    "name": "ipython",
    "version": 3
   },
   "file_extension": ".py",
   "mimetype": "text/x-python",
   "name": "python",
   "nbconvert_exporter": "python",
   "pygments_lexer": "ipython3",
   "version": "3.10.6"
  }
 },
 "nbformat": 4,
 "nbformat_minor": 4
}
