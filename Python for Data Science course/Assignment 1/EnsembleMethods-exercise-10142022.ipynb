{
 "cells": [
  {
   "cell_type": "markdown",
   "metadata": {},
   "source": [
    "# Ensemble Methods Exercise (5 points)"
   ]
  },
  {
   "cell_type": "markdown",
   "metadata": {},
   "source": [
    "Import the file `planes.csv` from the data folder as a pandas dataframe called features. The dataset has information about different types of airplanes, including the number of tails, year of production, type, manufacturer, model, number of engines, seat, speed, and engine type. \n",
    "\n",
    "In this exercise, we are going to train a classifier to predict the engine type based on the provided information."
   ]
  },
  {
   "cell_type": "code",
   "execution_count": 1,
   "metadata": {},
   "outputs": [
    {
     "data": {
      "text/html": [
       "<div>\n",
       "<style scoped>\n",
       "    .dataframe tbody tr th:only-of-type {\n",
       "        vertical-align: middle;\n",
       "    }\n",
       "\n",
       "    .dataframe tbody tr th {\n",
       "        vertical-align: top;\n",
       "    }\n",
       "\n",
       "    .dataframe thead th {\n",
       "        text-align: right;\n",
       "    }\n",
       "</style>\n",
       "<table border=\"1\" class=\"dataframe\">\n",
       "  <thead>\n",
       "    <tr style=\"text-align: right;\">\n",
       "      <th></th>\n",
       "      <th>tailnum</th>\n",
       "      <th>year</th>\n",
       "      <th>type</th>\n",
       "      <th>manufacturer</th>\n",
       "      <th>model</th>\n",
       "      <th>engines</th>\n",
       "      <th>seats</th>\n",
       "      <th>speed</th>\n",
       "      <th>engine</th>\n",
       "    </tr>\n",
       "  </thead>\n",
       "  <tbody>\n",
       "    <tr>\n",
       "      <th>0</th>\n",
       "      <td>N10156</td>\n",
       "      <td>2004.0</td>\n",
       "      <td>Fixed wing multi engine</td>\n",
       "      <td>EMBRAER</td>\n",
       "      <td>EMB-145XR</td>\n",
       "      <td>2</td>\n",
       "      <td>55</td>\n",
       "      <td>NaN</td>\n",
       "      <td>Turbo-fan</td>\n",
       "    </tr>\n",
       "    <tr>\n",
       "      <th>1</th>\n",
       "      <td>N102UW</td>\n",
       "      <td>1998.0</td>\n",
       "      <td>Fixed wing multi engine</td>\n",
       "      <td>AIRBUS INDUSTRIE</td>\n",
       "      <td>A320-214</td>\n",
       "      <td>2</td>\n",
       "      <td>182</td>\n",
       "      <td>NaN</td>\n",
       "      <td>Turbo-fan</td>\n",
       "    </tr>\n",
       "    <tr>\n",
       "      <th>2</th>\n",
       "      <td>N103US</td>\n",
       "      <td>1999.0</td>\n",
       "      <td>Fixed wing multi engine</td>\n",
       "      <td>AIRBUS INDUSTRIE</td>\n",
       "      <td>A320-214</td>\n",
       "      <td>2</td>\n",
       "      <td>182</td>\n",
       "      <td>NaN</td>\n",
       "      <td>Turbo-fan</td>\n",
       "    </tr>\n",
       "    <tr>\n",
       "      <th>3</th>\n",
       "      <td>N104UW</td>\n",
       "      <td>1999.0</td>\n",
       "      <td>Fixed wing multi engine</td>\n",
       "      <td>AIRBUS INDUSTRIE</td>\n",
       "      <td>A320-214</td>\n",
       "      <td>2</td>\n",
       "      <td>182</td>\n",
       "      <td>NaN</td>\n",
       "      <td>Turbo-fan</td>\n",
       "    </tr>\n",
       "    <tr>\n",
       "      <th>4</th>\n",
       "      <td>N10575</td>\n",
       "      <td>2002.0</td>\n",
       "      <td>Fixed wing multi engine</td>\n",
       "      <td>EMBRAER</td>\n",
       "      <td>EMB-145LR</td>\n",
       "      <td>2</td>\n",
       "      <td>55</td>\n",
       "      <td>NaN</td>\n",
       "      <td>Turbo-fan</td>\n",
       "    </tr>\n",
       "    <tr>\n",
       "      <th>...</th>\n",
       "      <td>...</td>\n",
       "      <td>...</td>\n",
       "      <td>...</td>\n",
       "      <td>...</td>\n",
       "      <td>...</td>\n",
       "      <td>...</td>\n",
       "      <td>...</td>\n",
       "      <td>...</td>\n",
       "      <td>...</td>\n",
       "    </tr>\n",
       "    <tr>\n",
       "      <th>3317</th>\n",
       "      <td>N997AT</td>\n",
       "      <td>2002.0</td>\n",
       "      <td>Fixed wing multi engine</td>\n",
       "      <td>BOEING</td>\n",
       "      <td>717-200</td>\n",
       "      <td>2</td>\n",
       "      <td>100</td>\n",
       "      <td>NaN</td>\n",
       "      <td>Turbo-fan</td>\n",
       "    </tr>\n",
       "    <tr>\n",
       "      <th>3318</th>\n",
       "      <td>N997DL</td>\n",
       "      <td>1992.0</td>\n",
       "      <td>Fixed wing multi engine</td>\n",
       "      <td>MCDONNELL DOUGLAS AIRCRAFT CO</td>\n",
       "      <td>MD-88</td>\n",
       "      <td>2</td>\n",
       "      <td>142</td>\n",
       "      <td>NaN</td>\n",
       "      <td>Turbo-fan</td>\n",
       "    </tr>\n",
       "    <tr>\n",
       "      <th>3319</th>\n",
       "      <td>N998AT</td>\n",
       "      <td>2002.0</td>\n",
       "      <td>Fixed wing multi engine</td>\n",
       "      <td>BOEING</td>\n",
       "      <td>717-200</td>\n",
       "      <td>2</td>\n",
       "      <td>100</td>\n",
       "      <td>NaN</td>\n",
       "      <td>Turbo-fan</td>\n",
       "    </tr>\n",
       "    <tr>\n",
       "      <th>3320</th>\n",
       "      <td>N998DL</td>\n",
       "      <td>1992.0</td>\n",
       "      <td>Fixed wing multi engine</td>\n",
       "      <td>MCDONNELL DOUGLAS CORPORATION</td>\n",
       "      <td>MD-88</td>\n",
       "      <td>2</td>\n",
       "      <td>142</td>\n",
       "      <td>NaN</td>\n",
       "      <td>Turbo-jet</td>\n",
       "    </tr>\n",
       "    <tr>\n",
       "      <th>3321</th>\n",
       "      <td>N999DN</td>\n",
       "      <td>1992.0</td>\n",
       "      <td>Fixed wing multi engine</td>\n",
       "      <td>MCDONNELL DOUGLAS CORPORATION</td>\n",
       "      <td>MD-88</td>\n",
       "      <td>2</td>\n",
       "      <td>142</td>\n",
       "      <td>NaN</td>\n",
       "      <td>Turbo-jet</td>\n",
       "    </tr>\n",
       "  </tbody>\n",
       "</table>\n",
       "<p>3322 rows × 9 columns</p>\n",
       "</div>"
      ],
      "text/plain": [
       "     tailnum    year                     type                   manufacturer  \\\n",
       "0     N10156  2004.0  Fixed wing multi engine                        EMBRAER   \n",
       "1     N102UW  1998.0  Fixed wing multi engine               AIRBUS INDUSTRIE   \n",
       "2     N103US  1999.0  Fixed wing multi engine               AIRBUS INDUSTRIE   \n",
       "3     N104UW  1999.0  Fixed wing multi engine               AIRBUS INDUSTRIE   \n",
       "4     N10575  2002.0  Fixed wing multi engine                        EMBRAER   \n",
       "...      ...     ...                      ...                            ...   \n",
       "3317  N997AT  2002.0  Fixed wing multi engine                         BOEING   \n",
       "3318  N997DL  1992.0  Fixed wing multi engine  MCDONNELL DOUGLAS AIRCRAFT CO   \n",
       "3319  N998AT  2002.0  Fixed wing multi engine                         BOEING   \n",
       "3320  N998DL  1992.0  Fixed wing multi engine  MCDONNELL DOUGLAS CORPORATION   \n",
       "3321  N999DN  1992.0  Fixed wing multi engine  MCDONNELL DOUGLAS CORPORATION   \n",
       "\n",
       "          model  engines  seats  speed     engine  \n",
       "0     EMB-145XR        2     55    NaN  Turbo-fan  \n",
       "1      A320-214        2    182    NaN  Turbo-fan  \n",
       "2      A320-214        2    182    NaN  Turbo-fan  \n",
       "3      A320-214        2    182    NaN  Turbo-fan  \n",
       "4     EMB-145LR        2     55    NaN  Turbo-fan  \n",
       "...         ...      ...    ...    ...        ...  \n",
       "3317    717-200        2    100    NaN  Turbo-fan  \n",
       "3318      MD-88        2    142    NaN  Turbo-fan  \n",
       "3319    717-200        2    100    NaN  Turbo-fan  \n",
       "3320      MD-88        2    142    NaN  Turbo-jet  \n",
       "3321      MD-88        2    142    NaN  Turbo-jet  \n",
       "\n",
       "[3322 rows x 9 columns]"
      ]
     },
     "execution_count": 1,
     "metadata": {},
     "output_type": "execute_result"
    }
   ],
   "source": [
    "# Your code here\n",
    "import numpy as np\n",
    "import pandas as pd\n",
    "import seaborn as sns\n",
    "import matplotlib.pyplot as plt\n",
    "plt.rcParams.update({'font.size': 15})\n",
    "%matplotlib inline\n",
    "pd.option_context('display.max_columns',None)\n",
    "features = pd.read_csv('data/planes.csv')\n",
    "features"
   ]
  },
  {
   "cell_type": "markdown",
   "metadata": {},
   "source": [
    "## Exploratory Data Analysis"
   ]
  },
  {
   "cell_type": "markdown",
   "metadata": {},
   "source": [
    "Perform a brief Exploratory Data Analysis. Display summary statistics, handle missing values (if the number of missing values is less than 100 remove those rows), if needed remove unnecessary columns, check the data distribution, and report if there are correlated features."
   ]
  },
  {
   "cell_type": "code",
   "execution_count": 2,
   "metadata": {
    "scrolled": true
   },
   "outputs": [
    {
     "data": {
      "text/html": [
       "<div>\n",
       "<style scoped>\n",
       "    .dataframe tbody tr th:only-of-type {\n",
       "        vertical-align: middle;\n",
       "    }\n",
       "\n",
       "    .dataframe tbody tr th {\n",
       "        vertical-align: top;\n",
       "    }\n",
       "\n",
       "    .dataframe thead th {\n",
       "        text-align: right;\n",
       "    }\n",
       "</style>\n",
       "<table border=\"1\" class=\"dataframe\">\n",
       "  <thead>\n",
       "    <tr style=\"text-align: right;\">\n",
       "      <th></th>\n",
       "      <th>year</th>\n",
       "      <th>engines</th>\n",
       "      <th>seats</th>\n",
       "      <th>speed</th>\n",
       "    </tr>\n",
       "  </thead>\n",
       "  <tbody>\n",
       "    <tr>\n",
       "      <th>count</th>\n",
       "      <td>3252.000000</td>\n",
       "      <td>3322.000000</td>\n",
       "      <td>3322.000000</td>\n",
       "      <td>23.000000</td>\n",
       "    </tr>\n",
       "    <tr>\n",
       "      <th>mean</th>\n",
       "      <td>2000.484010</td>\n",
       "      <td>1.995184</td>\n",
       "      <td>154.316376</td>\n",
       "      <td>236.782609</td>\n",
       "    </tr>\n",
       "    <tr>\n",
       "      <th>std</th>\n",
       "      <td>7.193425</td>\n",
       "      <td>0.117593</td>\n",
       "      <td>73.654974</td>\n",
       "      <td>149.759794</td>\n",
       "    </tr>\n",
       "    <tr>\n",
       "      <th>min</th>\n",
       "      <td>1956.000000</td>\n",
       "      <td>1.000000</td>\n",
       "      <td>2.000000</td>\n",
       "      <td>90.000000</td>\n",
       "    </tr>\n",
       "    <tr>\n",
       "      <th>25%</th>\n",
       "      <td>1997.000000</td>\n",
       "      <td>2.000000</td>\n",
       "      <td>140.000000</td>\n",
       "      <td>107.500000</td>\n",
       "    </tr>\n",
       "    <tr>\n",
       "      <th>50%</th>\n",
       "      <td>2001.000000</td>\n",
       "      <td>2.000000</td>\n",
       "      <td>149.000000</td>\n",
       "      <td>162.000000</td>\n",
       "    </tr>\n",
       "    <tr>\n",
       "      <th>75%</th>\n",
       "      <td>2005.000000</td>\n",
       "      <td>2.000000</td>\n",
       "      <td>182.000000</td>\n",
       "      <td>432.000000</td>\n",
       "    </tr>\n",
       "    <tr>\n",
       "      <th>max</th>\n",
       "      <td>2013.000000</td>\n",
       "      <td>4.000000</td>\n",
       "      <td>450.000000</td>\n",
       "      <td>432.000000</td>\n",
       "    </tr>\n",
       "  </tbody>\n",
       "</table>\n",
       "</div>"
      ],
      "text/plain": [
       "              year      engines        seats       speed\n",
       "count  3252.000000  3322.000000  3322.000000   23.000000\n",
       "mean   2000.484010     1.995184   154.316376  236.782609\n",
       "std       7.193425     0.117593    73.654974  149.759794\n",
       "min    1956.000000     1.000000     2.000000   90.000000\n",
       "25%    1997.000000     2.000000   140.000000  107.500000\n",
       "50%    2001.000000     2.000000   149.000000  162.000000\n",
       "75%    2005.000000     2.000000   182.000000  432.000000\n",
       "max    2013.000000     4.000000   450.000000  432.000000"
      ]
     },
     "metadata": {},
     "output_type": "display_data"
    },
    {
     "name": "stdout",
     "output_type": "stream",
     "text": [
      "<class 'pandas.core.frame.DataFrame'>\n",
      "RangeIndex: 3322 entries, 0 to 3321\n",
      "Data columns (total 9 columns):\n",
      " #   Column        Non-Null Count  Dtype  \n",
      "---  ------        --------------  -----  \n",
      " 0   tailnum       3322 non-null   object \n",
      " 1   year          3252 non-null   float64\n",
      " 2   type          3322 non-null   object \n",
      " 3   manufacturer  3322 non-null   object \n",
      " 4   model         3322 non-null   object \n",
      " 5   engines       3322 non-null   int64  \n",
      " 6   seats         3322 non-null   int64  \n",
      " 7   speed         23 non-null     float64\n",
      " 8   engine        3322 non-null   object \n",
      "dtypes: float64(2), int64(2), object(5)\n",
      "memory usage: 233.7+ KB\n",
      "None\n",
      "Missing values before\n",
      "tailnum            0\n",
      "year              70\n",
      "type               0\n",
      "manufacturer       0\n",
      "model              0\n",
      "engines            0\n",
      "seats              0\n",
      "speed           3299\n",
      "engine             0\n",
      "dtype: int64\n",
      "Missing values after\n",
      "tailnum            0\n",
      "year               0\n",
      "type               0\n",
      "manufacturer       0\n",
      "model              0\n",
      "engines            0\n",
      "seats              0\n",
      "speed           3229\n",
      "engine             0\n",
      "dtype: int64\n",
      "Missing values before dropping column\n",
      "tailnum            0\n",
      "year               0\n",
      "type               0\n",
      "manufacturer       0\n",
      "model              0\n",
      "engines            0\n",
      "seats              0\n",
      "speed           3229\n",
      "engine             0\n",
      "dtype: int64\n",
      "Missing values after dropping column\n",
      "tailnum         0\n",
      "year            0\n",
      "type            0\n",
      "manufacturer    0\n",
      "model           0\n",
      "engines         0\n",
      "seats           0\n",
      "engine          0\n",
      "dtype: int64\n",
      "Histogram plot of numeric features\n"
     ]
    },
    {
     "data": {
      "image/png": "[encoded data removed]",
      "text/plain": [
       "<Figure size 720x576 with 4 Axes>"
      ]
     },
     "metadata": {
      "needs_background": "light"
     },
     "output_type": "display_data"
    },
    {
     "name": "stdout",
     "output_type": "stream",
     "text": [
      "Bar plot of object features\n"
     ]
    },
    {
     "data": {
      "image/png": "[encoded data removed]",
      "text/plain": [
       "<Figure size 1440x288 with 1 Axes>"
      ]
     },
     "metadata": {
      "needs_background": "light"
     },
     "output_type": "display_data"
    },
    {
     "data": {
      "image/png": "[encoded data removed]",
      "text/plain": [
       "<Figure size 1440x288 with 1 Axes>"
      ]
     },
     "metadata": {
      "needs_background": "light"
     },
     "output_type": "display_data"
    },
    {
     "data": {
      "image/png": "[encoded data removed]",
      "text/plain": [
       "<Figure size 1440x288 with 1 Axes>"
      ]
     },
     "metadata": {
      "needs_background": "light"
     },
     "output_type": "display_data"
    },
    {
     "data": {
      "image/png": "[encoded data removed]",
      "text/plain": [
       "<Figure size 1440x288 with 1 Axes>"
      ]
     },
     "metadata": {
      "needs_background": "light"
     },
     "output_type": "display_data"
    },
    {
     "data": {
      "image/png": "[encoded data removed]",
      "text/plain": [
       "<Figure size 1440x288 with 1 Axes>"
      ]
     },
     "metadata": {
      "needs_background": "light"
     },
     "output_type": "display_data"
    },
    {
     "name": "stdout",
     "output_type": "stream",
     "text": [
      "Correlation map\n"
     ]
    },
    {
     "data": {
      "text/plain": [
       "<AxesSubplot:>"
      ]
     },
     "execution_count": 2,
     "metadata": {},
     "output_type": "execute_result"
    },
    {
     "data": {
      "image/png": "[encoded data removed]",
      "text/plain": [
       "<Figure size 432x288 with 2 Axes>"
      ]
     },
     "metadata": {
      "needs_background": "light"
     },
     "output_type": "display_data"
    }
   ],
   "source": [
    "# Your code here\n",
    "#Displaying summary statistics\n",
    "display(features.describe())\n",
    "#Handling missing values\n",
    "print(features.info())\n",
    "print(\"Missing values before\")\n",
    "print(features.isna().sum())\n",
    "#year has less than 100 missing values so those rows can be removed\n",
    "features.dropna(subset = ['year'], inplace = True)\n",
    "print(\"Missing values after\")\n",
    "print(features.isna().sum())\n",
    "#speed has too many missing values so this column can be dropped\n",
    "print(\"Missing values before dropping column\")\n",
    "print(features.isna().sum())\n",
    "features.drop(columns = ['speed'], inplace = True)\n",
    "print(\"Missing values after dropping column\")\n",
    "print(features.isna().sum())\n",
    "#Data distribution\n",
    "print(\"Histogram plot of numeric features\")\n",
    "features.hist(figsize = (10,8))\n",
    "plt.show()\n",
    "print(\"Bar plot of object features\")\n",
    "for column in features.columns:\n",
    "    if features[column].dtype=='object':\n",
    "        fig = plt.figure(figsize=(20, 4))\n",
    "        features[column].value_counts().plot(kind='bar',x=column)\n",
    "        plt.xlabel(column)\n",
    "        plt.show()\n",
    "#engines seem to have the same value for most of the dataset\n",
    "#Correlation\n",
    "print(\"Correlation map\")\n",
    "sns.heatmap(features.corr(), cmap=\"Greens\", annot=True)\n",
    "#None of the numerical features seem strongly correlated.\n",
    "\n",
    "#Column 'year' should be a python datetime object if we were doing time series analysis\n",
    "#but we are not doing a time series analysis we instead convert it to categorical\n",
    "#not a float to be properly considered by the model.\n",
    "#features['year'] = pd.Categorical(features.year)\n",
    "#print(\"Column types after 'year' has been converted to categorical\")\n",
    "#print(features.info())\n",
    "#display(features)"
   ]
  },
  {
   "cell_type": "markdown",
   "metadata": {},
   "source": [
    "### To avoid the error: \"ValueError: The least populated class in y has only 1 member, which is too few. The minimum number of groups for any class cannot be less than 2.\", We need to drop the rows that only have one value belonging to one category.\n"
   ]
  },
  {
   "cell_type": "code",
   "execution_count": 3,
   "metadata": {},
   "outputs": [],
   "source": [
    "#Remove the row with the category with a single data sample\n",
    "features = features[~(features['engine']=='4 Cycle')]\n",
    "features = features[~(features['engine']=='Turbo-prop')]"
   ]
  },
  {
   "cell_type": "markdown",
   "metadata": {},
   "source": [
    "## Data Preparation"
   ]
  },
  {
   "cell_type": "markdown",
   "metadata": {},
   "source": [
    "Encode the categorical features in the dataset into ordinal features using the Ordinal Encoder, use ordinal encoding with the Label Encoder for the column `engine` as target labels, and normalize the data to the range [0,1]. Display the shape of the data and target."
   ]
  },
  {
   "cell_type": "code",
   "execution_count": 4,
   "metadata": {},
   "outputs": [
    {
     "data": {
      "text/html": [
       "<div>\n",
       "<style scoped>\n",
       "    .dataframe tbody tr th:only-of-type {\n",
       "        vertical-align: middle;\n",
       "    }\n",
       "\n",
       "    .dataframe tbody tr th {\n",
       "        vertical-align: top;\n",
       "    }\n",
       "\n",
       "    .dataframe thead th {\n",
       "        text-align: right;\n",
       "    }\n",
       "</style>\n",
       "<table border=\"1\" class=\"dataframe\">\n",
       "  <thead>\n",
       "    <tr style=\"text-align: right;\">\n",
       "      <th></th>\n",
       "      <th>tailnum</th>\n",
       "      <th>year</th>\n",
       "      <th>type</th>\n",
       "      <th>manufacturer</th>\n",
       "      <th>model</th>\n",
       "      <th>engines</th>\n",
       "      <th>seats</th>\n",
       "      <th>engine</th>\n",
       "    </tr>\n",
       "  </thead>\n",
       "  <tbody>\n",
       "    <tr>\n",
       "      <th>0</th>\n",
       "      <td>N10156</td>\n",
       "      <td>2004.0</td>\n",
       "      <td>Fixed wing multi engine</td>\n",
       "      <td>EMBRAER</td>\n",
       "      <td>EMB-145XR</td>\n",
       "      <td>2</td>\n",
       "      <td>55</td>\n",
       "      <td>Turbo-fan</td>\n",
       "    </tr>\n",
       "    <tr>\n",
       "      <th>1</th>\n",
       "      <td>N102UW</td>\n",
       "      <td>1998.0</td>\n",
       "      <td>Fixed wing multi engine</td>\n",
       "      <td>AIRBUS INDUSTRIE</td>\n",
       "      <td>A320-214</td>\n",
       "      <td>2</td>\n",
       "      <td>182</td>\n",
       "      <td>Turbo-fan</td>\n",
       "    </tr>\n",
       "    <tr>\n",
       "      <th>2</th>\n",
       "      <td>N103US</td>\n",
       "      <td>1999.0</td>\n",
       "      <td>Fixed wing multi engine</td>\n",
       "      <td>AIRBUS INDUSTRIE</td>\n",
       "      <td>A320-214</td>\n",
       "      <td>2</td>\n",
       "      <td>182</td>\n",
       "      <td>Turbo-fan</td>\n",
       "    </tr>\n",
       "    <tr>\n",
       "      <th>3</th>\n",
       "      <td>N104UW</td>\n",
       "      <td>1999.0</td>\n",
       "      <td>Fixed wing multi engine</td>\n",
       "      <td>AIRBUS INDUSTRIE</td>\n",
       "      <td>A320-214</td>\n",
       "      <td>2</td>\n",
       "      <td>182</td>\n",
       "      <td>Turbo-fan</td>\n",
       "    </tr>\n",
       "    <tr>\n",
       "      <th>4</th>\n",
       "      <td>N10575</td>\n",
       "      <td>2002.0</td>\n",
       "      <td>Fixed wing multi engine</td>\n",
       "      <td>EMBRAER</td>\n",
       "      <td>EMB-145LR</td>\n",
       "      <td>2</td>\n",
       "      <td>55</td>\n",
       "      <td>Turbo-fan</td>\n",
       "    </tr>\n",
       "    <tr>\n",
       "      <th>...</th>\n",
       "      <td>...</td>\n",
       "      <td>...</td>\n",
       "      <td>...</td>\n",
       "      <td>...</td>\n",
       "      <td>...</td>\n",
       "      <td>...</td>\n",
       "      <td>...</td>\n",
       "      <td>...</td>\n",
       "    </tr>\n",
       "    <tr>\n",
       "      <th>3317</th>\n",
       "      <td>N997AT</td>\n",
       "      <td>2002.0</td>\n",
       "      <td>Fixed wing multi engine</td>\n",
       "      <td>BOEING</td>\n",
       "      <td>717-200</td>\n",
       "      <td>2</td>\n",
       "      <td>100</td>\n",
       "      <td>Turbo-fan</td>\n",
       "    </tr>\n",
       "    <tr>\n",
       "      <th>3318</th>\n",
       "      <td>N997DL</td>\n",
       "      <td>1992.0</td>\n",
       "      <td>Fixed wing multi engine</td>\n",
       "      <td>MCDONNELL DOUGLAS AIRCRAFT CO</td>\n",
       "      <td>MD-88</td>\n",
       "      <td>2</td>\n",
       "      <td>142</td>\n",
       "      <td>Turbo-fan</td>\n",
       "    </tr>\n",
       "    <tr>\n",
       "      <th>3319</th>\n",
       "      <td>N998AT</td>\n",
       "      <td>2002.0</td>\n",
       "      <td>Fixed wing multi engine</td>\n",
       "      <td>BOEING</td>\n",
       "      <td>717-200</td>\n",
       "      <td>2</td>\n",
       "      <td>100</td>\n",
       "      <td>Turbo-fan</td>\n",
       "    </tr>\n",
       "    <tr>\n",
       "      <th>3320</th>\n",
       "      <td>N998DL</td>\n",
       "      <td>1992.0</td>\n",
       "      <td>Fixed wing multi engine</td>\n",
       "      <td>MCDONNELL DOUGLAS CORPORATION</td>\n",
       "      <td>MD-88</td>\n",
       "      <td>2</td>\n",
       "      <td>142</td>\n",
       "      <td>Turbo-jet</td>\n",
       "    </tr>\n",
       "    <tr>\n",
       "      <th>3321</th>\n",
       "      <td>N999DN</td>\n",
       "      <td>1992.0</td>\n",
       "      <td>Fixed wing multi engine</td>\n",
       "      <td>MCDONNELL DOUGLAS CORPORATION</td>\n",
       "      <td>MD-88</td>\n",
       "      <td>2</td>\n",
       "      <td>142</td>\n",
       "      <td>Turbo-jet</td>\n",
       "    </tr>\n",
       "  </tbody>\n",
       "</table>\n",
       "<p>3249 rows × 8 columns</p>\n",
       "</div>"
      ],
      "text/plain": [
       "     tailnum    year                     type                   manufacturer  \\\n",
       "0     N10156  2004.0  Fixed wing multi engine                        EMBRAER   \n",
       "1     N102UW  1998.0  Fixed wing multi engine               AIRBUS INDUSTRIE   \n",
       "2     N103US  1999.0  Fixed wing multi engine               AIRBUS INDUSTRIE   \n",
       "3     N104UW  1999.0  Fixed wing multi engine               AIRBUS INDUSTRIE   \n",
       "4     N10575  2002.0  Fixed wing multi engine                        EMBRAER   \n",
       "...      ...     ...                      ...                            ...   \n",
       "3317  N997AT  2002.0  Fixed wing multi engine                         BOEING   \n",
       "3318  N997DL  1992.0  Fixed wing multi engine  MCDONNELL DOUGLAS AIRCRAFT CO   \n",
       "3319  N998AT  2002.0  Fixed wing multi engine                         BOEING   \n",
       "3320  N998DL  1992.0  Fixed wing multi engine  MCDONNELL DOUGLAS CORPORATION   \n",
       "3321  N999DN  1992.0  Fixed wing multi engine  MCDONNELL DOUGLAS CORPORATION   \n",
       "\n",
       "          model  engines  seats     engine  \n",
       "0     EMB-145XR        2     55  Turbo-fan  \n",
       "1      A320-214        2    182  Turbo-fan  \n",
       "2      A320-214        2    182  Turbo-fan  \n",
       "3      A320-214        2    182  Turbo-fan  \n",
       "4     EMB-145LR        2     55  Turbo-fan  \n",
       "...         ...      ...    ...        ...  \n",
       "3317    717-200        2    100  Turbo-fan  \n",
       "3318      MD-88        2    142  Turbo-fan  \n",
       "3319    717-200        2    100  Turbo-fan  \n",
       "3320      MD-88        2    142  Turbo-jet  \n",
       "3321      MD-88        2    142  Turbo-jet  \n",
       "\n",
       "[3249 rows x 8 columns]"
      ]
     },
     "metadata": {},
     "output_type": "display_data"
    },
    {
     "name": "stdout",
     "output_type": "stream",
     "text": [
      "<class 'pandas.core.frame.DataFrame'>\n",
      "Int64Index: 3249 entries, 0 to 3321\n",
      "Data columns (total 8 columns):\n",
      " #   Column        Non-Null Count  Dtype  \n",
      "---  ------        --------------  -----  \n",
      " 0   tailnum       3249 non-null   object \n",
      " 1   year          3249 non-null   float64\n",
      " 2   type          3249 non-null   object \n",
      " 3   manufacturer  3249 non-null   object \n",
      " 4   model         3249 non-null   object \n",
      " 5   engines       3249 non-null   int64  \n",
      " 6   seats         3249 non-null   int64  \n",
      " 7   engine        3249 non-null   object \n",
      "dtypes: float64(1), int64(2), object(5)\n",
      "memory usage: 228.4+ KB\n",
      "None\n"
     ]
    },
    {
     "data": {
      "text/plain": [
       "Turbo-fan        2697\n",
       "Turbo-jet         526\n",
       "Reciprocating      21\n",
       "Turbo-shaft         5\n",
       "Name: engine, dtype: int64"
      ]
     },
     "execution_count": 4,
     "metadata": {},
     "output_type": "execute_result"
    }
   ],
   "source": [
    "display(features)\n",
    "print(features.info())\n",
    "features['engine'].value_counts()"
   ]
  },
  {
   "cell_type": "code",
   "execution_count": 5,
   "metadata": {},
   "outputs": [
    {
     "name": "stdout",
     "output_type": "stream",
     "text": [
      "Before applying ordinal encoder on data\n"
     ]
    },
    {
     "data": {
      "text/html": [
       "<div>\n",
       "<style scoped>\n",
       "    .dataframe tbody tr th:only-of-type {\n",
       "        vertical-align: middle;\n",
       "    }\n",
       "\n",
       "    .dataframe tbody tr th {\n",
       "        vertical-align: top;\n",
       "    }\n",
       "\n",
       "    .dataframe thead th {\n",
       "        text-align: right;\n",
       "    }\n",
       "</style>\n",
       "<table border=\"1\" class=\"dataframe\">\n",
       "  <thead>\n",
       "    <tr style=\"text-align: right;\">\n",
       "      <th></th>\n",
       "      <th>tailnum</th>\n",
       "      <th>year</th>\n",
       "      <th>type</th>\n",
       "      <th>manufacturer</th>\n",
       "      <th>model</th>\n",
       "      <th>engines</th>\n",
       "      <th>seats</th>\n",
       "      <th>engine</th>\n",
       "    </tr>\n",
       "  </thead>\n",
       "  <tbody>\n",
       "    <tr>\n",
       "      <th>0</th>\n",
       "      <td>N10156</td>\n",
       "      <td>2004.0</td>\n",
       "      <td>Fixed wing multi engine</td>\n",
       "      <td>EMBRAER</td>\n",
       "      <td>EMB-145XR</td>\n",
       "      <td>2</td>\n",
       "      <td>55</td>\n",
       "      <td>Turbo-fan</td>\n",
       "    </tr>\n",
       "    <tr>\n",
       "      <th>1</th>\n",
       "      <td>N102UW</td>\n",
       "      <td>1998.0</td>\n",
       "      <td>Fixed wing multi engine</td>\n",
       "      <td>AIRBUS INDUSTRIE</td>\n",
       "      <td>A320-214</td>\n",
       "      <td>2</td>\n",
       "      <td>182</td>\n",
       "      <td>Turbo-fan</td>\n",
       "    </tr>\n",
       "    <tr>\n",
       "      <th>2</th>\n",
       "      <td>N103US</td>\n",
       "      <td>1999.0</td>\n",
       "      <td>Fixed wing multi engine</td>\n",
       "      <td>AIRBUS INDUSTRIE</td>\n",
       "      <td>A320-214</td>\n",
       "      <td>2</td>\n",
       "      <td>182</td>\n",
       "      <td>Turbo-fan</td>\n",
       "    </tr>\n",
       "    <tr>\n",
       "      <th>3</th>\n",
       "      <td>N104UW</td>\n",
       "      <td>1999.0</td>\n",
       "      <td>Fixed wing multi engine</td>\n",
       "      <td>AIRBUS INDUSTRIE</td>\n",
       "      <td>A320-214</td>\n",
       "      <td>2</td>\n",
       "      <td>182</td>\n",
       "      <td>Turbo-fan</td>\n",
       "    </tr>\n",
       "    <tr>\n",
       "      <th>4</th>\n",
       "      <td>N10575</td>\n",
       "      <td>2002.0</td>\n",
       "      <td>Fixed wing multi engine</td>\n",
       "      <td>EMBRAER</td>\n",
       "      <td>EMB-145LR</td>\n",
       "      <td>2</td>\n",
       "      <td>55</td>\n",
       "      <td>Turbo-fan</td>\n",
       "    </tr>\n",
       "  </tbody>\n",
       "</table>\n",
       "</div>"
      ],
      "text/plain": [
       "  tailnum    year                     type      manufacturer      model  \\\n",
       "0  N10156  2004.0  Fixed wing multi engine           EMBRAER  EMB-145XR   \n",
       "1  N102UW  1998.0  Fixed wing multi engine  AIRBUS INDUSTRIE   A320-214   \n",
       "2  N103US  1999.0  Fixed wing multi engine  AIRBUS INDUSTRIE   A320-214   \n",
       "3  N104UW  1999.0  Fixed wing multi engine  AIRBUS INDUSTRIE   A320-214   \n",
       "4  N10575  2002.0  Fixed wing multi engine           EMBRAER  EMB-145LR   \n",
       "\n",
       "   engines  seats     engine  \n",
       "0        2     55  Turbo-fan  \n",
       "1        2    182  Turbo-fan  \n",
       "2        2    182  Turbo-fan  \n",
       "3        2    182  Turbo-fan  \n",
       "4        2     55  Turbo-fan  "
      ]
     },
     "metadata": {},
     "output_type": "display_data"
    },
    {
     "name": "stdout",
     "output_type": "stream",
     "text": [
      "Columns on which Ordnial encoder is applied: ['tailnum', 'type', 'manufacturer', 'model']\n",
      "After applying ordinal encoder on data\n"
     ]
    },
    {
     "data": {
      "text/html": [
       "<div>\n",
       "<style scoped>\n",
       "    .dataframe tbody tr th:only-of-type {\n",
       "        vertical-align: middle;\n",
       "    }\n",
       "\n",
       "    .dataframe tbody tr th {\n",
       "        vertical-align: top;\n",
       "    }\n",
       "\n",
       "    .dataframe thead th {\n",
       "        text-align: right;\n",
       "    }\n",
       "</style>\n",
       "<table border=\"1\" class=\"dataframe\">\n",
       "  <thead>\n",
       "    <tr style=\"text-align: right;\">\n",
       "      <th></th>\n",
       "      <th>tailnum</th>\n",
       "      <th>year</th>\n",
       "      <th>type</th>\n",
       "      <th>manufacturer</th>\n",
       "      <th>model</th>\n",
       "      <th>engines</th>\n",
       "      <th>seats</th>\n",
       "      <th>engine</th>\n",
       "    </tr>\n",
       "  </thead>\n",
       "  <tbody>\n",
       "    <tr>\n",
       "      <th>0</th>\n",
       "      <td>0.0</td>\n",
       "      <td>2004.0</td>\n",
       "      <td>0.0</td>\n",
       "      <td>14.0</td>\n",
       "      <td>99.0</td>\n",
       "      <td>2</td>\n",
       "      <td>55</td>\n",
       "      <td>Turbo-fan</td>\n",
       "    </tr>\n",
       "    <tr>\n",
       "      <th>1</th>\n",
       "      <td>1.0</td>\n",
       "      <td>1998.0</td>\n",
       "      <td>0.0</td>\n",
       "      <td>2.0</td>\n",
       "      <td>81.0</td>\n",
       "      <td>2</td>\n",
       "      <td>182</td>\n",
       "      <td>Turbo-fan</td>\n",
       "    </tr>\n",
       "    <tr>\n",
       "      <th>2</th>\n",
       "      <td>2.0</td>\n",
       "      <td>1999.0</td>\n",
       "      <td>0.0</td>\n",
       "      <td>2.0</td>\n",
       "      <td>81.0</td>\n",
       "      <td>2</td>\n",
       "      <td>182</td>\n",
       "      <td>Turbo-fan</td>\n",
       "    </tr>\n",
       "    <tr>\n",
       "      <th>3</th>\n",
       "      <td>3.0</td>\n",
       "      <td>1999.0</td>\n",
       "      <td>0.0</td>\n",
       "      <td>2.0</td>\n",
       "      <td>81.0</td>\n",
       "      <td>2</td>\n",
       "      <td>182</td>\n",
       "      <td>Turbo-fan</td>\n",
       "    </tr>\n",
       "    <tr>\n",
       "      <th>4</th>\n",
       "      <td>4.0</td>\n",
       "      <td>2002.0</td>\n",
       "      <td>0.0</td>\n",
       "      <td>14.0</td>\n",
       "      <td>98.0</td>\n",
       "      <td>2</td>\n",
       "      <td>55</td>\n",
       "      <td>Turbo-fan</td>\n",
       "    </tr>\n",
       "  </tbody>\n",
       "</table>\n",
       "</div>"
      ],
      "text/plain": [
       "   tailnum    year  type  manufacturer  model  engines  seats     engine\n",
       "0      0.0  2004.0   0.0          14.0   99.0        2     55  Turbo-fan\n",
       "1      1.0  1998.0   0.0           2.0   81.0        2    182  Turbo-fan\n",
       "2      2.0  1999.0   0.0           2.0   81.0        2    182  Turbo-fan\n",
       "3      3.0  1999.0   0.0           2.0   81.0        2    182  Turbo-fan\n",
       "4      4.0  2002.0   0.0          14.0   98.0        2     55  Turbo-fan"
      ]
     },
     "metadata": {},
     "output_type": "display_data"
    },
    {
     "name": "stdout",
     "output_type": "stream",
     "text": [
      "Before applying Label encoder on data\n"
     ]
    },
    {
     "name": "stderr",
     "output_type": "stream",
     "text": [
      "/usr/lib/python3/dist-packages/sklearn/utils/validation.py:72: DataConversionWarning: A column-vector y was passed when a 1d array was expected. Please change the shape of y to (n_samples, ), for example using ravel().\n",
      "  return f(**kwargs)\n"
     ]
    },
    {
     "data": {
      "text/plain": [
       "0    Turbo-fan\n",
       "1    Turbo-fan\n",
       "2    Turbo-fan\n",
       "3    Turbo-fan\n",
       "4    Turbo-fan\n",
       "Name: engine, dtype: object"
      ]
     },
     "metadata": {},
     "output_type": "display_data"
    },
    {
     "name": "stdout",
     "output_type": "stream",
     "text": [
      "Columns on which Ordnial encoder is applied: ['engine']\n",
      "After Label encoder on target\n"
     ]
    },
    {
     "data": {
      "text/plain": [
       "0    1\n",
       "1    1\n",
       "2    1\n",
       "3    1\n",
       "4    1\n",
       "Name: engine, dtype: int64"
      ]
     },
     "metadata": {},
     "output_type": "display_data"
    },
    {
     "name": "stdout",
     "output_type": "stream",
     "text": [
      "Data X and y are separated:\n"
     ]
    },
    {
     "data": {
      "text/html": [
       "<div>\n",
       "<style scoped>\n",
       "    .dataframe tbody tr th:only-of-type {\n",
       "        vertical-align: middle;\n",
       "    }\n",
       "\n",
       "    .dataframe tbody tr th {\n",
       "        vertical-align: top;\n",
       "    }\n",
       "\n",
       "    .dataframe thead th {\n",
       "        text-align: right;\n",
       "    }\n",
       "</style>\n",
       "<table border=\"1\" class=\"dataframe\">\n",
       "  <thead>\n",
       "    <tr style=\"text-align: right;\">\n",
       "      <th></th>\n",
       "      <th>tailnum</th>\n",
       "      <th>year</th>\n",
       "      <th>type</th>\n",
       "      <th>manufacturer</th>\n",
       "      <th>model</th>\n",
       "      <th>engines</th>\n",
       "      <th>seats</th>\n",
       "    </tr>\n",
       "  </thead>\n",
       "  <tbody>\n",
       "    <tr>\n",
       "      <th>0</th>\n",
       "      <td>0.0</td>\n",
       "      <td>2004.0</td>\n",
       "      <td>0.0</td>\n",
       "      <td>14.0</td>\n",
       "      <td>99.0</td>\n",
       "      <td>2</td>\n",
       "      <td>55</td>\n",
       "    </tr>\n",
       "    <tr>\n",
       "      <th>1</th>\n",
       "      <td>1.0</td>\n",
       "      <td>1998.0</td>\n",
       "      <td>0.0</td>\n",
       "      <td>2.0</td>\n",
       "      <td>81.0</td>\n",
       "      <td>2</td>\n",
       "      <td>182</td>\n",
       "    </tr>\n",
       "    <tr>\n",
       "      <th>2</th>\n",
       "      <td>2.0</td>\n",
       "      <td>1999.0</td>\n",
       "      <td>0.0</td>\n",
       "      <td>2.0</td>\n",
       "      <td>81.0</td>\n",
       "      <td>2</td>\n",
       "      <td>182</td>\n",
       "    </tr>\n",
       "    <tr>\n",
       "      <th>3</th>\n",
       "      <td>3.0</td>\n",
       "      <td>1999.0</td>\n",
       "      <td>0.0</td>\n",
       "      <td>2.0</td>\n",
       "      <td>81.0</td>\n",
       "      <td>2</td>\n",
       "      <td>182</td>\n",
       "    </tr>\n",
       "    <tr>\n",
       "      <th>4</th>\n",
       "      <td>4.0</td>\n",
       "      <td>2002.0</td>\n",
       "      <td>0.0</td>\n",
       "      <td>14.0</td>\n",
       "      <td>98.0</td>\n",
       "      <td>2</td>\n",
       "      <td>55</td>\n",
       "    </tr>\n",
       "    <tr>\n",
       "      <th>...</th>\n",
       "      <td>...</td>\n",
       "      <td>...</td>\n",
       "      <td>...</td>\n",
       "      <td>...</td>\n",
       "      <td>...</td>\n",
       "      <td>...</td>\n",
       "      <td>...</td>\n",
       "    </tr>\n",
       "    <tr>\n",
       "      <th>3317</th>\n",
       "      <td>3244.0</td>\n",
       "      <td>2002.0</td>\n",
       "      <td>0.0</td>\n",
       "      <td>6.0</td>\n",
       "      <td>9.0</td>\n",
       "      <td>2</td>\n",
       "      <td>100</td>\n",
       "    </tr>\n",
       "    <tr>\n",
       "      <th>3318</th>\n",
       "      <td>3245.0</td>\n",
       "      <td>1992.0</td>\n",
       "      <td>0.0</td>\n",
       "      <td>21.0</td>\n",
       "      <td>106.0</td>\n",
       "      <td>2</td>\n",
       "      <td>142</td>\n",
       "    </tr>\n",
       "    <tr>\n",
       "      <th>3319</th>\n",
       "      <td>3246.0</td>\n",
       "      <td>2002.0</td>\n",
       "      <td>0.0</td>\n",
       "      <td>6.0</td>\n",
       "      <td>9.0</td>\n",
       "      <td>2</td>\n",
       "      <td>100</td>\n",
       "    </tr>\n",
       "    <tr>\n",
       "      <th>3320</th>\n",
       "      <td>3247.0</td>\n",
       "      <td>1992.0</td>\n",
       "      <td>0.0</td>\n",
       "      <td>22.0</td>\n",
       "      <td>106.0</td>\n",
       "      <td>2</td>\n",
       "      <td>142</td>\n",
       "    </tr>\n",
       "    <tr>\n",
       "      <th>3321</th>\n",
       "      <td>3248.0</td>\n",
       "      <td>1992.0</td>\n",
       "      <td>0.0</td>\n",
       "      <td>22.0</td>\n",
       "      <td>106.0</td>\n",
       "      <td>2</td>\n",
       "      <td>142</td>\n",
       "    </tr>\n",
       "  </tbody>\n",
       "</table>\n",
       "<p>3249 rows × 7 columns</p>\n",
       "</div>"
      ],
      "text/plain": [
       "      tailnum    year  type  manufacturer  model  engines  seats\n",
       "0         0.0  2004.0   0.0          14.0   99.0        2     55\n",
       "1         1.0  1998.0   0.0           2.0   81.0        2    182\n",
       "2         2.0  1999.0   0.0           2.0   81.0        2    182\n",
       "3         3.0  1999.0   0.0           2.0   81.0        2    182\n",
       "4         4.0  2002.0   0.0          14.0   98.0        2     55\n",
       "...       ...     ...   ...           ...    ...      ...    ...\n",
       "3317   3244.0  2002.0   0.0           6.0    9.0        2    100\n",
       "3318   3245.0  1992.0   0.0          21.0  106.0        2    142\n",
       "3319   3246.0  2002.0   0.0           6.0    9.0        2    100\n",
       "3320   3247.0  1992.0   0.0          22.0  106.0        2    142\n",
       "3321   3248.0  1992.0   0.0          22.0  106.0        2    142\n",
       "\n",
       "[3249 rows x 7 columns]"
      ]
     },
     "metadata": {},
     "output_type": "display_data"
    },
    {
     "name": "stdout",
     "output_type": "stream",
     "text": [
      "Target\n"
     ]
    },
    {
     "data": {
      "text/plain": [
       "0       1\n",
       "1       1\n",
       "2       1\n",
       "3       1\n",
       "4       1\n",
       "       ..\n",
       "3317    1\n",
       "3318    1\n",
       "3319    1\n",
       "3320    2\n",
       "3321    2\n",
       "Name: engine, Length: 3249, dtype: int64"
      ]
     },
     "metadata": {},
     "output_type": "display_data"
    },
    {
     "name": "stdout",
     "output_type": "stream",
     "text": [
      "counts= 1    2697\n",
      "2     526\n",
      "0      21\n",
      "3       5\n",
      "Name: engine, dtype: int64\n",
      "Statistics before Normalization\n"
     ]
    },
    {
     "data": {
      "text/html": [
       "<div>\n",
       "<style scoped>\n",
       "    .dataframe tbody tr th:only-of-type {\n",
       "        vertical-align: middle;\n",
       "    }\n",
       "\n",
       "    .dataframe tbody tr th {\n",
       "        vertical-align: top;\n",
       "    }\n",
       "\n",
       "    .dataframe thead th {\n",
       "        text-align: right;\n",
       "    }\n",
       "</style>\n",
       "<table border=\"1\" class=\"dataframe\">\n",
       "  <thead>\n",
       "    <tr style=\"text-align: right;\">\n",
       "      <th></th>\n",
       "      <th>tailnum</th>\n",
       "      <th>year</th>\n",
       "      <th>type</th>\n",
       "      <th>manufacturer</th>\n",
       "      <th>model</th>\n",
       "      <th>engines</th>\n",
       "      <th>seats</th>\n",
       "    </tr>\n",
       "  </thead>\n",
       "  <tbody>\n",
       "    <tr>\n",
       "      <th>count</th>\n",
       "      <td>3249.000000</td>\n",
       "      <td>3249.000000</td>\n",
       "      <td>3249.000000</td>\n",
       "      <td>3249.000000</td>\n",
       "      <td>3249.000000</td>\n",
       "      <td>3249.000000</td>\n",
       "      <td>3249.000000</td>\n",
       "    </tr>\n",
       "    <tr>\n",
       "      <th>mean</th>\n",
       "      <td>1624.000000</td>\n",
       "      <td>2000.510926</td>\n",
       "      <td>0.008002</td>\n",
       "      <td>6.973838</td>\n",
       "      <td>63.563558</td>\n",
       "      <td>1.997230</td>\n",
       "      <td>154.899046</td>\n",
       "    </tr>\n",
       "    <tr>\n",
       "      <th>std</th>\n",
       "      <td>938.049839</td>\n",
       "      <td>7.141253</td>\n",
       "      <td>0.104975</td>\n",
       "      <td>5.071738</td>\n",
       "      <td>29.052521</td>\n",
       "      <td>0.100759</td>\n",
       "      <td>73.212826</td>\n",
       "    </tr>\n",
       "    <tr>\n",
       "      <th>min</th>\n",
       "      <td>0.000000</td>\n",
       "      <td>1956.000000</td>\n",
       "      <td>0.000000</td>\n",
       "      <td>0.000000</td>\n",
       "      <td>0.000000</td>\n",
       "      <td>1.000000</td>\n",
       "      <td>2.000000</td>\n",
       "    </tr>\n",
       "    <tr>\n",
       "      <th>25%</th>\n",
       "      <td>812.000000</td>\n",
       "      <td>1997.000000</td>\n",
       "      <td>0.000000</td>\n",
       "      <td>6.000000</td>\n",
       "      <td>34.000000</td>\n",
       "      <td>2.000000</td>\n",
       "      <td>140.000000</td>\n",
       "    </tr>\n",
       "    <tr>\n",
       "      <th>50%</th>\n",
       "      <td>1624.000000</td>\n",
       "      <td>2001.000000</td>\n",
       "      <td>0.000000</td>\n",
       "      <td>6.000000</td>\n",
       "      <td>74.000000</td>\n",
       "      <td>2.000000</td>\n",
       "      <td>149.000000</td>\n",
       "    </tr>\n",
       "    <tr>\n",
       "      <th>75%</th>\n",
       "      <td>2436.000000</td>\n",
       "      <td>2005.000000</td>\n",
       "      <td>0.000000</td>\n",
       "      <td>7.000000</td>\n",
       "      <td>90.000000</td>\n",
       "      <td>2.000000</td>\n",
       "      <td>182.000000</td>\n",
       "    </tr>\n",
       "    <tr>\n",
       "      <th>max</th>\n",
       "      <td>3248.000000</td>\n",
       "      <td>2013.000000</td>\n",
       "      <td>2.000000</td>\n",
       "      <td>26.000000</td>\n",
       "      <td>117.000000</td>\n",
       "      <td>4.000000</td>\n",
       "      <td>450.000000</td>\n",
       "    </tr>\n",
       "  </tbody>\n",
       "</table>\n",
       "</div>"
      ],
      "text/plain": [
       "           tailnum         year         type  manufacturer        model  \\\n",
       "count  3249.000000  3249.000000  3249.000000   3249.000000  3249.000000   \n",
       "mean   1624.000000  2000.510926     0.008002      6.973838    63.563558   \n",
       "std     938.049839     7.141253     0.104975      5.071738    29.052521   \n",
       "min       0.000000  1956.000000     0.000000      0.000000     0.000000   \n",
       "25%     812.000000  1997.000000     0.000000      6.000000    34.000000   \n",
       "50%    1624.000000  2001.000000     0.000000      6.000000    74.000000   \n",
       "75%    2436.000000  2005.000000     0.000000      7.000000    90.000000   \n",
       "max    3248.000000  2013.000000     2.000000     26.000000   117.000000   \n",
       "\n",
       "           engines        seats  \n",
       "count  3249.000000  3249.000000  \n",
       "mean      1.997230   154.899046  \n",
       "std       0.100759    73.212826  \n",
       "min       1.000000     2.000000  \n",
       "25%       2.000000   140.000000  \n",
       "50%       2.000000   149.000000  \n",
       "75%       2.000000   182.000000  \n",
       "max       4.000000   450.000000  "
      ]
     },
     "metadata": {},
     "output_type": "display_data"
    },
    {
     "name": "stdout",
     "output_type": "stream",
     "text": [
      "Statistics after Normalization\n"
     ]
    },
    {
     "data": {
      "text/html": [
       "<div>\n",
       "<style scoped>\n",
       "    .dataframe tbody tr th:only-of-type {\n",
       "        vertical-align: middle;\n",
       "    }\n",
       "\n",
       "    .dataframe tbody tr th {\n",
       "        vertical-align: top;\n",
       "    }\n",
       "\n",
       "    .dataframe thead th {\n",
       "        text-align: right;\n",
       "    }\n",
       "</style>\n",
       "<table border=\"1\" class=\"dataframe\">\n",
       "  <thead>\n",
       "    <tr style=\"text-align: right;\">\n",
       "      <th></th>\n",
       "      <th>tailnum</th>\n",
       "      <th>year</th>\n",
       "      <th>type</th>\n",
       "      <th>manufacturer</th>\n",
       "      <th>model</th>\n",
       "      <th>engines</th>\n",
       "      <th>seats</th>\n",
       "    </tr>\n",
       "  </thead>\n",
       "  <tbody>\n",
       "    <tr>\n",
       "      <th>count</th>\n",
       "      <td>3249.000000</td>\n",
       "      <td>3249.000000</td>\n",
       "      <td>3249.000000</td>\n",
       "      <td>3249.000000</td>\n",
       "      <td>3249.000000</td>\n",
       "      <td>3249.000000</td>\n",
       "      <td>3249.000000</td>\n",
       "    </tr>\n",
       "    <tr>\n",
       "      <th>mean</th>\n",
       "      <td>0.500000</td>\n",
       "      <td>0.780893</td>\n",
       "      <td>0.004001</td>\n",
       "      <td>0.268225</td>\n",
       "      <td>0.543278</td>\n",
       "      <td>0.332410</td>\n",
       "      <td>0.341293</td>\n",
       "    </tr>\n",
       "    <tr>\n",
       "      <th>std</th>\n",
       "      <td>0.288808</td>\n",
       "      <td>0.125285</td>\n",
       "      <td>0.052487</td>\n",
       "      <td>0.195067</td>\n",
       "      <td>0.248312</td>\n",
       "      <td>0.033586</td>\n",
       "      <td>0.163421</td>\n",
       "    </tr>\n",
       "    <tr>\n",
       "      <th>min</th>\n",
       "      <td>0.000000</td>\n",
       "      <td>0.000000</td>\n",
       "      <td>0.000000</td>\n",
       "      <td>0.000000</td>\n",
       "      <td>0.000000</td>\n",
       "      <td>0.000000</td>\n",
       "      <td>0.000000</td>\n",
       "    </tr>\n",
       "    <tr>\n",
       "      <th>25%</th>\n",
       "      <td>0.250000</td>\n",
       "      <td>0.719298</td>\n",
       "      <td>0.000000</td>\n",
       "      <td>0.230769</td>\n",
       "      <td>0.290598</td>\n",
       "      <td>0.333333</td>\n",
       "      <td>0.308036</td>\n",
       "    </tr>\n",
       "    <tr>\n",
       "      <th>50%</th>\n",
       "      <td>0.500000</td>\n",
       "      <td>0.789474</td>\n",
       "      <td>0.000000</td>\n",
       "      <td>0.230769</td>\n",
       "      <td>0.632479</td>\n",
       "      <td>0.333333</td>\n",
       "      <td>0.328125</td>\n",
       "    </tr>\n",
       "    <tr>\n",
       "      <th>75%</th>\n",
       "      <td>0.750000</td>\n",
       "      <td>0.859649</td>\n",
       "      <td>0.000000</td>\n",
       "      <td>0.269231</td>\n",
       "      <td>0.769231</td>\n",
       "      <td>0.333333</td>\n",
       "      <td>0.401786</td>\n",
       "    </tr>\n",
       "    <tr>\n",
       "      <th>max</th>\n",
       "      <td>1.000000</td>\n",
       "      <td>1.000000</td>\n",
       "      <td>1.000000</td>\n",
       "      <td>1.000000</td>\n",
       "      <td>1.000000</td>\n",
       "      <td>1.000000</td>\n",
       "      <td>1.000000</td>\n",
       "    </tr>\n",
       "  </tbody>\n",
       "</table>\n",
       "</div>"
      ],
      "text/plain": [
       "           tailnum         year         type  manufacturer        model  \\\n",
       "count  3249.000000  3249.000000  3249.000000   3249.000000  3249.000000   \n",
       "mean      0.500000     0.780893     0.004001      0.268225     0.543278   \n",
       "std       0.288808     0.125285     0.052487      0.195067     0.248312   \n",
       "min       0.000000     0.000000     0.000000      0.000000     0.000000   \n",
       "25%       0.250000     0.719298     0.000000      0.230769     0.290598   \n",
       "50%       0.500000     0.789474     0.000000      0.230769     0.632479   \n",
       "75%       0.750000     0.859649     0.000000      0.269231     0.769231   \n",
       "max       1.000000     1.000000     1.000000      1.000000     1.000000   \n",
       "\n",
       "           engines        seats  \n",
       "count  3249.000000  3249.000000  \n",
       "mean      0.332410     0.341293  \n",
       "std       0.033586     0.163421  \n",
       "min       0.000000     0.000000  \n",
       "25%       0.333333     0.308036  \n",
       "50%       0.333333     0.328125  \n",
       "75%       0.333333     0.401786  \n",
       "max       1.000000     1.000000  "
      ]
     },
     "metadata": {},
     "output_type": "display_data"
    }
   ],
   "source": [
    "# Your code here\n",
    "#Ordinal Encoder is applied on data X\n",
    "from sklearn.preprocessing import OrdinalEncoder\n",
    "categs_feats = features[['tailnum', 'type', 'manufacturer', 'model']]\n",
    "encoder = OrdinalEncoder()\n",
    "categs_encoded = encoder.fit_transform(categs_feats)\n",
    "print(\"Before applying ordinal encoder on data\")\n",
    "display(features.head())\n",
    "print(\"Columns on which Ordnial encoder is applied: ['tailnum', 'type', 'manufacturer', 'model']\")\n",
    "features[['tailnum', 'type', 'manufacturer', 'model']] = pd.DataFrame(categs_encoded, columns=categs_feats.columns, index=categs_feats.index)\n",
    "print(\"After applying ordinal encoder on data\")\n",
    "display(features.head())\n",
    "\n",
    "#Label Encoder is applied on the target variable y\n",
    "from sklearn.preprocessing import LabelEncoder\n",
    "embtown_feat = features[['engine']]\n",
    "label_encoder = LabelEncoder()\n",
    "embtown_encoded = label_encoder.fit_transform(embtown_feat)\n",
    "print(\"Before applying Label encoder on data\")\n",
    "display(features['engine'].head())\n",
    "print(\"Columns on which Ordnial encoder is applied: ['engine']\")\n",
    "features['engine'] = pd.DataFrame(embtown_encoded, columns=embtown_feat.columns, index=embtown_feat.index)\n",
    "print(\"After Label encoder on target\")\n",
    "display(features['engine'].head())\n",
    "\n",
    "X = features.drop(columns = ['engine'])\n",
    "y = features['engine']\n",
    "print(\"Data X and y are separated:\")\n",
    "display(X)\n",
    "print(\"Target\")\n",
    "display(y)\n",
    "print(\"counts=\",y.value_counts())\n",
    "\n",
    "print(\"Statistics before Normalization\")\n",
    "display(X.describe())\n",
    "#Normalization\n",
    "from sklearn.preprocessing import MinMaxScaler\n",
    "scaler = MinMaxScaler()\n",
    "X_scaled= scaler.fit_transform(X)\n",
    "print(\"Statistics after Normalization\")\n",
    "display(pd.DataFrame(X_scaled, columns=X.columns).describe())"
   ]
  },
  {
   "cell_type": "markdown",
   "metadata": {},
   "source": [
    "## Voting Ensemble\n",
    "\n",
    "Train a hard voting ensemble using k-Nearest Neighbors, SVM, and Logistic Regression, and **compare the accuracy of the ensemble to the individual classifiers**.\n",
    "\n",
    "You can use the default values for the models, you don't need to perform fine-tuning.\n",
    "\n",
    "Differently from the examples in the lecture notes on Ensemble Methods, use a 5-fold cross-validation. This means that you don't need to split the data into train and test sets, as this will be performed by the cross_validate function in scikit-learn. \n",
    "\n",
    "Report the mean and standard distribution of the accuracy scores for the 5-fold cross validation. \n",
    "\n",
    "***Use the same approach with 5-fold cross-validation for all models in this exercise***. \n",
    "\n",
    "You may get warnings for some of the models, so if you wish you can ignore the warnings with the following lines.\n",
    "\n",
    "```\n",
    "import warnings\n",
    "warnings.filterwarnings('ignore')\n",
    "```"
   ]
  },
  {
   "cell_type": "code",
   "execution_count": 6,
   "metadata": {},
   "outputs": [
    {
     "name": "stdout",
     "output_type": "stream",
     "text": [
      "The knn mean cross-validation accuracy is: 80.486 +/- 4.756\n",
      "The svm mean cross-validation accuracy is: 81.073 +/- 7.138\n",
      "The log_reg mean cross-validation accuracy is: 82.058 +/- 4.849\n"
     ]
    },
    {
     "data": {
      "image/png": "[encoded data removed]",
      "text/plain": [
       "<Figure size 576x360 with 1 Axes>"
      ]
     },
     "metadata": {
      "needs_background": "light"
     },
     "output_type": "display_data"
    },
    {
     "name": "stdout",
     "output_type": "stream",
     "text": [
      "The Hard Voting Classifier mean cross-validation accuracy is: 82.243 +/- 5.652\n"
     ]
    }
   ],
   "source": [
    "# Your code here\n",
    "import warnings\n",
    "warnings.filterwarnings('ignore')\n",
    "from sklearn.neighbors import KNeighborsClassifier\n",
    "from sklearn.linear_model import LogisticRegression\n",
    "from sklearn.svm import SVC\n",
    "from sklearn.ensemble import VotingClassifier\n",
    "from sklearn.metrics import accuracy_score\n",
    "from sklearn.model_selection import cross_validate\n",
    "from sklearn.model_selection import KFold\n",
    "\n",
    "i = 0\n",
    "scores = []\n",
    "models = {'knn': KNeighborsClassifier(),\n",
    "          'svm': SVC(),\n",
    "          'log_reg': LogisticRegression()}\n",
    "for model, classifier in models.items():\n",
    "    cv_5 = KFold(n_splits= 5, random_state= 50)\n",
    "    cv_result = cross_validate(classifier, X_scaled, y, cv = cv_5)\n",
    "    scores.append(cv_result[\"test_score\"])\n",
    "    print(\"The {} mean cross-validation accuracy is: {:.3f} +/- {:.3f}\".format(model, scores[i].mean()*100, scores[i].std()*100))\n",
    "    i += 1\n",
    "#Plot accuracy of these models\n",
    "plt.figure(figsize=(8,5))\n",
    "plt.boxplot(scores, labels = models.keys())\n",
    "plt.ylabel(\"Cross-validation scores\")\n",
    "plt.xlabel(\"Model name\")\n",
    "plt.title(\"Cross validation scores for models attempted\")\n",
    "plt.show()\n",
    "\n",
    "\n",
    "voting_classifier = VotingClassifier(\n",
    "    estimators=[('knn', KNeighborsClassifier()),\n",
    "                ('svm', SVC()),\n",
    "                ('log_reg', LogisticRegression())], \n",
    "    voting='hard')\n",
    "cv_5 = KFold(n_splits= 5, random_state= 50)\n",
    "cv_result = cross_validate(voting_classifier, X_scaled, y, cv = cv_5)\n",
    "scores = cv_result[\"test_score\"]\n",
    "print(\"The Hard Voting Classifier mean cross-validation accuracy is: {:.3f} +/- {:.3f}\".format(scores.mean()*100, scores.std()*100))"
   ]
  },
  {
   "cell_type": "markdown",
   "metadata": {},
   "source": [
    "Add SGD and Naive Bayes classifiers to the three models above, and report the results of the hard Voting Ensemble with the five individual models. Are there any improvements?"
   ]
  },
  {
   "cell_type": "code",
   "execution_count": 7,
   "metadata": {},
   "outputs": [
    {
     "name": "stdout",
     "output_type": "stream",
     "text": [
      "The knn mean cross-validation accuracy is: 80.486 +/- 4.756\n",
      "The svm mean cross-validation accuracy is: 81.073 +/- 7.138\n",
      "The log_reg mean cross-validation accuracy is: 82.058 +/- 4.849\n",
      "The sgd mean cross-validation accuracy is: 83.566 +/- 4.229\n",
      "The naive_bayes mean cross-validation accuracy is: 83.412 +/- 4.135\n"
     ]
    },
    {
     "data": {
      "image/png": "[encoded data removed]",
      "text/plain": [
       "<Figure size 576x360 with 1 Axes>"
      ]
     },
     "metadata": {
      "needs_background": "light"
     },
     "output_type": "display_data"
    },
    {
     "name": "stdout",
     "output_type": "stream",
     "text": [
      "The Hard Voting Classifier mean cross-validation accuracy is: 83.535 +/- 4.246\n"
     ]
    }
   ],
   "source": [
    "# Your code here\n",
    "from sklearn.linear_model import SGDClassifier\n",
    "from sklearn.naive_bayes import GaussianNB\n",
    "#Adding two models\n",
    "i = 0\n",
    "scores = []\n",
    "models = {'knn': KNeighborsClassifier(),\n",
    "          'svm': SVC(),\n",
    "          'log_reg': LogisticRegression(),\n",
    "          'sgd': SGDClassifier(),\n",
    "          'naive_bayes': GaussianNB()}\n",
    "for model, classifier in models.items():\n",
    "    cv_5 = KFold(n_splits= 5, random_state= 50)\n",
    "    cv_result = cross_validate(classifier, X_scaled, y, cv = cv_5)\n",
    "    scores.append(cv_result[\"test_score\"])\n",
    "    print(\"The {} mean cross-validation accuracy is: {:.3f} +/- {:.3f}\".format(model, scores[i].mean()*100, scores[i].std()*100))\n",
    "    i += 1\n",
    "#Plot accuracy of these models\n",
    "plt.figure(figsize=(8,5))\n",
    "plt.boxplot(scores, labels = models.keys())\n",
    "plt.ylabel(\"Cross-validation scores\")\n",
    "plt.xlabel(\"Model name\")\n",
    "plt.title(\"Cross validation scores for models attempted\")\n",
    "plt.show()\n",
    "\n",
    "\n",
    "voting_classifier = VotingClassifier(\n",
    "    estimators=[('knn', KNeighborsClassifier()),\n",
    "                ('svm', SVC()),\n",
    "                ('log_reg', LogisticRegression()),\n",
    "                ('sgd', SGDClassifier()),\n",
    "                ('naive_bayes', GaussianNB())], \n",
    "    voting='hard')\n",
    "cv_5 = KFold(n_splits= 5, random_state= 50)\n",
    "cv_result = cross_validate(voting_classifier, X_scaled, y, cv = cv_5)\n",
    "scores = cv_result[\"test_score\"]\n",
    "print(\"The Hard Voting Classifier mean cross-validation accuracy is: {:.3f} +/- {:.3f}\".format(scores.mean()*100, scores.std()*100))"
   ]
  },
  {
   "cell_type": "markdown",
   "metadata": {},
   "source": [
    "Train a soft Voting Ensemble using 3 individual models of your choice, and compare the results to the hard Voting Ensemble model. Are the results as expected?"
   ]
  },
  {
   "cell_type": "code",
   "execution_count": 8,
   "metadata": {},
   "outputs": [
    {
     "name": "stdout",
     "output_type": "stream",
     "text": [
      "The Soft Voting Classifier mean cross-validation accuracy is: 83.135 +/- 4.674\n"
     ]
    },
    {
     "data": {
      "text/plain": [
       "'Soft voting generally achieves better performance than hard voting, \\nbecause it assigns higher weight to the \\npredictions by the individual models with high confidence. \\nIn this case soft voting does almost as good with only 3 estimators as the hard voting does with 5 estimators.\\nAnd that is what we have observed.'"
      ]
     },
     "execution_count": 8,
     "metadata": {},
     "output_type": "execute_result"
    }
   ],
   "source": [
    "# Your code here\n",
    "#Soft Voting\n",
    "voting_classifier = VotingClassifier(\n",
    "    estimators=[('log_reg', LogisticRegression()),\n",
    "                ('knn', KNeighborsClassifier()),\n",
    "                ('naive_bayes', GaussianNB())], \n",
    "    voting='soft')\n",
    "cv_5 = KFold(n_splits= 5, random_state= 50)\n",
    "cv_result = cross_validate(voting_classifier, X_scaled, y, cv = cv_5)\n",
    "scores = cv_result[\"test_score\"]\n",
    "print(\"The Soft Voting Classifier mean cross-validation accuracy is: {:.3f} +/- {:.3f}\".format(scores.mean()*100, scores.std()*100))\n",
    "\n",
    "'''Soft voting generally achieves better performance than hard voting, \n",
    "because it assigns higher weight to the \n",
    "predictions by the individual models with high confidence. \n",
    "In this case soft voting does almost as good with only 3 estimators as the hard voting does with 5 estimators.\n",
    "And that is what we have observed.'''"
   ]
  },
  {
   "cell_type": "markdown",
   "metadata": {},
   "source": [
    "## Bagging Ensemble\n",
    "\n",
    "Train two Bagging Ensembles, one with bootstrapping and one with pasting, and compare the results. You can use the same hyperparameters as in the examples in the lecture notes."
   ]
  },
  {
   "cell_type": "code",
   "execution_count": 9,
   "metadata": {},
   "outputs": [
    {
     "name": "stdout",
     "output_type": "stream",
     "text": [
      "The Bagging bootstrap Classifier mean cross-validation accuracy is: 83.287 +/- 4.392\n",
      "The Bagging pasting Classifier mean cross-validation accuracy is: 84.273 +/- 6.361\n"
     ]
    },
    {
     "data": {
      "image/png": "[encoded data removed]",
      "text/plain": [
       "<Figure size 576x360 with 1 Axes>"
      ]
     },
     "metadata": {
      "needs_background": "light"
     },
     "output_type": "display_data"
    }
   ],
   "source": [
    "# Your code here\n",
    "from sklearn.ensemble import BaggingClassifier\n",
    "from sklearn.tree import DecisionTreeClassifier\n",
    "scores = []\n",
    "#Sampled with replacement\n",
    "bagging_classifier = BaggingClassifier(\n",
    "      DecisionTreeClassifier(class_weight='balanced'),\n",
    "    max_samples=0.5, max_features=0.5, bootstrap=True, random_state = 12\n",
    ")\n",
    "cv_5 = KFold(n_splits= 5, random_state= 50)\n",
    "cv_result = cross_validate(bagging_classifier, X_scaled, y, cv = cv_5)\n",
    "scores.append(cv_result[\"test_score\"])\n",
    "print(\"The Bagging bootstrap Classifier mean cross-validation accuracy is: {:.3f} +/- {:.3f}\".format(scores[0].mean()*100, scores[0].std()*100))\n",
    "\n",
    "\n",
    "#Sampled without replacement\n",
    "bagging_classifier = BaggingClassifier(\n",
    "      DecisionTreeClassifier(class_weight='balanced'),\n",
    "    max_samples=0.5, max_features=0.5, bootstrap=False, random_state = 12\n",
    ")\n",
    "cv_5 = KFold(n_splits= 5, random_state= 50)\n",
    "cv_result = cross_validate(bagging_classifier, X_scaled, y, cv = cv_5)\n",
    "scores.append(cv_result[\"test_score\"])\n",
    "print(\"The Bagging pasting Classifier mean cross-validation accuracy is: {:.3f} +/- {:.3f}\".format(scores[1].mean()*100, scores[1].std()*100))\n",
    "\n",
    "#Plot accuracy of these models\n",
    "plt.figure(figsize=(8,5))\n",
    "plt.boxplot(scores, labels = ['Bootstrap', 'Pasting'])\n",
    "plt.ylabel(\"Cross-validation scores\")\n",
    "plt.xlabel(\"Model name\")\n",
    "plt.title(\"Cross validation scores for models attempted\")\n",
    "plt.show()"
   ]
  },
  {
   "cell_type": "markdown",
   "metadata": {},
   "source": [
    "Perform a grid search for the better of these two ensembles, by using the following percentages of used data instances: 10%, 30%, 50%, 80%, and 100%. "
   ]
  },
  {
   "cell_type": "code",
   "execution_count": 10,
   "metadata": {},
   "outputs": [
    {
     "name": "stdout",
     "output_type": "stream",
     "text": [
      "Accuracy: 87.44397297617637\n",
      "Hyperparameters: {'max_samples': 0.8}\n"
     ]
    }
   ],
   "source": [
    "# Your code here\n",
    "#Pasting algorithm\n",
    "bagging_classifier = BaggingClassifier(\n",
    "      DecisionTreeClassifier(class_weight='balanced')\n",
    "    , max_features=0.5, bootstrap=False, random_state = 30\n",
    ")\n",
    "from sklearn.model_selection import GridSearchCV\n",
    "# Create grid of hyperparameter values\n",
    "hyper_grid = {'max_samples': [0.1, 0.3, 0.5, 0.8, 1.0]}\n",
    "\n",
    "# Tune a knn model using grid search\n",
    "grid_search = GridSearchCV(bagging_classifier, hyper_grid, scoring='accuracy')\n",
    "results = grid_search.fit(X_scaled, y)\n",
    "\n",
    "print('Accuracy:',results.best_score_*100)\n",
    "print('Hyperparameters:', results.best_params_)"
   ]
  },
  {
   "cell_type": "markdown",
   "metadata": {},
   "source": [
    "## Boosting Ensemble\n",
    "\n",
    "Train Boosting Ensembles using Gradient Boosting, AdaBoost, and XGBoost ensembles, and compare the results. Don't forget to use 5-fold cross-validation with all models. "
   ]
  },
  {
   "cell_type": "code",
   "execution_count": 11,
   "metadata": {},
   "outputs": [
    {
     "name": "stdout",
     "output_type": "stream",
     "text": [
      "The grad mean cross-validation accuracy is: 87.350 +/- 1.566\n",
      "The ada mean cross-validation accuracy is: 77.381 +/- 8.888\n",
      "The XG mean cross-validation accuracy is: 82.146 +/- 5.543\n"
     ]
    },
    {
     "data": {
      "image/png": "[encoded data removed]",
      "text/plain": [
       "<Figure size 576x360 with 1 Axes>"
      ]
     },
     "metadata": {
      "needs_background": "light"
     },
     "output_type": "display_data"
    }
   ],
   "source": [
    "# Your code here\n",
    "from sklearn.ensemble import GradientBoostingClassifier\n",
    "from sklearn.ensemble import AdaBoostClassifier\n",
    "from sklearn.tree import DecisionTreeClassifier\n",
    "from xgboost import XGBClassifier\n",
    "i = 0\n",
    "scores = []\n",
    "models = {'grad': GradientBoostingClassifier(),\n",
    "          'ada': AdaBoostClassifier(),\n",
    "          'XG': XGBClassifier()}\n",
    "for model, classifier in models.items():\n",
    "    cv_5 = KFold(n_splits= 5, random_state= 50)\n",
    "    cv_result = cross_validate(classifier, X_scaled, y, cv = cv_5)\n",
    "    scores.append(cv_result[\"test_score\"])\n",
    "    print(\"The {} mean cross-validation accuracy is: {:.3f} +/- {:.3f}\".format(model, scores[i].mean()*100, scores[i].std()*100))\n",
    "    i += 1\n",
    "#Plot accuracy of these models\n",
    "plt.figure(figsize=(8,5))\n",
    "plt.boxplot(scores, labels = models.keys())\n",
    "plt.ylabel(\"Cross-validation scores\")\n",
    "plt.xlabel(\"Model name\")\n",
    "plt.title(\"Cross validation scores for models attempted\")\n",
    "plt.show()\n",
    "\n",
    "#XGBoost seems to perform the best on this data."
   ]
  },
  {
   "cell_type": "markdown",
   "metadata": {},
   "source": [
    "## Stacking Ensemble\n",
    "\n",
    "Train a Stacking Ensemble with Random Forest and SVM Classifier as base estimators, and Logistic Regression as the final estimator. "
   ]
  },
  {
   "cell_type": "code",
   "execution_count": 12,
   "metadata": {},
   "outputs": [],
   "source": [
    "from sklearn.model_selection import train_test_split\n",
    "from sklearn.preprocessing import MinMaxScaler\n",
    "#Splitting\n",
    "X_train, X_test, y_train, y_test = train_test_split(X, y, test_size=0.25, stratify = y)\n",
    "#Normalization\n",
    "scaler = MinMaxScaler()\n",
    "X_train_scaled = scaler.fit_transform(X_train)\n",
    "X_test_scaled = scaler.transform(X_test)"
   ]
  },
  {
   "cell_type": "code",
   "execution_count": 13,
   "metadata": {},
   "outputs": [
    {
     "name": "stdout",
     "output_type": "stream",
     "text": [
      "Stacking Ensemble testing accuracy is 99.2620 %\n",
      "The Stacking ensemble Classifier mean cross-validation accuracy is: 89.413 +/- 5.301\n"
     ]
    }
   ],
   "source": [
    "# Your code here\n",
    "from sklearn.ensemble import StackingClassifier\n",
    "from sklearn.ensemble import RandomForestClassifier\n",
    "\n",
    "base_estimators = [\n",
    "    ('rand', RandomForestClassifier(random_state=42)),\n",
    "    ('svc', SVC(random_state=42))]\n",
    "\n",
    "final_estimator = LogisticRegression()\n",
    "\n",
    "stack_classifier = StackingClassifier(estimators = base_estimators, \n",
    "                               final_estimator = final_estimator)\n",
    "\n",
    "stack_classifier.fit(X_train_scaled, y_train)\n",
    "# evaluate\n",
    "stack_preds = stack_classifier.predict(X_test_scaled)\n",
    "stack_acc = accuracy_score(y_test, stack_preds)\n",
    "print('Stacking Ensemble testing accuracy is {0:7.4f} %'.format(stack_acc*100))\n",
    "\n",
    "#Cross-validation\n",
    "stack_classifier = StackingClassifier(estimators = base_estimators, \n",
    "                               final_estimator = final_estimator)\n",
    "scores = []\n",
    "cv_5 = KFold(n_splits= 5, random_state= 50)\n",
    "cv_result = cross_validate(stack_classifier, X_scaled, y, cv = cv_5)\n",
    "scores.append(cv_result[\"test_score\"])\n",
    "print(\"The Stacking ensemble Classifier mean cross-validation accuracy is: {:.3f} +/- {:.3f}\".format(scores[0].mean()*100, scores[0].std()*100))\n"
   ]
  },
  {
   "cell_type": "markdown",
   "metadata": {},
   "source": [
    "Train two other Stacking Ensembles using other classifiers of your choice as the final estimator."
   ]
  },
  {
   "cell_type": "code",
   "execution_count": 14,
   "metadata": {},
   "outputs": [
    {
     "name": "stdout",
     "output_type": "stream",
     "text": [
      "Stacking Ensemble test accuracy is 98.8930 %\n",
      "The Stacking ensemble Classifier mean cross-validation accuracy is: 83.869 +/- 4.805\n"
     ]
    }
   ],
   "source": [
    "# Your code here\n",
    "from sklearn.ensemble import StackingClassifier\n",
    "from sklearn.ensemble import RandomForestClassifier\n",
    "\n",
    "base_estimators = [\n",
    "    ('rand', RandomForestClassifier(random_state=123)),\n",
    "    ('svc', SVC(random_state=123))]\n",
    "\n",
    "final_estimator = KNeighborsClassifier()\n",
    "\n",
    "stack_classifier = StackingClassifier(estimators = base_estimators, \n",
    "                               final_estimator = final_estimator)\n",
    "\n",
    "stack_classifier.fit(X_train_scaled, y_train)\n",
    "# evaluate\n",
    "stack_preds = stack_classifier.predict(X_test_scaled)\n",
    "stack_acc = accuracy_score(y_test, stack_preds)\n",
    "print('Stacking Ensemble test accuracy is {0:7.4f} %'.format(stack_acc*100))\n",
    "\n",
    "#Cross-validation\n",
    "stack_classifier = StackingClassifier(estimators = base_estimators, \n",
    "                               final_estimator = final_estimator)\n",
    "\n",
    "cv_5 = KFold(n_splits= 5, random_state= 50)\n",
    "cv_result = cross_validate(stack_classifier, X_scaled, y, cv = cv_5)\n",
    "scores.append(cv_result[\"test_score\"])\n",
    "print(\"The Stacking ensemble Classifier mean cross-validation accuracy is: {:.3f} +/- {:.3f}\".format(scores[1].mean()*100, scores[1].std()*100))\n"
   ]
  },
  {
   "cell_type": "markdown",
   "metadata": {},
   "source": [
    "Train another Stacking Ensemble with Random Forest and XGBoost as base estimators, and Logistic Regression as the final estimator, and compare the results."
   ]
  },
  {
   "cell_type": "code",
   "execution_count": 15,
   "metadata": {},
   "outputs": [
    {
     "name": "stdout",
     "output_type": "stream",
     "text": [
      "Stacking Ensemble test accuracy is 99.0160 %\n",
      "The Stacking ensemble Classifier mean cross-validation accuracy is: 89.352 +/- 5.250\n"
     ]
    }
   ],
   "source": [
    "# Your code here\n",
    "from sklearn.ensemble import StackingClassifier\n",
    "from sklearn.ensemble import RandomForestClassifier\n",
    "\n",
    "base_estimators = [\n",
    "    ('rand', RandomForestClassifier(random_state=12)),\n",
    "    ('XG', XGBClassifier(random_state=12))]\n",
    "\n",
    "final_estimator = LogisticRegression()\n",
    "\n",
    "stack_classifier = StackingClassifier(estimators = base_estimators, \n",
    "                               final_estimator = final_estimator)\n",
    "\n",
    "stack_classifier.fit(X_train_scaled, y_train)\n",
    "# evaluate\n",
    "stack_preds = stack_classifier.predict(X_test_scaled)\n",
    "stack_acc = accuracy_score(y_test, stack_preds)\n",
    "print('Stacking Ensemble test accuracy is {0:7.4f} %'.format(stack_acc*100))\n",
    "\n",
    "#Cross-validation\n",
    "stack_classifier = StackingClassifier(estimators = base_estimators, \n",
    "                               final_estimator = final_estimator)\n",
    "\n",
    "cv_5 = KFold(n_splits= 5, random_state= 50)\n",
    "cv_result = cross_validate(stack_classifier, X_scaled, y, cv = cv_5)\n",
    "scores.append(cv_result[\"test_score\"])\n",
    "print(\"The Stacking ensemble Classifier mean cross-validation accuracy is: {:.3f} +/- {:.3f}\".format(scores[2].mean()*100, scores[2].std()*100))\n"
   ]
  },
  {
   "cell_type": "code",
   "execution_count": 16,
   "metadata": {},
   "outputs": [
    {
     "data": {
      "image/png": "[encoded data removed]",
      "text/plain": [
       "<Figure size 576x360 with 1 Axes>"
      ]
     },
     "metadata": {
      "needs_background": "light"
     },
     "output_type": "display_data"
    }
   ],
   "source": [
    "#Plot accuracy of these models\n",
    "plt.figure(figsize=(8,5))\n",
    "plt.boxplot(scores, labels = ['rand+svc->log_reg', 'rand+svc->knn', 'rand+xg->log_reg'])\n",
    "plt.ylabel(\"Cross-validation scores\")\n",
    "plt.xlabel(\"Model name\")\n",
    "plt.title(\"Cross validation scores for models attempted\")\n",
    "plt.show()"
   ]
  },
  {
   "cell_type": "markdown",
   "metadata": {},
   "source": [
    "### Training accuracy is very similar for all classifers, but cross validation score is best for the first stacking ensemble."
   ]
  },
  {
   "cell_type": "code",
   "execution_count": null,
   "metadata": {},
   "outputs": [],
   "source": []
  }
 ],
 "metadata": {
  "kernelspec": {
   "display_name": "Python 3 (ipykernel)",
   "language": "python",
   "name": "python3"
  },
  "language_info": {
   "codemirror_mode": {
    "name": "ipython",
    "version": 3
   },
   "file_extension": ".py",
   "mimetype": "text/x-python",
   "name": "python",
   "nbconvert_exporter": "python",
   "pygments_lexer": "ipython3",
   "version": "3.10.6"
  }
 },
 "nbformat": 4,
 "nbformat_minor": 4
}
