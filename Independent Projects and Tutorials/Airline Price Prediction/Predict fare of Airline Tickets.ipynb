{
 "cells": [
  {
   "cell_type": "markdown",
   "id": "37642c89",
   "metadata": {},
   "source": [
    "# Airline flights price prediction\n",
    "### A supervised machine learning regression problem with price as target features"
   ]
  },
  {
   "cell_type": "markdown",
   "id": "2bd70e84",
   "metadata": {},
   "source": [
    "## Import Libraries"
   ]
  },
  {
   "cell_type": "code",
   "execution_count": 2,
   "id": "2e2a0839",
   "metadata": {},
   "outputs": [],
   "source": [
    "import numpy as np\n",
    "import pandas as pd\n",
    "import matplotlib.pyplot as plt\n",
    "import seaborn as sns"
   ]
  },
  {
   "cell_type": "markdown",
   "id": "f43c0bed",
   "metadata": {},
   "source": [
    "## Load the Dataset"
   ]
  },
  {
   "cell_type": "code",
   "execution_count": 3,
   "id": "09753454",
   "metadata": {},
   "outputs": [],
   "source": [
    "df = pd.read_excel(r'/home/himanshi/Data Science Real World Projects in Python/Data_Train.xlsx')"
   ]
  },
  {
   "cell_type": "code",
   "execution_count": 4,
   "id": "bd0c9392",
   "metadata": {
    "scrolled": true
   },
   "outputs": [
    {
     "data": {
      "text/html": [
       "<div>\n",
       "<style scoped>\n",
       "    .dataframe tbody tr th:only-of-type {\n",
       "        vertical-align: middle;\n",
       "    }\n",
       "\n",
       "    .dataframe tbody tr th {\n",
       "        vertical-align: top;\n",
       "    }\n",
       "\n",
       "    .dataframe thead th {\n",
       "        text-align: right;\n",
       "    }\n",
       "</style>\n",
       "<table border=\"1\" class=\"dataframe\">\n",
       "  <thead>\n",
       "    <tr style=\"text-align: right;\">\n",
       "      <th></th>\n",
       "      <th>Airline</th>\n",
       "      <th>Date_of_Journey</th>\n",
       "      <th>Source</th>\n",
       "      <th>Destination</th>\n",
       "      <th>Route</th>\n",
       "      <th>Dep_Time</th>\n",
       "      <th>Arrival_Time</th>\n",
       "      <th>Duration</th>\n",
       "      <th>Total_Stops</th>\n",
       "      <th>Additional_Info</th>\n",
       "      <th>Price</th>\n",
       "    </tr>\n",
       "  </thead>\n",
       "  <tbody>\n",
       "    <tr>\n",
       "      <th>0</th>\n",
       "      <td>IndiGo</td>\n",
       "      <td>24/03/2019</td>\n",
       "      <td>Banglore</td>\n",
       "      <td>New Delhi</td>\n",
       "      <td>BLR → DEL</td>\n",
       "      <td>22:20</td>\n",
       "      <td>01:10 22 Mar</td>\n",
       "      <td>2h 50m</td>\n",
       "      <td>non-stop</td>\n",
       "      <td>No info</td>\n",
       "      <td>3897</td>\n",
       "    </tr>\n",
       "    <tr>\n",
       "      <th>1</th>\n",
       "      <td>Air India</td>\n",
       "      <td>1/05/2019</td>\n",
       "      <td>Kolkata</td>\n",
       "      <td>Banglore</td>\n",
       "      <td>CCU → IXR → BBI → BLR</td>\n",
       "      <td>05:50</td>\n",
       "      <td>13:15</td>\n",
       "      <td>7h 25m</td>\n",
       "      <td>2 stops</td>\n",
       "      <td>No info</td>\n",
       "      <td>7662</td>\n",
       "    </tr>\n",
       "    <tr>\n",
       "      <th>2</th>\n",
       "      <td>Jet Airways</td>\n",
       "      <td>9/06/2019</td>\n",
       "      <td>Delhi</td>\n",
       "      <td>Cochin</td>\n",
       "      <td>DEL → LKO → BOM → COK</td>\n",
       "      <td>09:25</td>\n",
       "      <td>04:25 10 Jun</td>\n",
       "      <td>19h</td>\n",
       "      <td>2 stops</td>\n",
       "      <td>No info</td>\n",
       "      <td>13882</td>\n",
       "    </tr>\n",
       "    <tr>\n",
       "      <th>3</th>\n",
       "      <td>IndiGo</td>\n",
       "      <td>12/05/2019</td>\n",
       "      <td>Kolkata</td>\n",
       "      <td>Banglore</td>\n",
       "      <td>CCU → NAG → BLR</td>\n",
       "      <td>18:05</td>\n",
       "      <td>23:30</td>\n",
       "      <td>5h 25m</td>\n",
       "      <td>1 stop</td>\n",
       "      <td>No info</td>\n",
       "      <td>6218</td>\n",
       "    </tr>\n",
       "    <tr>\n",
       "      <th>4</th>\n",
       "      <td>IndiGo</td>\n",
       "      <td>01/03/2019</td>\n",
       "      <td>Banglore</td>\n",
       "      <td>New Delhi</td>\n",
       "      <td>BLR → NAG → DEL</td>\n",
       "      <td>16:50</td>\n",
       "      <td>21:35</td>\n",
       "      <td>4h 45m</td>\n",
       "      <td>1 stop</td>\n",
       "      <td>No info</td>\n",
       "      <td>13302</td>\n",
       "    </tr>\n",
       "  </tbody>\n",
       "</table>\n",
       "</div>"
      ],
      "text/plain": [
       "       Airline Date_of_Journey    Source Destination                  Route  \\\n",
       "0       IndiGo      24/03/2019  Banglore   New Delhi              BLR → DEL   \n",
       "1    Air India       1/05/2019   Kolkata    Banglore  CCU → IXR → BBI → BLR   \n",
       "2  Jet Airways       9/06/2019     Delhi      Cochin  DEL → LKO → BOM → COK   \n",
       "3       IndiGo      12/05/2019   Kolkata    Banglore        CCU → NAG → BLR   \n",
       "4       IndiGo      01/03/2019  Banglore   New Delhi        BLR → NAG → DEL   \n",
       "\n",
       "  Dep_Time  Arrival_Time Duration Total_Stops Additional_Info  Price  \n",
       "0    22:20  01:10 22 Mar   2h 50m    non-stop         No info   3897  \n",
       "1    05:50         13:15   7h 25m     2 stops         No info   7662  \n",
       "2    09:25  04:25 10 Jun      19h     2 stops         No info  13882  \n",
       "3    18:05         23:30   5h 25m      1 stop         No info   6218  \n",
       "4    16:50         21:35   4h 45m      1 stop         No info  13302  "
      ]
     },
     "execution_count": 4,
     "metadata": {},
     "output_type": "execute_result"
    }
   ],
   "source": [
    "df.head()"
   ]
  },
  {
   "cell_type": "code",
   "execution_count": 5,
   "id": "7393745d",
   "metadata": {
    "scrolled": true
   },
   "outputs": [
    {
     "name": "stdout",
     "output_type": "stream",
     "text": [
      "<class 'pandas.core.frame.DataFrame'>\n",
      "RangeIndex: 10683 entries, 0 to 10682\n",
      "Data columns (total 11 columns):\n",
      " #   Column           Non-Null Count  Dtype \n",
      "---  ------           --------------  ----- \n",
      " 0   Airline          10683 non-null  object\n",
      " 1   Date_of_Journey  10683 non-null  object\n",
      " 2   Source           10683 non-null  object\n",
      " 3   Destination      10683 non-null  object\n",
      " 4   Route            10682 non-null  object\n",
      " 5   Dep_Time         10683 non-null  object\n",
      " 6   Arrival_Time     10683 non-null  object\n",
      " 7   Duration         10683 non-null  object\n",
      " 8   Total_Stops      10682 non-null  object\n",
      " 9   Additional_Info  10683 non-null  object\n",
      " 10  Price            10683 non-null  int64 \n",
      "dtypes: int64(1), object(10)\n",
      "memory usage: 918.2+ KB\n"
     ]
    }
   ],
   "source": [
    "df.info()"
   ]
  },
  {
   "cell_type": "markdown",
   "id": "a5eed785",
   "metadata": {},
   "source": [
    "## Ways to observe null values:\n",
    "**Feature Route and Total_stops have null values as their count differs from other features.** "
   ]
  },
  {
   "cell_type": "code",
   "execution_count": 6,
   "id": "c419c670",
   "metadata": {
    "scrolled": true
   },
   "outputs": [
    {
     "data": {
      "text/plain": [
       "Airline            0\n",
       "Date_of_Journey    0\n",
       "Source             0\n",
       "Destination        0\n",
       "Route              1\n",
       "Dep_Time           0\n",
       "Arrival_Time       0\n",
       "Duration           0\n",
       "Total_Stops        1\n",
       "Additional_Info    0\n",
       "Price              0\n",
       "dtype: int64"
      ]
     },
     "execution_count": 6,
     "metadata": {},
     "output_type": "execute_result"
    }
   ],
   "source": [
    "df.isnull().sum()"
   ]
  },
  {
   "cell_type": "code",
   "execution_count": 7,
   "id": "de6482b6",
   "metadata": {
    "scrolled": false
   },
   "outputs": [
    {
     "data": {
      "text/plain": [
       "Airline            0.000000\n",
       "Date_of_Journey    0.000000\n",
       "Source             0.000000\n",
       "Destination        0.000000\n",
       "Route              0.009361\n",
       "Dep_Time           0.000000\n",
       "Arrival_Time       0.000000\n",
       "Duration           0.000000\n",
       "Total_Stops        0.009361\n",
       "Additional_Info    0.000000\n",
       "Price              0.000000\n",
       "dtype: float64"
      ]
     },
     "execution_count": 7,
     "metadata": {},
     "output_type": "execute_result"
    }
   ],
   "source": [
    "#check ratio\n",
    "df.isnull().sum()*100/df.shape[0]"
   ]
  },
  {
   "cell_type": "markdown",
   "id": "aa4349c1",
   "metadata": {},
   "source": [
    "**Look at all rows that have null values in any of the columns.**"
   ]
  },
  {
   "cell_type": "code",
   "execution_count": 8,
   "id": "a7969dc3",
   "metadata": {
    "scrolled": true
   },
   "outputs": [
    {
     "data": {
      "text/html": [
       "<div>\n",
       "<style scoped>\n",
       "    .dataframe tbody tr th:only-of-type {\n",
       "        vertical-align: middle;\n",
       "    }\n",
       "\n",
       "    .dataframe tbody tr th {\n",
       "        vertical-align: top;\n",
       "    }\n",
       "\n",
       "    .dataframe thead th {\n",
       "        text-align: right;\n",
       "    }\n",
       "</style>\n",
       "<table border=\"1\" class=\"dataframe\">\n",
       "  <thead>\n",
       "    <tr style=\"text-align: right;\">\n",
       "      <th></th>\n",
       "      <th>Airline</th>\n",
       "      <th>Date_of_Journey</th>\n",
       "      <th>Source</th>\n",
       "      <th>Destination</th>\n",
       "      <th>Route</th>\n",
       "      <th>Dep_Time</th>\n",
       "      <th>Arrival_Time</th>\n",
       "      <th>Duration</th>\n",
       "      <th>Total_Stops</th>\n",
       "      <th>Additional_Info</th>\n",
       "      <th>Price</th>\n",
       "    </tr>\n",
       "  </thead>\n",
       "  <tbody>\n",
       "    <tr>\n",
       "      <th>9039</th>\n",
       "      <td>Air India</td>\n",
       "      <td>6/05/2019</td>\n",
       "      <td>Delhi</td>\n",
       "      <td>Cochin</td>\n",
       "      <td>NaN</td>\n",
       "      <td>09:45</td>\n",
       "      <td>09:25 07 May</td>\n",
       "      <td>23h 40m</td>\n",
       "      <td>NaN</td>\n",
       "      <td>No info</td>\n",
       "      <td>7480</td>\n",
       "    </tr>\n",
       "  </tbody>\n",
       "</table>\n",
       "</div>"
      ],
      "text/plain": [
       "        Airline Date_of_Journey Source Destination Route Dep_Time  \\\n",
       "9039  Air India       6/05/2019  Delhi      Cochin   NaN    09:45   \n",
       "\n",
       "      Arrival_Time Duration Total_Stops Additional_Info  Price  \n",
       "9039  09:25 07 May  23h 40m         NaN         No info   7480  "
      ]
     },
     "execution_count": 8,
     "metadata": {},
     "output_type": "execute_result"
    }
   ],
   "source": [
    "df[df.isnull().any(axis=1)]"
   ]
  },
  {
   "cell_type": "markdown",
   "id": "228ffccf",
   "metadata": {},
   "source": [
    "**Since there is only one null value we can drop it. That is One way to deal with missing values.**"
   ]
  },
  {
   "cell_type": "code",
   "execution_count": 9,
   "id": "fcac51ca",
   "metadata": {},
   "outputs": [],
   "source": [
    "df.dropna(inplace = True)"
   ]
  },
  {
   "cell_type": "code",
   "execution_count": 10,
   "id": "53f25e0c",
   "metadata": {
    "scrolled": true
   },
   "outputs": [
    {
     "data": {
      "text/plain": [
       "Airline            0\n",
       "Date_of_Journey    0\n",
       "Source             0\n",
       "Destination        0\n",
       "Route              0\n",
       "Dep_Time           0\n",
       "Arrival_Time       0\n",
       "Duration           0\n",
       "Total_Stops        0\n",
       "Additional_Info    0\n",
       "Price              0\n",
       "dtype: int64"
      ]
     },
     "execution_count": 10,
     "metadata": {},
     "output_type": "execute_result"
    }
   ],
   "source": [
    "#check for null values again\n",
    "df.isnull().sum()"
   ]
  },
  {
   "cell_type": "markdown",
   "id": "db246eab",
   "metadata": {},
   "source": [
    "## Converting some columns to date time"
   ]
  },
  {
   "cell_type": "code",
   "execution_count": 11,
   "id": "1805d00a",
   "metadata": {
    "scrolled": true
   },
   "outputs": [
    {
     "name": "stdout",
     "output_type": "stream",
     "text": [
      "<class 'pandas.core.frame.DataFrame'>\n",
      "Int64Index: 10682 entries, 0 to 10682\n",
      "Data columns (total 11 columns):\n",
      " #   Column           Non-Null Count  Dtype \n",
      "---  ------           --------------  ----- \n",
      " 0   Airline          10682 non-null  object\n",
      " 1   Date_of_Journey  10682 non-null  object\n",
      " 2   Source           10682 non-null  object\n",
      " 3   Destination      10682 non-null  object\n",
      " 4   Route            10682 non-null  object\n",
      " 5   Dep_Time         10682 non-null  object\n",
      " 6   Arrival_Time     10682 non-null  object\n",
      " 7   Duration         10682 non-null  object\n",
      " 8   Total_Stops      10682 non-null  object\n",
      " 9   Additional_Info  10682 non-null  object\n",
      " 10  Price            10682 non-null  int64 \n",
      "dtypes: int64(1), object(10)\n",
      "memory usage: 1001.4+ KB\n"
     ]
    }
   ],
   "source": [
    "df.info()"
   ]
  },
  {
   "cell_type": "code",
   "execution_count": 12,
   "id": "836d8c10",
   "metadata": {},
   "outputs": [],
   "source": [
    "def change_to_datetime(df, col):\n",
    "    df[col] = pd.to_datetime(df[col])"
   ]
  },
  {
   "cell_type": "code",
   "execution_count": 13,
   "id": "8c3f7985",
   "metadata": {},
   "outputs": [],
   "source": [
    "for feature in (['Date_of_Journey', 'Dep_Time', 'Arrival_Time']):\n",
    "    change_to_datetime(df, feature)"
   ]
  },
  {
   "cell_type": "code",
   "execution_count": 14,
   "id": "1aec157e",
   "metadata": {
    "scrolled": false
   },
   "outputs": [
    {
     "name": "stdout",
     "output_type": "stream",
     "text": [
      "<class 'pandas.core.frame.DataFrame'>\n",
      "Int64Index: 10682 entries, 0 to 10682\n",
      "Data columns (total 11 columns):\n",
      " #   Column           Non-Null Count  Dtype         \n",
      "---  ------           --------------  -----         \n",
      " 0   Airline          10682 non-null  object        \n",
      " 1   Date_of_Journey  10682 non-null  datetime64[ns]\n",
      " 2   Source           10682 non-null  object        \n",
      " 3   Destination      10682 non-null  object        \n",
      " 4   Route            10682 non-null  object        \n",
      " 5   Dep_Time         10682 non-null  datetime64[ns]\n",
      " 6   Arrival_Time     10682 non-null  datetime64[ns]\n",
      " 7   Duration         10682 non-null  object        \n",
      " 8   Total_Stops      10682 non-null  object        \n",
      " 9   Additional_Info  10682 non-null  object        \n",
      " 10  Price            10682 non-null  int64         \n",
      "dtypes: datetime64[ns](3), int64(1), object(7)\n",
      "memory usage: 1001.4+ KB\n"
     ]
    }
   ],
   "source": [
    "#column types have been changed\n",
    "df.info()"
   ]
  },
  {
   "cell_type": "markdown",
   "id": "0bf93ee5",
   "metadata": {},
   "source": [
    "## Extract relevant information from date time columns\n",
    "### Add columns for details of journey time from Date of journey"
   ]
  },
  {
   "cell_type": "code",
   "execution_count": 15,
   "id": "d826ad31",
   "metadata": {},
   "outputs": [],
   "source": [
    "df['journey_year'] = df['Date_of_Journey'].dt.year\n",
    "df['journey_month'] = df['Date_of_Journey'].dt.month\n",
    "df['journey_day'] = df['Date_of_Journey'].dt.day"
   ]
  },
  {
   "cell_type": "code",
   "execution_count": 16,
   "id": "cd42abaa",
   "metadata": {},
   "outputs": [],
   "source": [
    "#Remove the redundant info columm\n",
    "df.drop(columns = ['Date_of_Journey'], inplace=True)"
   ]
  },
  {
   "cell_type": "code",
   "execution_count": 17,
   "id": "0bd726d7",
   "metadata": {
    "scrolled": true
   },
   "outputs": [
    {
     "data": {
      "text/html": [
       "<div>\n",
       "<style scoped>\n",
       "    .dataframe tbody tr th:only-of-type {\n",
       "        vertical-align: middle;\n",
       "    }\n",
       "\n",
       "    .dataframe tbody tr th {\n",
       "        vertical-align: top;\n",
       "    }\n",
       "\n",
       "    .dataframe thead th {\n",
       "        text-align: right;\n",
       "    }\n",
       "</style>\n",
       "<table border=\"1\" class=\"dataframe\">\n",
       "  <thead>\n",
       "    <tr style=\"text-align: right;\">\n",
       "      <th></th>\n",
       "      <th>Airline</th>\n",
       "      <th>Source</th>\n",
       "      <th>Destination</th>\n",
       "      <th>Route</th>\n",
       "      <th>Dep_Time</th>\n",
       "      <th>Arrival_Time</th>\n",
       "      <th>Duration</th>\n",
       "      <th>Total_Stops</th>\n",
       "      <th>Additional_Info</th>\n",
       "      <th>Price</th>\n",
       "      <th>journey_year</th>\n",
       "      <th>journey_month</th>\n",
       "      <th>journey_day</th>\n",
       "    </tr>\n",
       "  </thead>\n",
       "  <tbody>\n",
       "    <tr>\n",
       "      <th>0</th>\n",
       "      <td>IndiGo</td>\n",
       "      <td>Banglore</td>\n",
       "      <td>New Delhi</td>\n",
       "      <td>BLR → DEL</td>\n",
       "      <td>2023-01-29 22:20:00</td>\n",
       "      <td>2023-03-22 01:10:00</td>\n",
       "      <td>2h 50m</td>\n",
       "      <td>non-stop</td>\n",
       "      <td>No info</td>\n",
       "      <td>3897</td>\n",
       "      <td>2019</td>\n",
       "      <td>3</td>\n",
       "      <td>24</td>\n",
       "    </tr>\n",
       "    <tr>\n",
       "      <th>1</th>\n",
       "      <td>Air India</td>\n",
       "      <td>Kolkata</td>\n",
       "      <td>Banglore</td>\n",
       "      <td>CCU → IXR → BBI → BLR</td>\n",
       "      <td>2023-01-29 05:50:00</td>\n",
       "      <td>2023-01-29 13:15:00</td>\n",
       "      <td>7h 25m</td>\n",
       "      <td>2 stops</td>\n",
       "      <td>No info</td>\n",
       "      <td>7662</td>\n",
       "      <td>2019</td>\n",
       "      <td>1</td>\n",
       "      <td>5</td>\n",
       "    </tr>\n",
       "    <tr>\n",
       "      <th>2</th>\n",
       "      <td>Jet Airways</td>\n",
       "      <td>Delhi</td>\n",
       "      <td>Cochin</td>\n",
       "      <td>DEL → LKO → BOM → COK</td>\n",
       "      <td>2023-01-29 09:25:00</td>\n",
       "      <td>2023-06-10 04:25:00</td>\n",
       "      <td>19h</td>\n",
       "      <td>2 stops</td>\n",
       "      <td>No info</td>\n",
       "      <td>13882</td>\n",
       "      <td>2019</td>\n",
       "      <td>9</td>\n",
       "      <td>6</td>\n",
       "    </tr>\n",
       "    <tr>\n",
       "      <th>3</th>\n",
       "      <td>IndiGo</td>\n",
       "      <td>Kolkata</td>\n",
       "      <td>Banglore</td>\n",
       "      <td>CCU → NAG → BLR</td>\n",
       "      <td>2023-01-29 18:05:00</td>\n",
       "      <td>2023-01-29 23:30:00</td>\n",
       "      <td>5h 25m</td>\n",
       "      <td>1 stop</td>\n",
       "      <td>No info</td>\n",
       "      <td>6218</td>\n",
       "      <td>2019</td>\n",
       "      <td>12</td>\n",
       "      <td>5</td>\n",
       "    </tr>\n",
       "    <tr>\n",
       "      <th>4</th>\n",
       "      <td>IndiGo</td>\n",
       "      <td>Banglore</td>\n",
       "      <td>New Delhi</td>\n",
       "      <td>BLR → NAG → DEL</td>\n",
       "      <td>2023-01-29 16:50:00</td>\n",
       "      <td>2023-01-29 21:35:00</td>\n",
       "      <td>4h 45m</td>\n",
       "      <td>1 stop</td>\n",
       "      <td>No info</td>\n",
       "      <td>13302</td>\n",
       "      <td>2019</td>\n",
       "      <td>1</td>\n",
       "      <td>3</td>\n",
       "    </tr>\n",
       "    <tr>\n",
       "      <th>...</th>\n",
       "      <td>...</td>\n",
       "      <td>...</td>\n",
       "      <td>...</td>\n",
       "      <td>...</td>\n",
       "      <td>...</td>\n",
       "      <td>...</td>\n",
       "      <td>...</td>\n",
       "      <td>...</td>\n",
       "      <td>...</td>\n",
       "      <td>...</td>\n",
       "      <td>...</td>\n",
       "      <td>...</td>\n",
       "      <td>...</td>\n",
       "    </tr>\n",
       "    <tr>\n",
       "      <th>10678</th>\n",
       "      <td>Air Asia</td>\n",
       "      <td>Kolkata</td>\n",
       "      <td>Banglore</td>\n",
       "      <td>CCU → BLR</td>\n",
       "      <td>2023-01-29 19:55:00</td>\n",
       "      <td>2023-01-29 22:25:00</td>\n",
       "      <td>2h 30m</td>\n",
       "      <td>non-stop</td>\n",
       "      <td>No info</td>\n",
       "      <td>4107</td>\n",
       "      <td>2019</td>\n",
       "      <td>9</td>\n",
       "      <td>4</td>\n",
       "    </tr>\n",
       "    <tr>\n",
       "      <th>10679</th>\n",
       "      <td>Air India</td>\n",
       "      <td>Kolkata</td>\n",
       "      <td>Banglore</td>\n",
       "      <td>CCU → BLR</td>\n",
       "      <td>2023-01-29 20:45:00</td>\n",
       "      <td>2023-01-29 23:20:00</td>\n",
       "      <td>2h 35m</td>\n",
       "      <td>non-stop</td>\n",
       "      <td>No info</td>\n",
       "      <td>4145</td>\n",
       "      <td>2019</td>\n",
       "      <td>4</td>\n",
       "      <td>27</td>\n",
       "    </tr>\n",
       "    <tr>\n",
       "      <th>10680</th>\n",
       "      <td>Jet Airways</td>\n",
       "      <td>Banglore</td>\n",
       "      <td>Delhi</td>\n",
       "      <td>BLR → DEL</td>\n",
       "      <td>2023-01-29 08:20:00</td>\n",
       "      <td>2023-01-29 11:20:00</td>\n",
       "      <td>3h</td>\n",
       "      <td>non-stop</td>\n",
       "      <td>No info</td>\n",
       "      <td>7229</td>\n",
       "      <td>2019</td>\n",
       "      <td>4</td>\n",
       "      <td>27</td>\n",
       "    </tr>\n",
       "    <tr>\n",
       "      <th>10681</th>\n",
       "      <td>Vistara</td>\n",
       "      <td>Banglore</td>\n",
       "      <td>New Delhi</td>\n",
       "      <td>BLR → DEL</td>\n",
       "      <td>2023-01-29 11:30:00</td>\n",
       "      <td>2023-01-29 14:10:00</td>\n",
       "      <td>2h 40m</td>\n",
       "      <td>non-stop</td>\n",
       "      <td>No info</td>\n",
       "      <td>12648</td>\n",
       "      <td>2019</td>\n",
       "      <td>1</td>\n",
       "      <td>3</td>\n",
       "    </tr>\n",
       "    <tr>\n",
       "      <th>10682</th>\n",
       "      <td>Air India</td>\n",
       "      <td>Delhi</td>\n",
       "      <td>Cochin</td>\n",
       "      <td>DEL → GOI → BOM → COK</td>\n",
       "      <td>2023-01-29 10:55:00</td>\n",
       "      <td>2023-01-29 19:15:00</td>\n",
       "      <td>8h 20m</td>\n",
       "      <td>2 stops</td>\n",
       "      <td>No info</td>\n",
       "      <td>11753</td>\n",
       "      <td>2019</td>\n",
       "      <td>9</td>\n",
       "      <td>5</td>\n",
       "    </tr>\n",
       "  </tbody>\n",
       "</table>\n",
       "<p>10682 rows × 13 columns</p>\n",
       "</div>"
      ],
      "text/plain": [
       "           Airline    Source Destination                  Route  \\\n",
       "0           IndiGo  Banglore   New Delhi              BLR → DEL   \n",
       "1        Air India   Kolkata    Banglore  CCU → IXR → BBI → BLR   \n",
       "2      Jet Airways     Delhi      Cochin  DEL → LKO → BOM → COK   \n",
       "3           IndiGo   Kolkata    Banglore        CCU → NAG → BLR   \n",
       "4           IndiGo  Banglore   New Delhi        BLR → NAG → DEL   \n",
       "...            ...       ...         ...                    ...   \n",
       "10678     Air Asia   Kolkata    Banglore              CCU → BLR   \n",
       "10679    Air India   Kolkata    Banglore              CCU → BLR   \n",
       "10680  Jet Airways  Banglore       Delhi              BLR → DEL   \n",
       "10681      Vistara  Banglore   New Delhi              BLR → DEL   \n",
       "10682    Air India     Delhi      Cochin  DEL → GOI → BOM → COK   \n",
       "\n",
       "                 Dep_Time        Arrival_Time Duration Total_Stops  \\\n",
       "0     2023-01-29 22:20:00 2023-03-22 01:10:00   2h 50m    non-stop   \n",
       "1     2023-01-29 05:50:00 2023-01-29 13:15:00   7h 25m     2 stops   \n",
       "2     2023-01-29 09:25:00 2023-06-10 04:25:00      19h     2 stops   \n",
       "3     2023-01-29 18:05:00 2023-01-29 23:30:00   5h 25m      1 stop   \n",
       "4     2023-01-29 16:50:00 2023-01-29 21:35:00   4h 45m      1 stop   \n",
       "...                   ...                 ...      ...         ...   \n",
       "10678 2023-01-29 19:55:00 2023-01-29 22:25:00   2h 30m    non-stop   \n",
       "10679 2023-01-29 20:45:00 2023-01-29 23:20:00   2h 35m    non-stop   \n",
       "10680 2023-01-29 08:20:00 2023-01-29 11:20:00       3h    non-stop   \n",
       "10681 2023-01-29 11:30:00 2023-01-29 14:10:00   2h 40m    non-stop   \n",
       "10682 2023-01-29 10:55:00 2023-01-29 19:15:00   8h 20m     2 stops   \n",
       "\n",
       "      Additional_Info  Price  journey_year  journey_month  journey_day  \n",
       "0             No info   3897          2019              3           24  \n",
       "1             No info   7662          2019              1            5  \n",
       "2             No info  13882          2019              9            6  \n",
       "3             No info   6218          2019             12            5  \n",
       "4             No info  13302          2019              1            3  \n",
       "...               ...    ...           ...            ...          ...  \n",
       "10678         No info   4107          2019              9            4  \n",
       "10679         No info   4145          2019              4           27  \n",
       "10680         No info   7229          2019              4           27  \n",
       "10681         No info  12648          2019              1            3  \n",
       "10682         No info  11753          2019              9            5  \n",
       "\n",
       "[10682 rows x 13 columns]"
      ]
     },
     "execution_count": 17,
     "metadata": {},
     "output_type": "execute_result"
    }
   ],
   "source": [
    "df"
   ]
  },
  {
   "cell_type": "markdown",
   "id": "ef4f132a",
   "metadata": {},
   "source": [
    "### Add columns for hours and minutes from the Dep_time and Arrival_time, these columns are also dropped from the main dataset"
   ]
  },
  {
   "cell_type": "code",
   "execution_count": 18,
   "id": "5678aa14",
   "metadata": {},
   "outputs": [],
   "source": [
    "def extract_hour_min(df, col):\n",
    "    df[col+'_hour'] = df[col].dt.hour\n",
    "    df[col+'_minute'] = df[col].dt.minute\n",
    "    df.drop(col, axis=1, inplace=True)"
   ]
  },
  {
   "cell_type": "code",
   "execution_count": 19,
   "id": "71c09348",
   "metadata": {
    "scrolled": true
   },
   "outputs": [
    {
     "data": {
      "text/html": [
       "<div>\n",
       "<style scoped>\n",
       "    .dataframe tbody tr th:only-of-type {\n",
       "        vertical-align: middle;\n",
       "    }\n",
       "\n",
       "    .dataframe tbody tr th {\n",
       "        vertical-align: top;\n",
       "    }\n",
       "\n",
       "    .dataframe thead th {\n",
       "        text-align: right;\n",
       "    }\n",
       "</style>\n",
       "<table border=\"1\" class=\"dataframe\">\n",
       "  <thead>\n",
       "    <tr style=\"text-align: right;\">\n",
       "      <th></th>\n",
       "      <th>Airline</th>\n",
       "      <th>Source</th>\n",
       "      <th>Destination</th>\n",
       "      <th>Route</th>\n",
       "      <th>Duration</th>\n",
       "      <th>Total_Stops</th>\n",
       "      <th>Additional_Info</th>\n",
       "      <th>Price</th>\n",
       "      <th>journey_year</th>\n",
       "      <th>journey_month</th>\n",
       "      <th>journey_day</th>\n",
       "      <th>Dep_Time_hour</th>\n",
       "      <th>Dep_Time_minute</th>\n",
       "      <th>Arrival_Time_hour</th>\n",
       "      <th>Arrival_Time_minute</th>\n",
       "    </tr>\n",
       "  </thead>\n",
       "  <tbody>\n",
       "    <tr>\n",
       "      <th>0</th>\n",
       "      <td>IndiGo</td>\n",
       "      <td>Banglore</td>\n",
       "      <td>New Delhi</td>\n",
       "      <td>BLR → DEL</td>\n",
       "      <td>2h 50m</td>\n",
       "      <td>non-stop</td>\n",
       "      <td>No info</td>\n",
       "      <td>3897</td>\n",
       "      <td>2019</td>\n",
       "      <td>3</td>\n",
       "      <td>24</td>\n",
       "      <td>22</td>\n",
       "      <td>20</td>\n",
       "      <td>1</td>\n",
       "      <td>10</td>\n",
       "    </tr>\n",
       "    <tr>\n",
       "      <th>1</th>\n",
       "      <td>Air India</td>\n",
       "      <td>Kolkata</td>\n",
       "      <td>Banglore</td>\n",
       "      <td>CCU → IXR → BBI → BLR</td>\n",
       "      <td>7h 25m</td>\n",
       "      <td>2 stops</td>\n",
       "      <td>No info</td>\n",
       "      <td>7662</td>\n",
       "      <td>2019</td>\n",
       "      <td>1</td>\n",
       "      <td>5</td>\n",
       "      <td>5</td>\n",
       "      <td>50</td>\n",
       "      <td>13</td>\n",
       "      <td>15</td>\n",
       "    </tr>\n",
       "    <tr>\n",
       "      <th>2</th>\n",
       "      <td>Jet Airways</td>\n",
       "      <td>Delhi</td>\n",
       "      <td>Cochin</td>\n",
       "      <td>DEL → LKO → BOM → COK</td>\n",
       "      <td>19h</td>\n",
       "      <td>2 stops</td>\n",
       "      <td>No info</td>\n",
       "      <td>13882</td>\n",
       "      <td>2019</td>\n",
       "      <td>9</td>\n",
       "      <td>6</td>\n",
       "      <td>9</td>\n",
       "      <td>25</td>\n",
       "      <td>4</td>\n",
       "      <td>25</td>\n",
       "    </tr>\n",
       "    <tr>\n",
       "      <th>3</th>\n",
       "      <td>IndiGo</td>\n",
       "      <td>Kolkata</td>\n",
       "      <td>Banglore</td>\n",
       "      <td>CCU → NAG → BLR</td>\n",
       "      <td>5h 25m</td>\n",
       "      <td>1 stop</td>\n",
       "      <td>No info</td>\n",
       "      <td>6218</td>\n",
       "      <td>2019</td>\n",
       "      <td>12</td>\n",
       "      <td>5</td>\n",
       "      <td>18</td>\n",
       "      <td>5</td>\n",
       "      <td>23</td>\n",
       "      <td>30</td>\n",
       "    </tr>\n",
       "    <tr>\n",
       "      <th>4</th>\n",
       "      <td>IndiGo</td>\n",
       "      <td>Banglore</td>\n",
       "      <td>New Delhi</td>\n",
       "      <td>BLR → NAG → DEL</td>\n",
       "      <td>4h 45m</td>\n",
       "      <td>1 stop</td>\n",
       "      <td>No info</td>\n",
       "      <td>13302</td>\n",
       "      <td>2019</td>\n",
       "      <td>1</td>\n",
       "      <td>3</td>\n",
       "      <td>16</td>\n",
       "      <td>50</td>\n",
       "      <td>21</td>\n",
       "      <td>35</td>\n",
       "    </tr>\n",
       "  </tbody>\n",
       "</table>\n",
       "</div>"
      ],
      "text/plain": [
       "       Airline    Source Destination                  Route Duration  \\\n",
       "0       IndiGo  Banglore   New Delhi              BLR → DEL   2h 50m   \n",
       "1    Air India   Kolkata    Banglore  CCU → IXR → BBI → BLR   7h 25m   \n",
       "2  Jet Airways     Delhi      Cochin  DEL → LKO → BOM → COK      19h   \n",
       "3       IndiGo   Kolkata    Banglore        CCU → NAG → BLR   5h 25m   \n",
       "4       IndiGo  Banglore   New Delhi        BLR → NAG → DEL   4h 45m   \n",
       "\n",
       "  Total_Stops Additional_Info  Price  journey_year  journey_month  \\\n",
       "0    non-stop         No info   3897          2019              3   \n",
       "1     2 stops         No info   7662          2019              1   \n",
       "2     2 stops         No info  13882          2019              9   \n",
       "3      1 stop         No info   6218          2019             12   \n",
       "4      1 stop         No info  13302          2019              1   \n",
       "\n",
       "   journey_day  Dep_Time_hour  Dep_Time_minute  Arrival_Time_hour  \\\n",
       "0           24             22               20                  1   \n",
       "1            5              5               50                 13   \n",
       "2            6              9               25                  4   \n",
       "3            5             18                5                 23   \n",
       "4            3             16               50                 21   \n",
       "\n",
       "   Arrival_Time_minute  \n",
       "0                   10  \n",
       "1                   15  \n",
       "2                   25  \n",
       "3                   30  \n",
       "4                   35  "
      ]
     },
     "execution_count": 19,
     "metadata": {},
     "output_type": "execute_result"
    }
   ],
   "source": [
    "for feature in (['Dep_Time', 'Arrival_Time']):\n",
    "    extract_hour_min(df, feature)\n",
    "df.head()"
   ]
  },
  {
   "cell_type": "markdown",
   "id": "69cfd402",
   "metadata": {},
   "source": [
    "## We want to visualize how many flights depart at what hours"
   ]
  },
  {
   "cell_type": "code",
   "execution_count": 20,
   "id": "22d0948c",
   "metadata": {},
   "outputs": [],
   "source": [
    "def departure_time_group(x):\n",
    "    if x > 4 and x <= 8:\n",
    "        return \"Early mrng\"\n",
    "    elif x > 8 and x <= 12:\n",
    "        return \"Morning\"\n",
    "    elif x > 12 and x <= 16:\n",
    "        return \"Noon\"\n",
    "    elif x > 16 and x <= 20:\n",
    "        return \"Evening\"\n",
    "    elif x > 20 and x <= 24:\n",
    "        return \"Late night\""
   ]
  },
  {
   "cell_type": "code",
   "execution_count": 21,
   "id": "ab81381a",
   "metadata": {
    "scrolled": true
   },
   "outputs": [
    {
     "data": {
      "text/plain": [
       "<AxesSubplot:>"
      ]
     },
     "execution_count": 21,
     "metadata": {},
     "output_type": "execute_result"
    },
    {
     "data": {
      "image/png": "[encoded data removed]",
      "text/plain": [
       "<Figure size 432x288 with 1 Axes>"
      ]
     },
     "metadata": {
      "needs_background": "light"
     },
     "output_type": "display_data"
    }
   ],
   "source": [
    "df['Dep_Time_hour'].apply(departure_time_group).value_counts().plot(kind='bar')"
   ]
  },
  {
   "cell_type": "markdown",
   "id": "f6f707ad",
   "metadata": {},
   "source": [
    "**How to make this plot interactive?**"
   ]
  },
  {
   "cell_type": "code",
   "execution_count": 22,
   "id": "bdbcfd43",
   "metadata": {},
   "outputs": [],
   "source": [
    "import plotly\n",
    "import cufflinks as cf\n",
    "from cufflinks.offline import go_offline\n",
    "from plotly.offline import download_plotlyjs, init_notebook_mode, plot, iplot"
   ]
  },
  {
   "cell_type": "code",
   "execution_count": 23,
   "id": "e321988d",
   "metadata": {},
   "outputs": [
    {
     "data": {
      "text/html": [
       "        <script type=\"text/javascript\">\n",
       "        window.PlotlyConfig = {MathJaxConfig: 'local'};\n",
       "        if (window.MathJax && window.MathJax.Hub && window.MathJax.Hub.Config) {window.MathJax.Hub.Config({SVG: {font: \"STIX-Web\"}});}\n",
       "        if (typeof require !== 'undefined') {\n",
       "        require.undef(\"plotly\");\n",
       "        requirejs.config({\n",
       "            paths: {\n",
       "                'plotly': ['https://cdn.plot.ly/plotly-2.14.0.min']\n",
       "            }\n",
       "        });\n",
       "        require(['plotly'], function(Plotly) {\n",
       "            window._Plotly = Plotly;\n",
       "        });\n",
       "        }\n",
       "        </script>\n",
       "        "
      ]
     },
     "metadata": {},
     "output_type": "display_data"
    }
   ],
   "source": [
    "cf.go_offline()"
   ]
  },
  {
   "cell_type": "code",
   "execution_count": 24,
   "id": "a2903a2f",
   "metadata": {
    "scrolled": true
   },
   "outputs": [
    {
     "data": {
      "application/vnd.plotly.v1+json": {
       "config": {
        "linkText": "Export to plot.ly",
        "plotlyServerURL": "https://plot.ly",
        "showLink": true
       },
       "data": [
        {
         "marker": {
          "color": "rgba(255, 153, 51, 0.6)",
          "line": {
           "color": "rgba(255, 153, 51, 1.0)",
           "width": 1
          }
         },
         "name": "Dep_Time_hour",
         "orientation": "v",
         "text": "",
         "type": "bar",
         "x": [
          "Early mrng",
          "Evening",
          "Morning",
          "Noon",
          "Late night"
         ],
         "y": [
          2880,
          2357,
          2209,
          1731,
          1040
         ]
        }
       ],
       "layout": {
        "legend": {
         "bgcolor": "#F5F6F9",
         "font": {
          "color": "#4D5663"
         }
        },
        "paper_bgcolor": "#F5F6F9",
        "plot_bgcolor": "#F5F6F9",
        "template": {
         "data": {
          "bar": [
           {
            "error_x": {
             "color": "#2a3f5f"
            },
            "error_y": {
             "color": "#2a3f5f"
            },
            "marker": {
             "line": {
              "color": "#E5ECF6",
              "width": 0.5
             },
             "pattern": {
              "fillmode": "overlay",
              "size": 10,
              "solidity": 0.2
             }
            },
            "type": "bar"
           }
          ],
          "barpolar": [
           {
            "marker": {
             "line": {
              "color": "#E5ECF6",
              "width": 0.5
             },
             "pattern": {
              "fillmode": "overlay",
              "size": 10,
              "solidity": 0.2
             }
            },
            "type": "barpolar"
           }
          ],
          "carpet": [
           {
            "aaxis": {
             "endlinecolor": "#2a3f5f",
             "gridcolor": "white",
             "linecolor": "white",
             "minorgridcolor": "white",
             "startlinecolor": "#2a3f5f"
            },
            "baxis": {
             "endlinecolor": "#2a3f5f",
             "gridcolor": "white",
             "linecolor": "white",
             "minorgridcolor": "white",
             "startlinecolor": "#2a3f5f"
            },
            "type": "carpet"
           }
          ],
          "choropleth": [
           {
            "colorbar": {
             "outlinewidth": 0,
             "ticks": ""
            },
            "type": "choropleth"
           }
          ],
          "contour": [
           {
            "colorbar": {
             "outlinewidth": 0,
             "ticks": ""
            },
            "colorscale": [
             [
              0,
              "#0d0887"
             ],
             [
              0.1111111111111111,
              "#46039f"
             ],
             [
              0.2222222222222222,
              "#7201a8"
             ],
             [
              0.3333333333333333,
              "#9c179e"
             ],
             [
              0.4444444444444444,
              "#bd3786"
             ],
             [
              0.5555555555555556,
              "#d8576b"
             ],
             [
              0.6666666666666666,
              "#ed7953"
             ],
             [
              0.7777777777777778,
              "#fb9f3a"
             ],
             [
              0.8888888888888888,
              "#fdca26"
             ],
             [
              1,
              "#f0f921"
             ]
            ],
            "type": "contour"
           }
          ],
          "contourcarpet": [
           {
            "colorbar": {
             "outlinewidth": 0,
             "ticks": ""
            },
            "type": "contourcarpet"
           }
          ],
          "heatmap": [
           {
            "colorbar": {
             "outlinewidth": 0,
             "ticks": ""
            },
            "colorscale": [
             [
              0,
              "#0d0887"
             ],
             [
              0.1111111111111111,
              "#46039f"
             ],
             [
              0.2222222222222222,
              "#7201a8"
             ],
             [
              0.3333333333333333,
              "#9c179e"
             ],
             [
              0.4444444444444444,
              "#bd3786"
             ],
             [
              0.5555555555555556,
              "#d8576b"
             ],
             [
              0.6666666666666666,
              "#ed7953"
             ],
             [
              0.7777777777777778,
              "#fb9f3a"
             ],
             [
              0.8888888888888888,
              "#fdca26"
             ],
             [
              1,
              "#f0f921"
             ]
            ],
            "type": "heatmap"
           }
          ],
          "heatmapgl": [
           {
            "colorbar": {
             "outlinewidth": 0,
             "ticks": ""
            },
            "colorscale": [
             [
              0,
              "#0d0887"
             ],
             [
              0.1111111111111111,
              "#46039f"
             ],
             [
              0.2222222222222222,
              "#7201a8"
             ],
             [
              0.3333333333333333,
              "#9c179e"
             ],
             [
              0.4444444444444444,
              "#bd3786"
             ],
             [
              0.5555555555555556,
              "#d8576b"
             ],
             [
              0.6666666666666666,
              "#ed7953"
             ],
             [
              0.7777777777777778,
              "#fb9f3a"
             ],
             [
              0.8888888888888888,
              "#fdca26"
             ],
             [
              1,
              "#f0f921"
             ]
            ],
            "type": "heatmapgl"
           }
          ],
          "histogram": [
           {
            "marker": {
             "pattern": {
              "fillmode": "overlay",
              "size": 10,
              "solidity": 0.2
             }
            },
            "type": "histogram"
           }
          ],
          "histogram2d": [
           {
            "colorbar": {
             "outlinewidth": 0,
             "ticks": ""
            },
            "colorscale": [
             [
              0,
              "#0d0887"
             ],
             [
              0.1111111111111111,
              "#46039f"
             ],
             [
              0.2222222222222222,
              "#7201a8"
             ],
             [
              0.3333333333333333,
              "#9c179e"
             ],
             [
              0.4444444444444444,
              "#bd3786"
             ],
             [
              0.5555555555555556,
              "#d8576b"
             ],
             [
              0.6666666666666666,
              "#ed7953"
             ],
             [
              0.7777777777777778,
              "#fb9f3a"
             ],
             [
              0.8888888888888888,
              "#fdca26"
             ],
             [
              1,
              "#f0f921"
             ]
            ],
            "type": "histogram2d"
           }
          ],
          "histogram2dcontour": [
           {
            "colorbar": {
             "outlinewidth": 0,
             "ticks": ""
            },
            "colorscale": [
             [
              0,
              "#0d0887"
             ],
             [
              0.1111111111111111,
              "#46039f"
             ],
             [
              0.2222222222222222,
              "#7201a8"
             ],
             [
              0.3333333333333333,
              "#9c179e"
             ],
             [
              0.4444444444444444,
              "#bd3786"
             ],
             [
              0.5555555555555556,
              "#d8576b"
             ],
             [
              0.6666666666666666,
              "#ed7953"
             ],
             [
              0.7777777777777778,
              "#fb9f3a"
             ],
             [
              0.8888888888888888,
              "#fdca26"
             ],
             [
              1,
              "#f0f921"
             ]
            ],
            "type": "histogram2dcontour"
           }
          ],
          "mesh3d": [
           {
            "colorbar": {
             "outlinewidth": 0,
             "ticks": ""
            },
            "type": "mesh3d"
           }
          ],
          "parcoords": [
           {
            "line": {
             "colorbar": {
              "outlinewidth": 0,
              "ticks": ""
             }
            },
            "type": "parcoords"
           }
          ],
          "pie": [
           {
            "automargin": true,
            "type": "pie"
           }
          ],
          "scatter": [
           {
            "fillpattern": {
             "fillmode": "overlay",
             "size": 10,
             "solidity": 0.2
            },
            "type": "scatter"
           }
          ],
          "scatter3d": [
           {
            "line": {
             "colorbar": {
              "outlinewidth": 0,
              "ticks": ""
             }
            },
            "marker": {
             "colorbar": {
              "outlinewidth": 0,
              "ticks": ""
             }
            },
            "type": "scatter3d"
           }
          ],
          "scattercarpet": [
           {
            "marker": {
             "colorbar": {
              "outlinewidth": 0,
              "ticks": ""
             }
            },
            "type": "scattercarpet"
           }
          ],
          "scattergeo": [
           {
            "marker": {
             "colorbar": {
              "outlinewidth": 0,
              "ticks": ""
             }
            },
            "type": "scattergeo"
           }
          ],
          "scattergl": [
           {
            "marker": {
             "colorbar": {
              "outlinewidth": 0,
              "ticks": ""
             }
            },
            "type": "scattergl"
           }
          ],
          "scattermapbox": [
           {
            "marker": {
             "colorbar": {
              "outlinewidth": 0,
              "ticks": ""
             }
            },
            "type": "scattermapbox"
           }
          ],
          "scatterpolar": [
           {
            "marker": {
             "colorbar": {
              "outlinewidth": 0,
              "ticks": ""
             }
            },
            "type": "scatterpolar"
           }
          ],
          "scatterpolargl": [
           {
            "marker": {
             "colorbar": {
              "outlinewidth": 0,
              "ticks": ""
             }
            },
            "type": "scatterpolargl"
           }
          ],
          "scatterternary": [
           {
            "marker": {
             "colorbar": {
              "outlinewidth": 0,
              "ticks": ""
             }
            },
            "type": "scatterternary"
           }
          ],
          "surface": [
           {
            "colorbar": {
             "outlinewidth": 0,
             "ticks": ""
            },
            "colorscale": [
             [
              0,
              "#0d0887"
             ],
             [
              0.1111111111111111,
              "#46039f"
             ],
             [
              0.2222222222222222,
              "#7201a8"
             ],
             [
              0.3333333333333333,
              "#9c179e"
             ],
             [
              0.4444444444444444,
              "#bd3786"
             ],
             [
              0.5555555555555556,
              "#d8576b"
             ],
             [
              0.6666666666666666,
              "#ed7953"
             ],
             [
              0.7777777777777778,
              "#fb9f3a"
             ],
             [
              0.8888888888888888,
              "#fdca26"
             ],
             [
              1,
              "#f0f921"
             ]
            ],
            "type": "surface"
           }
          ],
          "table": [
           {
            "cells": {
             "fill": {
              "color": "#EBF0F8"
             },
             "line": {
              "color": "white"
             }
            },
            "header": {
             "fill": {
              "color": "#C8D4E3"
             },
             "line": {
              "color": "white"
             }
            },
            "type": "table"
           }
          ]
         },
         "layout": {
          "annotationdefaults": {
           "arrowcolor": "#2a3f5f",
           "arrowhead": 0,
           "arrowwidth": 1
          },
          "autotypenumbers": "strict",
          "coloraxis": {
           "colorbar": {
            "outlinewidth": 0,
            "ticks": ""
           }
          },
          "colorscale": {
           "diverging": [
            [
             0,
             "#8e0152"
            ],
            [
             0.1,
             "#c51b7d"
            ],
            [
             0.2,
             "#de77ae"
            ],
            [
             0.3,
             "#f1b6da"
            ],
            [
             0.4,
             "#fde0ef"
            ],
            [
             0.5,
             "#f7f7f7"
            ],
            [
             0.6,
             "#e6f5d0"
            ],
            [
             0.7,
             "#b8e186"
            ],
            [
             0.8,
             "#7fbc41"
            ],
            [
             0.9,
             "#4d9221"
            ],
            [
             1,
             "#276419"
            ]
           ],
           "sequential": [
            [
             0,
             "#0d0887"
            ],
            [
             0.1111111111111111,
             "#46039f"
            ],
            [
             0.2222222222222222,
             "#7201a8"
            ],
            [
             0.3333333333333333,
             "#9c179e"
            ],
            [
             0.4444444444444444,
             "#bd3786"
            ],
            [
             0.5555555555555556,
             "#d8576b"
            ],
            [
             0.6666666666666666,
             "#ed7953"
            ],
            [
             0.7777777777777778,
             "#fb9f3a"
            ],
            [
             0.8888888888888888,
             "#fdca26"
            ],
            [
             1,
             "#f0f921"
            ]
           ],
           "sequentialminus": [
            [
             0,
             "#0d0887"
            ],
            [
             0.1111111111111111,
             "#46039f"
            ],
            [
             0.2222222222222222,
             "#7201a8"
            ],
            [
             0.3333333333333333,
             "#9c179e"
            ],
            [
             0.4444444444444444,
             "#bd3786"
            ],
            [
             0.5555555555555556,
             "#d8576b"
            ],
            [
             0.6666666666666666,
             "#ed7953"
            ],
            [
             0.7777777777777778,
             "#fb9f3a"
            ],
            [
             0.8888888888888888,
             "#fdca26"
            ],
            [
             1,
             "#f0f921"
            ]
           ]
          },
          "colorway": [
           "#636efa",
           "#EF553B",
           "#00cc96",
           "#ab63fa",
           "#FFA15A",
           "#19d3f3",
           "#FF6692",
           "#B6E880",
           "#FF97FF",
           "#FECB52"
          ],
          "font": {
           "color": "#2a3f5f"
          },
          "geo": {
           "bgcolor": "white",
           "lakecolor": "white",
           "landcolor": "#E5ECF6",
           "showlakes": true,
           "showland": true,
           "subunitcolor": "white"
          },
          "hoverlabel": {
           "align": "left"
          },
          "hovermode": "closest",
          "mapbox": {
           "style": "light"
          },
          "paper_bgcolor": "white",
          "plot_bgcolor": "#E5ECF6",
          "polar": {
           "angularaxis": {
            "gridcolor": "white",
            "linecolor": "white",
            "ticks": ""
           },
           "bgcolor": "#E5ECF6",
           "radialaxis": {
            "gridcolor": "white",
            "linecolor": "white",
            "ticks": ""
           }
          },
          "scene": {
           "xaxis": {
            "backgroundcolor": "#E5ECF6",
            "gridcolor": "white",
            "gridwidth": 2,
            "linecolor": "white",
            "showbackground": true,
            "ticks": "",
            "zerolinecolor": "white"
           },
           "yaxis": {
            "backgroundcolor": "#E5ECF6",
            "gridcolor": "white",
            "gridwidth": 2,
            "linecolor": "white",
            "showbackground": true,
            "ticks": "",
            "zerolinecolor": "white"
           },
           "zaxis": {
            "backgroundcolor": "#E5ECF6",
            "gridcolor": "white",
            "gridwidth": 2,
            "linecolor": "white",
            "showbackground": true,
            "ticks": "",
            "zerolinecolor": "white"
           }
          },
          "shapedefaults": {
           "line": {
            "color": "#2a3f5f"
           }
          },
          "ternary": {
           "aaxis": {
            "gridcolor": "white",
            "linecolor": "white",
            "ticks": ""
           },
           "baxis": {
            "gridcolor": "white",
            "linecolor": "white",
            "ticks": ""
           },
           "bgcolor": "#E5ECF6",
           "caxis": {
            "gridcolor": "white",
            "linecolor": "white",
            "ticks": ""
           }
          },
          "title": {
           "x": 0.05
          },
          "xaxis": {
           "automargin": true,
           "gridcolor": "white",
           "linecolor": "white",
           "ticks": "",
           "title": {
            "standoff": 15
           },
           "zerolinecolor": "white",
           "zerolinewidth": 2
          },
          "yaxis": {
           "automargin": true,
           "gridcolor": "white",
           "linecolor": "white",
           "ticks": "",
           "title": {
            "standoff": 15
           },
           "zerolinecolor": "white",
           "zerolinewidth": 2
          }
         }
        },
        "title": {
         "font": {
          "color": "#4D5663"
         }
        },
        "xaxis": {
         "gridcolor": "#E1E5ED",
         "showgrid": true,
         "tickfont": {
          "color": "#4D5663"
         },
         "title": {
          "font": {
           "color": "#4D5663"
          },
          "text": ""
         },
         "zerolinecolor": "#E1E5ED"
        },
        "yaxis": {
         "gridcolor": "#E1E5ED",
         "showgrid": true,
         "tickfont": {
          "color": "#4D5663"
         },
         "title": {
          "font": {
           "color": "#4D5663"
          },
          "text": ""
         },
         "zerolinecolor": "#E1E5ED"
        }
       }
      },
      "text/html": [
       "<div>                            <div id=\"7208a6e3-7d79-478d-9739-2331e78cb1cb\" class=\"plotly-graph-div\" style=\"height:525px; width:100%;\"></div>            <script type=\"text/javascript\">                require([\"plotly\"], function(Plotly) {                    window.PLOTLYENV=window.PLOTLYENV || {};\n",
       "                    window.PLOTLYENV.BASE_URL='https://plot.ly';                                    if (document.getElementById(\"7208a6e3-7d79-478d-9739-2331e78cb1cb\")) {                    Plotly.newPlot(                        \"7208a6e3-7d79-478d-9739-2331e78cb1cb\",                        [{\"marker\":{\"color\":\"rgba(255, 153, 51, 0.6)\",\"line\":{\"color\":\"rgba(255, 153, 51, 1.0)\",\"width\":1}},\"name\":\"Dep_Time_hour\",\"orientation\":\"v\",\"text\":\"\",\"x\":[\"Early mrng\",\"Evening\",\"Morning\",\"Noon\",\"Late night\"],\"y\":[2880,2357,2209,1731,1040],\"type\":\"bar\"}],                        {\"legend\":{\"bgcolor\":\"#F5F6F9\",\"font\":{\"color\":\"#4D5663\"}},\"paper_bgcolor\":\"#F5F6F9\",\"plot_bgcolor\":\"#F5F6F9\",\"template\":{\"data\":{\"barpolar\":[{\"marker\":{\"line\":{\"color\":\"#E5ECF6\",\"width\":0.5},\"pattern\":{\"fillmode\":\"overlay\",\"size\":10,\"solidity\":0.2}},\"type\":\"barpolar\"}],\"bar\":[{\"error_x\":{\"color\":\"#2a3f5f\"},\"error_y\":{\"color\":\"#2a3f5f\"},\"marker\":{\"line\":{\"color\":\"#E5ECF6\",\"width\":0.5},\"pattern\":{\"fillmode\":\"overlay\",\"size\":10,\"solidity\":0.2}},\"type\":\"bar\"}],\"carpet\":[{\"aaxis\":{\"endlinecolor\":\"#2a3f5f\",\"gridcolor\":\"white\",\"linecolor\":\"white\",\"minorgridcolor\":\"white\",\"startlinecolor\":\"#2a3f5f\"},\"baxis\":{\"endlinecolor\":\"#2a3f5f\",\"gridcolor\":\"white\",\"linecolor\":\"white\",\"minorgridcolor\":\"white\",\"startlinecolor\":\"#2a3f5f\"},\"type\":\"carpet\"}],\"choropleth\":[{\"colorbar\":{\"outlinewidth\":0,\"ticks\":\"\"},\"type\":\"choropleth\"}],\"contourcarpet\":[{\"colorbar\":{\"outlinewidth\":0,\"ticks\":\"\"},\"type\":\"contourcarpet\"}],\"contour\":[{\"colorbar\":{\"outlinewidth\":0,\"ticks\":\"\"},\"colorscale\":[[0.0,\"#0d0887\"],[0.1111111111111111,\"#46039f\"],[0.2222222222222222,\"#7201a8\"],[0.3333333333333333,\"#9c179e\"],[0.4444444444444444,\"#bd3786\"],[0.5555555555555556,\"#d8576b\"],[0.6666666666666666,\"#ed7953\"],[0.7777777777777778,\"#fb9f3a\"],[0.8888888888888888,\"#fdca26\"],[1.0,\"#f0f921\"]],\"type\":\"contour\"}],\"heatmapgl\":[{\"colorbar\":{\"outlinewidth\":0,\"ticks\":\"\"},\"colorscale\":[[0.0,\"#0d0887\"],[0.1111111111111111,\"#46039f\"],[0.2222222222222222,\"#7201a8\"],[0.3333333333333333,\"#9c179e\"],[0.4444444444444444,\"#bd3786\"],[0.5555555555555556,\"#d8576b\"],[0.6666666666666666,\"#ed7953\"],[0.7777777777777778,\"#fb9f3a\"],[0.8888888888888888,\"#fdca26\"],[1.0,\"#f0f921\"]],\"type\":\"heatmapgl\"}],\"heatmap\":[{\"colorbar\":{\"outlinewidth\":0,\"ticks\":\"\"},\"colorscale\":[[0.0,\"#0d0887\"],[0.1111111111111111,\"#46039f\"],[0.2222222222222222,\"#7201a8\"],[0.3333333333333333,\"#9c179e\"],[0.4444444444444444,\"#bd3786\"],[0.5555555555555556,\"#d8576b\"],[0.6666666666666666,\"#ed7953\"],[0.7777777777777778,\"#fb9f3a\"],[0.8888888888888888,\"#fdca26\"],[1.0,\"#f0f921\"]],\"type\":\"heatmap\"}],\"histogram2dcontour\":[{\"colorbar\":{\"outlinewidth\":0,\"ticks\":\"\"},\"colorscale\":[[0.0,\"#0d0887\"],[0.1111111111111111,\"#46039f\"],[0.2222222222222222,\"#7201a8\"],[0.3333333333333333,\"#9c179e\"],[0.4444444444444444,\"#bd3786\"],[0.5555555555555556,\"#d8576b\"],[0.6666666666666666,\"#ed7953\"],[0.7777777777777778,\"#fb9f3a\"],[0.8888888888888888,\"#fdca26\"],[1.0,\"#f0f921\"]],\"type\":\"histogram2dcontour\"}],\"histogram2d\":[{\"colorbar\":{\"outlinewidth\":0,\"ticks\":\"\"},\"colorscale\":[[0.0,\"#0d0887\"],[0.1111111111111111,\"#46039f\"],[0.2222222222222222,\"#7201a8\"],[0.3333333333333333,\"#9c179e\"],[0.4444444444444444,\"#bd3786\"],[0.5555555555555556,\"#d8576b\"],[0.6666666666666666,\"#ed7953\"],[0.7777777777777778,\"#fb9f3a\"],[0.8888888888888888,\"#fdca26\"],[1.0,\"#f0f921\"]],\"type\":\"histogram2d\"}],\"histogram\":[{\"marker\":{\"pattern\":{\"fillmode\":\"overlay\",\"size\":10,\"solidity\":0.2}},\"type\":\"histogram\"}],\"mesh3d\":[{\"colorbar\":{\"outlinewidth\":0,\"ticks\":\"\"},\"type\":\"mesh3d\"}],\"parcoords\":[{\"line\":{\"colorbar\":{\"outlinewidth\":0,\"ticks\":\"\"}},\"type\":\"parcoords\"}],\"pie\":[{\"automargin\":true,\"type\":\"pie\"}],\"scatter3d\":[{\"line\":{\"colorbar\":{\"outlinewidth\":0,\"ticks\":\"\"}},\"marker\":{\"colorbar\":{\"outlinewidth\":0,\"ticks\":\"\"}},\"type\":\"scatter3d\"}],\"scattercarpet\":[{\"marker\":{\"colorbar\":{\"outlinewidth\":0,\"ticks\":\"\"}},\"type\":\"scattercarpet\"}],\"scattergeo\":[{\"marker\":{\"colorbar\":{\"outlinewidth\":0,\"ticks\":\"\"}},\"type\":\"scattergeo\"}],\"scattergl\":[{\"marker\":{\"colorbar\":{\"outlinewidth\":0,\"ticks\":\"\"}},\"type\":\"scattergl\"}],\"scattermapbox\":[{\"marker\":{\"colorbar\":{\"outlinewidth\":0,\"ticks\":\"\"}},\"type\":\"scattermapbox\"}],\"scatterpolargl\":[{\"marker\":{\"colorbar\":{\"outlinewidth\":0,\"ticks\":\"\"}},\"type\":\"scatterpolargl\"}],\"scatterpolar\":[{\"marker\":{\"colorbar\":{\"outlinewidth\":0,\"ticks\":\"\"}},\"type\":\"scatterpolar\"}],\"scatter\":[{\"fillpattern\":{\"fillmode\":\"overlay\",\"size\":10,\"solidity\":0.2},\"type\":\"scatter\"}],\"scatterternary\":[{\"marker\":{\"colorbar\":{\"outlinewidth\":0,\"ticks\":\"\"}},\"type\":\"scatterternary\"}],\"surface\":[{\"colorbar\":{\"outlinewidth\":0,\"ticks\":\"\"},\"colorscale\":[[0.0,\"#0d0887\"],[0.1111111111111111,\"#46039f\"],[0.2222222222222222,\"#7201a8\"],[0.3333333333333333,\"#9c179e\"],[0.4444444444444444,\"#bd3786\"],[0.5555555555555556,\"#d8576b\"],[0.6666666666666666,\"#ed7953\"],[0.7777777777777778,\"#fb9f3a\"],[0.8888888888888888,\"#fdca26\"],[1.0,\"#f0f921\"]],\"type\":\"surface\"}],\"table\":[{\"cells\":{\"fill\":{\"color\":\"#EBF0F8\"},\"line\":{\"color\":\"white\"}},\"header\":{\"fill\":{\"color\":\"#C8D4E3\"},\"line\":{\"color\":\"white\"}},\"type\":\"table\"}]},\"layout\":{\"annotationdefaults\":{\"arrowcolor\":\"#2a3f5f\",\"arrowhead\":0,\"arrowwidth\":1},\"autotypenumbers\":\"strict\",\"coloraxis\":{\"colorbar\":{\"outlinewidth\":0,\"ticks\":\"\"}},\"colorscale\":{\"diverging\":[[0,\"#8e0152\"],[0.1,\"#c51b7d\"],[0.2,\"#de77ae\"],[0.3,\"#f1b6da\"],[0.4,\"#fde0ef\"],[0.5,\"#f7f7f7\"],[0.6,\"#e6f5d0\"],[0.7,\"#b8e186\"],[0.8,\"#7fbc41\"],[0.9,\"#4d9221\"],[1,\"#276419\"]],\"sequential\":[[0.0,\"#0d0887\"],[0.1111111111111111,\"#46039f\"],[0.2222222222222222,\"#7201a8\"],[0.3333333333333333,\"#9c179e\"],[0.4444444444444444,\"#bd3786\"],[0.5555555555555556,\"#d8576b\"],[0.6666666666666666,\"#ed7953\"],[0.7777777777777778,\"#fb9f3a\"],[0.8888888888888888,\"#fdca26\"],[1.0,\"#f0f921\"]],\"sequentialminus\":[[0.0,\"#0d0887\"],[0.1111111111111111,\"#46039f\"],[0.2222222222222222,\"#7201a8\"],[0.3333333333333333,\"#9c179e\"],[0.4444444444444444,\"#bd3786\"],[0.5555555555555556,\"#d8576b\"],[0.6666666666666666,\"#ed7953\"],[0.7777777777777778,\"#fb9f3a\"],[0.8888888888888888,\"#fdca26\"],[1.0,\"#f0f921\"]]},\"colorway\":[\"#636efa\",\"#EF553B\",\"#00cc96\",\"#ab63fa\",\"#FFA15A\",\"#19d3f3\",\"#FF6692\",\"#B6E880\",\"#FF97FF\",\"#FECB52\"],\"font\":{\"color\":\"#2a3f5f\"},\"geo\":{\"bgcolor\":\"white\",\"lakecolor\":\"white\",\"landcolor\":\"#E5ECF6\",\"showlakes\":true,\"showland\":true,\"subunitcolor\":\"white\"},\"hoverlabel\":{\"align\":\"left\"},\"hovermode\":\"closest\",\"mapbox\":{\"style\":\"light\"},\"paper_bgcolor\":\"white\",\"plot_bgcolor\":\"#E5ECF6\",\"polar\":{\"angularaxis\":{\"gridcolor\":\"white\",\"linecolor\":\"white\",\"ticks\":\"\"},\"bgcolor\":\"#E5ECF6\",\"radialaxis\":{\"gridcolor\":\"white\",\"linecolor\":\"white\",\"ticks\":\"\"}},\"scene\":{\"xaxis\":{\"backgroundcolor\":\"#E5ECF6\",\"gridcolor\":\"white\",\"gridwidth\":2,\"linecolor\":\"white\",\"showbackground\":true,\"ticks\":\"\",\"zerolinecolor\":\"white\"},\"yaxis\":{\"backgroundcolor\":\"#E5ECF6\",\"gridcolor\":\"white\",\"gridwidth\":2,\"linecolor\":\"white\",\"showbackground\":true,\"ticks\":\"\",\"zerolinecolor\":\"white\"},\"zaxis\":{\"backgroundcolor\":\"#E5ECF6\",\"gridcolor\":\"white\",\"gridwidth\":2,\"linecolor\":\"white\",\"showbackground\":true,\"ticks\":\"\",\"zerolinecolor\":\"white\"}},\"shapedefaults\":{\"line\":{\"color\":\"#2a3f5f\"}},\"ternary\":{\"aaxis\":{\"gridcolor\":\"white\",\"linecolor\":\"white\",\"ticks\":\"\"},\"baxis\":{\"gridcolor\":\"white\",\"linecolor\":\"white\",\"ticks\":\"\"},\"bgcolor\":\"#E5ECF6\",\"caxis\":{\"gridcolor\":\"white\",\"linecolor\":\"white\",\"ticks\":\"\"}},\"title\":{\"x\":0.05},\"xaxis\":{\"automargin\":true,\"gridcolor\":\"white\",\"linecolor\":\"white\",\"ticks\":\"\",\"title\":{\"standoff\":15},\"zerolinecolor\":\"white\",\"zerolinewidth\":2},\"yaxis\":{\"automargin\":true,\"gridcolor\":\"white\",\"linecolor\":\"white\",\"ticks\":\"\",\"title\":{\"standoff\":15},\"zerolinecolor\":\"white\",\"zerolinewidth\":2}}},\"title\":{\"font\":{\"color\":\"#4D5663\"}},\"xaxis\":{\"gridcolor\":\"#E1E5ED\",\"showgrid\":true,\"tickfont\":{\"color\":\"#4D5663\"},\"title\":{\"font\":{\"color\":\"#4D5663\"},\"text\":\"\"},\"zerolinecolor\":\"#E1E5ED\"},\"yaxis\":{\"gridcolor\":\"#E1E5ED\",\"showgrid\":true,\"tickfont\":{\"color\":\"#4D5663\"},\"title\":{\"font\":{\"color\":\"#4D5663\"},\"text\":\"\"},\"zerolinecolor\":\"#E1E5ED\"}},                        {\"showLink\": true, \"linkText\": \"Export to plot.ly\", \"plotlyServerURL\": \"https://plot.ly\", \"responsive\": true}                    ).then(function(){\n",
       "                            \n",
       "var gd = document.getElementById('7208a6e3-7d79-478d-9739-2331e78cb1cb');\n",
       "var x = new MutationObserver(function (mutations, observer) {{\n",
       "        var display = window.getComputedStyle(gd).display;\n",
       "        if (!display || display === 'none') {{\n",
       "            console.log([gd, 'removed!']);\n",
       "            Plotly.purge(gd);\n",
       "            observer.disconnect();\n",
       "        }}\n",
       "}});\n",
       "\n",
       "// Listen for the removal of the full notebook cells\n",
       "var notebookContainer = gd.closest('#notebook-container');\n",
       "if (notebookContainer) {{\n",
       "    x.observe(notebookContainer, {childList: true});\n",
       "}}\n",
       "\n",
       "// Listen for the clearing of the current output cell\n",
       "var outputEl = gd.closest('.output');\n",
       "if (outputEl) {{\n",
       "    x.observe(outputEl, {childList: true});\n",
       "}}\n",
       "\n",
       "                        })                };                });            </script>        </div>"
      ]
     },
     "metadata": {},
     "output_type": "display_data"
    }
   ],
   "source": [
    "#cufflinks wrapper applied on top of matplotlib to make interactive plots unlike the static plots of matplotlib\n",
    "df['Dep_Time_hour'].apply(departure_time_group).value_counts().iplot(kind='bar')"
   ]
  },
  {
   "cell_type": "markdown",
   "id": "11bf2e9d",
   "metadata": {},
   "source": [
    "## Get hours and minutes from Duration\n",
    "**Machine Learning model requires features to be numerical. Duration is an important feature but is stored as string, it must be converted to numbers to use it efficiently.**\n",
    "1. Convert all into hours and minutes\n",
    "2. Split hours and minutes"
   ]
  },
  {
   "cell_type": "code",
   "execution_count": 25,
   "id": "09b827de",
   "metadata": {},
   "outputs": [],
   "source": [
    "def preprocess_duration(x):\n",
    "    if 'h' not in x:\n",
    "        return '0h '+x\n",
    "    elif 'm' not in x:\n",
    "        return x+' 0m'\n",
    "    else:\n",
    "        return x"
   ]
  },
  {
   "cell_type": "code",
   "execution_count": 26,
   "id": "01e7375b",
   "metadata": {},
   "outputs": [],
   "source": [
    "df['Duration'] = df['Duration'].apply(preprocess_duration)"
   ]
  },
  {
   "cell_type": "code",
   "execution_count": 27,
   "id": "c9736bc3",
   "metadata": {},
   "outputs": [],
   "source": [
    "df['Duration_hours'] = df['Duration'].apply(lambda x: int(x.split(' ')[0][0:-1]))"
   ]
  },
  {
   "cell_type": "code",
   "execution_count": 28,
   "id": "07a819dc",
   "metadata": {},
   "outputs": [],
   "source": [
    "df['Duration_minutes'] = df['Duration'].apply(lambda x: int(x.split(' ')[1][0:-1]))"
   ]
  },
  {
   "cell_type": "code",
   "execution_count": 29,
   "id": "8a285582",
   "metadata": {
    "scrolled": true
   },
   "outputs": [
    {
     "data": {
      "text/html": [
       "<div>\n",
       "<style scoped>\n",
       "    .dataframe tbody tr th:only-of-type {\n",
       "        vertical-align: middle;\n",
       "    }\n",
       "\n",
       "    .dataframe tbody tr th {\n",
       "        vertical-align: top;\n",
       "    }\n",
       "\n",
       "    .dataframe thead th {\n",
       "        text-align: right;\n",
       "    }\n",
       "</style>\n",
       "<table border=\"1\" class=\"dataframe\">\n",
       "  <thead>\n",
       "    <tr style=\"text-align: right;\">\n",
       "      <th></th>\n",
       "      <th>Airline</th>\n",
       "      <th>Source</th>\n",
       "      <th>Destination</th>\n",
       "      <th>Route</th>\n",
       "      <th>Duration</th>\n",
       "      <th>Total_Stops</th>\n",
       "      <th>Additional_Info</th>\n",
       "      <th>Price</th>\n",
       "      <th>journey_year</th>\n",
       "      <th>journey_month</th>\n",
       "      <th>journey_day</th>\n",
       "      <th>Dep_Time_hour</th>\n",
       "      <th>Dep_Time_minute</th>\n",
       "      <th>Arrival_Time_hour</th>\n",
       "      <th>Arrival_Time_minute</th>\n",
       "      <th>Duration_hours</th>\n",
       "      <th>Duration_minutes</th>\n",
       "    </tr>\n",
       "  </thead>\n",
       "  <tbody>\n",
       "    <tr>\n",
       "      <th>0</th>\n",
       "      <td>IndiGo</td>\n",
       "      <td>Banglore</td>\n",
       "      <td>New Delhi</td>\n",
       "      <td>BLR → DEL</td>\n",
       "      <td>2h 50m</td>\n",
       "      <td>non-stop</td>\n",
       "      <td>No info</td>\n",
       "      <td>3897</td>\n",
       "      <td>2019</td>\n",
       "      <td>3</td>\n",
       "      <td>24</td>\n",
       "      <td>22</td>\n",
       "      <td>20</td>\n",
       "      <td>1</td>\n",
       "      <td>10</td>\n",
       "      <td>2</td>\n",
       "      <td>50</td>\n",
       "    </tr>\n",
       "    <tr>\n",
       "      <th>1</th>\n",
       "      <td>Air India</td>\n",
       "      <td>Kolkata</td>\n",
       "      <td>Banglore</td>\n",
       "      <td>CCU → IXR → BBI → BLR</td>\n",
       "      <td>7h 25m</td>\n",
       "      <td>2 stops</td>\n",
       "      <td>No info</td>\n",
       "      <td>7662</td>\n",
       "      <td>2019</td>\n",
       "      <td>1</td>\n",
       "      <td>5</td>\n",
       "      <td>5</td>\n",
       "      <td>50</td>\n",
       "      <td>13</td>\n",
       "      <td>15</td>\n",
       "      <td>7</td>\n",
       "      <td>25</td>\n",
       "    </tr>\n",
       "    <tr>\n",
       "      <th>2</th>\n",
       "      <td>Jet Airways</td>\n",
       "      <td>Delhi</td>\n",
       "      <td>Cochin</td>\n",
       "      <td>DEL → LKO → BOM → COK</td>\n",
       "      <td>19h 0m</td>\n",
       "      <td>2 stops</td>\n",
       "      <td>No info</td>\n",
       "      <td>13882</td>\n",
       "      <td>2019</td>\n",
       "      <td>9</td>\n",
       "      <td>6</td>\n",
       "      <td>9</td>\n",
       "      <td>25</td>\n",
       "      <td>4</td>\n",
       "      <td>25</td>\n",
       "      <td>19</td>\n",
       "      <td>0</td>\n",
       "    </tr>\n",
       "    <tr>\n",
       "      <th>3</th>\n",
       "      <td>IndiGo</td>\n",
       "      <td>Kolkata</td>\n",
       "      <td>Banglore</td>\n",
       "      <td>CCU → NAG → BLR</td>\n",
       "      <td>5h 25m</td>\n",
       "      <td>1 stop</td>\n",
       "      <td>No info</td>\n",
       "      <td>6218</td>\n",
       "      <td>2019</td>\n",
       "      <td>12</td>\n",
       "      <td>5</td>\n",
       "      <td>18</td>\n",
       "      <td>5</td>\n",
       "      <td>23</td>\n",
       "      <td>30</td>\n",
       "      <td>5</td>\n",
       "      <td>25</td>\n",
       "    </tr>\n",
       "    <tr>\n",
       "      <th>4</th>\n",
       "      <td>IndiGo</td>\n",
       "      <td>Banglore</td>\n",
       "      <td>New Delhi</td>\n",
       "      <td>BLR → NAG → DEL</td>\n",
       "      <td>4h 45m</td>\n",
       "      <td>1 stop</td>\n",
       "      <td>No info</td>\n",
       "      <td>13302</td>\n",
       "      <td>2019</td>\n",
       "      <td>1</td>\n",
       "      <td>3</td>\n",
       "      <td>16</td>\n",
       "      <td>50</td>\n",
       "      <td>21</td>\n",
       "      <td>35</td>\n",
       "      <td>4</td>\n",
       "      <td>45</td>\n",
       "    </tr>\n",
       "    <tr>\n",
       "      <th>...</th>\n",
       "      <td>...</td>\n",
       "      <td>...</td>\n",
       "      <td>...</td>\n",
       "      <td>...</td>\n",
       "      <td>...</td>\n",
       "      <td>...</td>\n",
       "      <td>...</td>\n",
       "      <td>...</td>\n",
       "      <td>...</td>\n",
       "      <td>...</td>\n",
       "      <td>...</td>\n",
       "      <td>...</td>\n",
       "      <td>...</td>\n",
       "      <td>...</td>\n",
       "      <td>...</td>\n",
       "      <td>...</td>\n",
       "      <td>...</td>\n",
       "    </tr>\n",
       "    <tr>\n",
       "      <th>10678</th>\n",
       "      <td>Air Asia</td>\n",
       "      <td>Kolkata</td>\n",
       "      <td>Banglore</td>\n",
       "      <td>CCU → BLR</td>\n",
       "      <td>2h 30m</td>\n",
       "      <td>non-stop</td>\n",
       "      <td>No info</td>\n",
       "      <td>4107</td>\n",
       "      <td>2019</td>\n",
       "      <td>9</td>\n",
       "      <td>4</td>\n",
       "      <td>19</td>\n",
       "      <td>55</td>\n",
       "      <td>22</td>\n",
       "      <td>25</td>\n",
       "      <td>2</td>\n",
       "      <td>30</td>\n",
       "    </tr>\n",
       "    <tr>\n",
       "      <th>10679</th>\n",
       "      <td>Air India</td>\n",
       "      <td>Kolkata</td>\n",
       "      <td>Banglore</td>\n",
       "      <td>CCU → BLR</td>\n",
       "      <td>2h 35m</td>\n",
       "      <td>non-stop</td>\n",
       "      <td>No info</td>\n",
       "      <td>4145</td>\n",
       "      <td>2019</td>\n",
       "      <td>4</td>\n",
       "      <td>27</td>\n",
       "      <td>20</td>\n",
       "      <td>45</td>\n",
       "      <td>23</td>\n",
       "      <td>20</td>\n",
       "      <td>2</td>\n",
       "      <td>35</td>\n",
       "    </tr>\n",
       "    <tr>\n",
       "      <th>10680</th>\n",
       "      <td>Jet Airways</td>\n",
       "      <td>Banglore</td>\n",
       "      <td>Delhi</td>\n",
       "      <td>BLR → DEL</td>\n",
       "      <td>3h 0m</td>\n",
       "      <td>non-stop</td>\n",
       "      <td>No info</td>\n",
       "      <td>7229</td>\n",
       "      <td>2019</td>\n",
       "      <td>4</td>\n",
       "      <td>27</td>\n",
       "      <td>8</td>\n",
       "      <td>20</td>\n",
       "      <td>11</td>\n",
       "      <td>20</td>\n",
       "      <td>3</td>\n",
       "      <td>0</td>\n",
       "    </tr>\n",
       "    <tr>\n",
       "      <th>10681</th>\n",
       "      <td>Vistara</td>\n",
       "      <td>Banglore</td>\n",
       "      <td>New Delhi</td>\n",
       "      <td>BLR → DEL</td>\n",
       "      <td>2h 40m</td>\n",
       "      <td>non-stop</td>\n",
       "      <td>No info</td>\n",
       "      <td>12648</td>\n",
       "      <td>2019</td>\n",
       "      <td>1</td>\n",
       "      <td>3</td>\n",
       "      <td>11</td>\n",
       "      <td>30</td>\n",
       "      <td>14</td>\n",
       "      <td>10</td>\n",
       "      <td>2</td>\n",
       "      <td>40</td>\n",
       "    </tr>\n",
       "    <tr>\n",
       "      <th>10682</th>\n",
       "      <td>Air India</td>\n",
       "      <td>Delhi</td>\n",
       "      <td>Cochin</td>\n",
       "      <td>DEL → GOI → BOM → COK</td>\n",
       "      <td>8h 20m</td>\n",
       "      <td>2 stops</td>\n",
       "      <td>No info</td>\n",
       "      <td>11753</td>\n",
       "      <td>2019</td>\n",
       "      <td>9</td>\n",
       "      <td>5</td>\n",
       "      <td>10</td>\n",
       "      <td>55</td>\n",
       "      <td>19</td>\n",
       "      <td>15</td>\n",
       "      <td>8</td>\n",
       "      <td>20</td>\n",
       "    </tr>\n",
       "  </tbody>\n",
       "</table>\n",
       "<p>10682 rows × 17 columns</p>\n",
       "</div>"
      ],
      "text/plain": [
       "           Airline    Source Destination                  Route Duration  \\\n",
       "0           IndiGo  Banglore   New Delhi              BLR → DEL   2h 50m   \n",
       "1        Air India   Kolkata    Banglore  CCU → IXR → BBI → BLR   7h 25m   \n",
       "2      Jet Airways     Delhi      Cochin  DEL → LKO → BOM → COK   19h 0m   \n",
       "3           IndiGo   Kolkata    Banglore        CCU → NAG → BLR   5h 25m   \n",
       "4           IndiGo  Banglore   New Delhi        BLR → NAG → DEL   4h 45m   \n",
       "...            ...       ...         ...                    ...      ...   \n",
       "10678     Air Asia   Kolkata    Banglore              CCU → BLR   2h 30m   \n",
       "10679    Air India   Kolkata    Banglore              CCU → BLR   2h 35m   \n",
       "10680  Jet Airways  Banglore       Delhi              BLR → DEL    3h 0m   \n",
       "10681      Vistara  Banglore   New Delhi              BLR → DEL   2h 40m   \n",
       "10682    Air India     Delhi      Cochin  DEL → GOI → BOM → COK   8h 20m   \n",
       "\n",
       "      Total_Stops Additional_Info  Price  journey_year  journey_month  \\\n",
       "0        non-stop         No info   3897          2019              3   \n",
       "1         2 stops         No info   7662          2019              1   \n",
       "2         2 stops         No info  13882          2019              9   \n",
       "3          1 stop         No info   6218          2019             12   \n",
       "4          1 stop         No info  13302          2019              1   \n",
       "...           ...             ...    ...           ...            ...   \n",
       "10678    non-stop         No info   4107          2019              9   \n",
       "10679    non-stop         No info   4145          2019              4   \n",
       "10680    non-stop         No info   7229          2019              4   \n",
       "10681    non-stop         No info  12648          2019              1   \n",
       "10682     2 stops         No info  11753          2019              9   \n",
       "\n",
       "       journey_day  Dep_Time_hour  Dep_Time_minute  Arrival_Time_hour  \\\n",
       "0               24             22               20                  1   \n",
       "1                5              5               50                 13   \n",
       "2                6              9               25                  4   \n",
       "3                5             18                5                 23   \n",
       "4                3             16               50                 21   \n",
       "...            ...            ...              ...                ...   \n",
       "10678            4             19               55                 22   \n",
       "10679           27             20               45                 23   \n",
       "10680           27              8               20                 11   \n",
       "10681            3             11               30                 14   \n",
       "10682            5             10               55                 19   \n",
       "\n",
       "       Arrival_Time_minute  Duration_hours  Duration_minutes  \n",
       "0                       10               2                50  \n",
       "1                       15               7                25  \n",
       "2                       25              19                 0  \n",
       "3                       30               5                25  \n",
       "4                       35               4                45  \n",
       "...                    ...             ...               ...  \n",
       "10678                   25               2                30  \n",
       "10679                   20               2                35  \n",
       "10680                   20               3                 0  \n",
       "10681                   10               2                40  \n",
       "10682                   15               8                20  \n",
       "\n",
       "[10682 rows x 17 columns]"
      ]
     },
     "execution_count": 29,
     "metadata": {},
     "output_type": "execute_result"
    }
   ],
   "source": [
    "df"
   ]
  },
  {
   "cell_type": "markdown",
   "id": "503e4b0e",
   "metadata": {},
   "source": [
    "**This step calculates the total duration time of the flight in minutes to check if it has any imapact on the target.**\n",
    "1. Convert the string of '10h 20m' into '10*60+20*1', then apply eval to evaluate the string into numerical value.\n",
    "2. The plot a line plot of price V duration to check if there is a correlation."
   ]
  },
  {
   "cell_type": "code",
   "execution_count": 30,
   "id": "00278f34",
   "metadata": {},
   "outputs": [],
   "source": [
    "df['Duration_total_minutes'] = df['Duration'].str.replace('h','*60').str.replace(' ','+').str.replace('m','*1').apply(eval)"
   ]
  },
  {
   "cell_type": "code",
   "execution_count": 31,
   "id": "6fdc42ab",
   "metadata": {
    "scrolled": true
   },
   "outputs": [
    {
     "data": {
      "text/plain": [
       "<seaborn.axisgrid.FacetGrid at 0x7fac982511b0>"
      ]
     },
     "execution_count": 31,
     "metadata": {},
     "output_type": "execute_result"
    },
    {
     "data": {
      "image/png": "[encoded data removed]",
      "text/plain": [
       "<Figure size 360x360 with 1 Axes>"
      ]
     },
     "metadata": {
      "needs_background": "light"
     },
     "output_type": "display_data"
    }
   ],
   "source": [
    "sns.lmplot(x='Duration_total_minutes', y='Price', data = df)\n",
    "#There does seem to be a correlation between price and duration."
   ]
  },
  {
   "cell_type": "markdown",
   "id": "e4f0b025",
   "metadata": {},
   "source": [
    "## Duration has now been encoded to hours and minutes so this column can be dropped"
   ]
  },
  {
   "cell_type": "code",
   "execution_count": 32,
   "id": "3b670408",
   "metadata": {},
   "outputs": [],
   "source": [
    "df.drop(columns = ['Duration'], inplace = True)"
   ]
  },
  {
   "cell_type": "markdown",
   "id": "29032c20",
   "metadata": {},
   "source": [
    "## Data Visualization\n",
    "**Check which destination city has the most flights.**"
   ]
  },
  {
   "cell_type": "code",
   "execution_count": 33,
   "id": "9855549d",
   "metadata": {},
   "outputs": [
    {
     "data": {
      "text/plain": [
       "<AxesSubplot:ylabel='Destination'>"
      ]
     },
     "execution_count": 33,
     "metadata": {},
     "output_type": "execute_result"
    },
    {
     "data": {
      "image/png": "[encoded data removed]",
      "text/plain": [
       "<Figure size 432x288 with 1 Axes>"
      ]
     },
     "metadata": {},
     "output_type": "display_data"
    }
   ],
   "source": [
    "df['Destination'].value_counts().plot(kind='pie')\n",
    "#We need to fix the fact that Delhi and New Delhi are counted separately."
   ]
  },
  {
   "cell_type": "markdown",
   "id": "7c790d67",
   "metadata": {},
   "source": [
    "**Which route has the most Jet Airways flights?**"
   ]
  },
  {
   "cell_type": "code",
   "execution_count": 34,
   "id": "7ad47ddc",
   "metadata": {
    "scrolled": true
   },
   "outputs": [
    {
     "data": {
      "text/plain": [
       "CCU → BOM → BLR          930\n",
       "DEL → BOM → COK          875\n",
       "BLR → BOM → DEL          385\n",
       "BLR → DEL                382\n",
       "CCU → DEL → BLR          300\n",
       "BOM → HYD                207\n",
       "DEL → JAI → BOM → COK    207\n",
       "DEL → AMD → BOM → COK    141\n",
       "DEL → IDR → BOM → COK     86\n",
       "DEL → NAG → BOM → COK     61\n",
       "DEL → ATQ → BOM → COK     38\n",
       "DEL → COK                 34\n",
       "DEL → BHO → BOM → COK     29\n",
       "DEL → BDQ → BOM → COK     28\n",
       "DEL → LKO → BOM → COK     25\n",
       "DEL → JDH → BOM → COK     23\n",
       "CCU → GAU → BLR           22\n",
       "DEL → MAA → BOM → COK     16\n",
       "DEL → IXC → BOM → COK     13\n",
       "BLR → MAA → DEL           10\n",
       "BLR → BDQ → DEL            8\n",
       "DEL → UDR → BOM → COK      7\n",
       "BOM → DEL → HYD            5\n",
       "CCU → BOM → PNQ → BLR      4\n",
       "BLR → BOM → JDH → DEL      3\n",
       "DEL → DED → BOM → COK      2\n",
       "BOM → BDQ → DEL → HYD      2\n",
       "BOM → DED → DEL → HYD      1\n",
       "BOM → UDR → DEL → HYD      1\n",
       "BOM → JDH → DEL → HYD      1\n",
       "BOM → IDR → DEL → HYD      1\n",
       "DEL → CCU → BOM → COK      1\n",
       "BOM → VNS → DEL → HYD      1\n",
       "Name: Route, dtype: int64"
      ]
     },
     "execution_count": 34,
     "metadata": {},
     "output_type": "execute_result"
    }
   ],
   "source": [
    "df[df['Airline'] == 'Jet Airways']['Route'].value_counts()"
   ]
  },
  {
   "cell_type": "markdown",
   "id": "8c660cda",
   "metadata": {},
   "source": [
    "**Price Vs Airlines analysis**\n",
    "1. Box plot is good at showing outliers.\n",
    "2. Violine plot will show both outliers and the distribution of the price for each airline."
   ]
  },
  {
   "cell_type": "code",
   "execution_count": 35,
   "id": "ffeb1a1c",
   "metadata": {
    "scrolled": true
   },
   "outputs": [
    {
     "data": {
      "text/plain": [
       "(array([ 0,  1,  2,  3,  4,  5,  6,  7,  8,  9, 10, 11]),\n",
       " [Text(0, 0, 'IndiGo'),\n",
       "  Text(1, 0, 'Air India'),\n",
       "  Text(2, 0, 'Jet Airways'),\n",
       "  Text(3, 0, 'SpiceJet'),\n",
       "  Text(4, 0, 'Multiple carriers'),\n",
       "  Text(5, 0, 'GoAir'),\n",
       "  Text(6, 0, 'Vistara'),\n",
       "  Text(7, 0, 'Air Asia'),\n",
       "  Text(8, 0, 'Vistara Premium economy'),\n",
       "  Text(9, 0, 'Jet Airways Business'),\n",
       "  Text(10, 0, 'Multiple carriers Premium economy'),\n",
       "  Text(11, 0, 'Trujet')])"
      ]
     },
     "execution_count": 35,
     "metadata": {},
     "output_type": "execute_result"
    },
    {
     "data": {
      "image/png": "[encoded data removed]",
      "text/plain": [
       "<Figure size 1080x360 with 1 Axes>"
      ]
     },
     "metadata": {
      "needs_background": "light"
     },
     "output_type": "display_data"
    }
   ],
   "source": [
    "plt.figure(figsize=(15,5))\n",
    "sns.boxplot(x = 'Airline', y = 'Price', data = df)\n",
    "plt.xticks(rotation='vertical')"
   ]
  },
  {
   "cell_type": "code",
   "execution_count": 36,
   "id": "a8137eb6",
   "metadata": {
    "scrolled": true
   },
   "outputs": [
    {
     "data": {
      "text/plain": [
       "(array([ 0,  1,  2,  3,  4,  5,  6,  7,  8,  9, 10, 11]),\n",
       " [Text(0, 0, 'IndiGo'),\n",
       "  Text(1, 0, 'Air India'),\n",
       "  Text(2, 0, 'Jet Airways'),\n",
       "  Text(3, 0, 'SpiceJet'),\n",
       "  Text(4, 0, 'Multiple carriers'),\n",
       "  Text(5, 0, 'GoAir'),\n",
       "  Text(6, 0, 'Vistara'),\n",
       "  Text(7, 0, 'Air Asia'),\n",
       "  Text(8, 0, 'Vistara Premium economy'),\n",
       "  Text(9, 0, 'Jet Airways Business'),\n",
       "  Text(10, 0, 'Multiple carriers Premium economy'),\n",
       "  Text(11, 0, 'Trujet')])"
      ]
     },
     "execution_count": 36,
     "metadata": {},
     "output_type": "execute_result"
    },
    {
     "data": {
      "image/png": "[encoded data removed]",
      "text/plain": [
       "<Figure size 1080x360 with 1 Axes>"
      ]
     },
     "metadata": {
      "needs_background": "light"
     },
     "output_type": "display_data"
    }
   ],
   "source": [
    "plt.figure(figsize=(15,5))\n",
    "sns.violinplot(x = 'Airline', y = 'Price', data = df)\n",
    "plt.xticks(rotation='vertical')"
   ]
  },
  {
   "cell_type": "markdown",
   "id": "0461d387",
   "metadata": {},
   "source": [
    "## 16. Apply one-hot encoding on data (Feature engineering)\n",
    "### Before applying any encoding some columns are dropped based on their relevance."
   ]
  },
  {
   "cell_type": "code",
   "execution_count": 37,
   "id": "0bde8a25",
   "metadata": {
    "scrolled": true
   },
   "outputs": [
    {
     "data": {
      "text/html": [
       "<div>\n",
       "<style scoped>\n",
       "    .dataframe tbody tr th:only-of-type {\n",
       "        vertical-align: middle;\n",
       "    }\n",
       "\n",
       "    .dataframe tbody tr th {\n",
       "        vertical-align: top;\n",
       "    }\n",
       "\n",
       "    .dataframe thead th {\n",
       "        text-align: right;\n",
       "    }\n",
       "</style>\n",
       "<table border=\"1\" class=\"dataframe\">\n",
       "  <thead>\n",
       "    <tr style=\"text-align: right;\">\n",
       "      <th></th>\n",
       "      <th>Airline</th>\n",
       "      <th>Source</th>\n",
       "      <th>Destination</th>\n",
       "      <th>Route</th>\n",
       "      <th>Total_Stops</th>\n",
       "      <th>Additional_Info</th>\n",
       "      <th>Price</th>\n",
       "      <th>journey_year</th>\n",
       "      <th>journey_month</th>\n",
       "      <th>journey_day</th>\n",
       "      <th>Dep_Time_hour</th>\n",
       "      <th>Dep_Time_minute</th>\n",
       "      <th>Arrival_Time_hour</th>\n",
       "      <th>Arrival_Time_minute</th>\n",
       "      <th>Duration_hours</th>\n",
       "      <th>Duration_minutes</th>\n",
       "      <th>Duration_total_minutes</th>\n",
       "    </tr>\n",
       "  </thead>\n",
       "  <tbody>\n",
       "    <tr>\n",
       "      <th>0</th>\n",
       "      <td>IndiGo</td>\n",
       "      <td>Banglore</td>\n",
       "      <td>New Delhi</td>\n",
       "      <td>BLR → DEL</td>\n",
       "      <td>non-stop</td>\n",
       "      <td>No info</td>\n",
       "      <td>3897</td>\n",
       "      <td>2019</td>\n",
       "      <td>3</td>\n",
       "      <td>24</td>\n",
       "      <td>22</td>\n",
       "      <td>20</td>\n",
       "      <td>1</td>\n",
       "      <td>10</td>\n",
       "      <td>2</td>\n",
       "      <td>50</td>\n",
       "      <td>170</td>\n",
       "    </tr>\n",
       "    <tr>\n",
       "      <th>1</th>\n",
       "      <td>Air India</td>\n",
       "      <td>Kolkata</td>\n",
       "      <td>Banglore</td>\n",
       "      <td>CCU → IXR → BBI → BLR</td>\n",
       "      <td>2 stops</td>\n",
       "      <td>No info</td>\n",
       "      <td>7662</td>\n",
       "      <td>2019</td>\n",
       "      <td>1</td>\n",
       "      <td>5</td>\n",
       "      <td>5</td>\n",
       "      <td>50</td>\n",
       "      <td>13</td>\n",
       "      <td>15</td>\n",
       "      <td>7</td>\n",
       "      <td>25</td>\n",
       "      <td>445</td>\n",
       "    </tr>\n",
       "    <tr>\n",
       "      <th>2</th>\n",
       "      <td>Jet Airways</td>\n",
       "      <td>Delhi</td>\n",
       "      <td>Cochin</td>\n",
       "      <td>DEL → LKO → BOM → COK</td>\n",
       "      <td>2 stops</td>\n",
       "      <td>No info</td>\n",
       "      <td>13882</td>\n",
       "      <td>2019</td>\n",
       "      <td>9</td>\n",
       "      <td>6</td>\n",
       "      <td>9</td>\n",
       "      <td>25</td>\n",
       "      <td>4</td>\n",
       "      <td>25</td>\n",
       "      <td>19</td>\n",
       "      <td>0</td>\n",
       "      <td>1140</td>\n",
       "    </tr>\n",
       "    <tr>\n",
       "      <th>3</th>\n",
       "      <td>IndiGo</td>\n",
       "      <td>Kolkata</td>\n",
       "      <td>Banglore</td>\n",
       "      <td>CCU → NAG → BLR</td>\n",
       "      <td>1 stop</td>\n",
       "      <td>No info</td>\n",
       "      <td>6218</td>\n",
       "      <td>2019</td>\n",
       "      <td>12</td>\n",
       "      <td>5</td>\n",
       "      <td>18</td>\n",
       "      <td>5</td>\n",
       "      <td>23</td>\n",
       "      <td>30</td>\n",
       "      <td>5</td>\n",
       "      <td>25</td>\n",
       "      <td>325</td>\n",
       "    </tr>\n",
       "    <tr>\n",
       "      <th>4</th>\n",
       "      <td>IndiGo</td>\n",
       "      <td>Banglore</td>\n",
       "      <td>New Delhi</td>\n",
       "      <td>BLR → NAG → DEL</td>\n",
       "      <td>1 stop</td>\n",
       "      <td>No info</td>\n",
       "      <td>13302</td>\n",
       "      <td>2019</td>\n",
       "      <td>1</td>\n",
       "      <td>3</td>\n",
       "      <td>16</td>\n",
       "      <td>50</td>\n",
       "      <td>21</td>\n",
       "      <td>35</td>\n",
       "      <td>4</td>\n",
       "      <td>45</td>\n",
       "      <td>285</td>\n",
       "    </tr>\n",
       "    <tr>\n",
       "      <th>...</th>\n",
       "      <td>...</td>\n",
       "      <td>...</td>\n",
       "      <td>...</td>\n",
       "      <td>...</td>\n",
       "      <td>...</td>\n",
       "      <td>...</td>\n",
       "      <td>...</td>\n",
       "      <td>...</td>\n",
       "      <td>...</td>\n",
       "      <td>...</td>\n",
       "      <td>...</td>\n",
       "      <td>...</td>\n",
       "      <td>...</td>\n",
       "      <td>...</td>\n",
       "      <td>...</td>\n",
       "      <td>...</td>\n",
       "      <td>...</td>\n",
       "    </tr>\n",
       "    <tr>\n",
       "      <th>10678</th>\n",
       "      <td>Air Asia</td>\n",
       "      <td>Kolkata</td>\n",
       "      <td>Banglore</td>\n",
       "      <td>CCU → BLR</td>\n",
       "      <td>non-stop</td>\n",
       "      <td>No info</td>\n",
       "      <td>4107</td>\n",
       "      <td>2019</td>\n",
       "      <td>9</td>\n",
       "      <td>4</td>\n",
       "      <td>19</td>\n",
       "      <td>55</td>\n",
       "      <td>22</td>\n",
       "      <td>25</td>\n",
       "      <td>2</td>\n",
       "      <td>30</td>\n",
       "      <td>150</td>\n",
       "    </tr>\n",
       "    <tr>\n",
       "      <th>10679</th>\n",
       "      <td>Air India</td>\n",
       "      <td>Kolkata</td>\n",
       "      <td>Banglore</td>\n",
       "      <td>CCU → BLR</td>\n",
       "      <td>non-stop</td>\n",
       "      <td>No info</td>\n",
       "      <td>4145</td>\n",
       "      <td>2019</td>\n",
       "      <td>4</td>\n",
       "      <td>27</td>\n",
       "      <td>20</td>\n",
       "      <td>45</td>\n",
       "      <td>23</td>\n",
       "      <td>20</td>\n",
       "      <td>2</td>\n",
       "      <td>35</td>\n",
       "      <td>155</td>\n",
       "    </tr>\n",
       "    <tr>\n",
       "      <th>10680</th>\n",
       "      <td>Jet Airways</td>\n",
       "      <td>Banglore</td>\n",
       "      <td>Delhi</td>\n",
       "      <td>BLR → DEL</td>\n",
       "      <td>non-stop</td>\n",
       "      <td>No info</td>\n",
       "      <td>7229</td>\n",
       "      <td>2019</td>\n",
       "      <td>4</td>\n",
       "      <td>27</td>\n",
       "      <td>8</td>\n",
       "      <td>20</td>\n",
       "      <td>11</td>\n",
       "      <td>20</td>\n",
       "      <td>3</td>\n",
       "      <td>0</td>\n",
       "      <td>180</td>\n",
       "    </tr>\n",
       "    <tr>\n",
       "      <th>10681</th>\n",
       "      <td>Vistara</td>\n",
       "      <td>Banglore</td>\n",
       "      <td>New Delhi</td>\n",
       "      <td>BLR → DEL</td>\n",
       "      <td>non-stop</td>\n",
       "      <td>No info</td>\n",
       "      <td>12648</td>\n",
       "      <td>2019</td>\n",
       "      <td>1</td>\n",
       "      <td>3</td>\n",
       "      <td>11</td>\n",
       "      <td>30</td>\n",
       "      <td>14</td>\n",
       "      <td>10</td>\n",
       "      <td>2</td>\n",
       "      <td>40</td>\n",
       "      <td>160</td>\n",
       "    </tr>\n",
       "    <tr>\n",
       "      <th>10682</th>\n",
       "      <td>Air India</td>\n",
       "      <td>Delhi</td>\n",
       "      <td>Cochin</td>\n",
       "      <td>DEL → GOI → BOM → COK</td>\n",
       "      <td>2 stops</td>\n",
       "      <td>No info</td>\n",
       "      <td>11753</td>\n",
       "      <td>2019</td>\n",
       "      <td>9</td>\n",
       "      <td>5</td>\n",
       "      <td>10</td>\n",
       "      <td>55</td>\n",
       "      <td>19</td>\n",
       "      <td>15</td>\n",
       "      <td>8</td>\n",
       "      <td>20</td>\n",
       "      <td>500</td>\n",
       "    </tr>\n",
       "  </tbody>\n",
       "</table>\n",
       "<p>10682 rows × 17 columns</p>\n",
       "</div>"
      ],
      "text/plain": [
       "           Airline    Source Destination                  Route Total_Stops  \\\n",
       "0           IndiGo  Banglore   New Delhi              BLR → DEL    non-stop   \n",
       "1        Air India   Kolkata    Banglore  CCU → IXR → BBI → BLR     2 stops   \n",
       "2      Jet Airways     Delhi      Cochin  DEL → LKO → BOM → COK     2 stops   \n",
       "3           IndiGo   Kolkata    Banglore        CCU → NAG → BLR      1 stop   \n",
       "4           IndiGo  Banglore   New Delhi        BLR → NAG → DEL      1 stop   \n",
       "...            ...       ...         ...                    ...         ...   \n",
       "10678     Air Asia   Kolkata    Banglore              CCU → BLR    non-stop   \n",
       "10679    Air India   Kolkata    Banglore              CCU → BLR    non-stop   \n",
       "10680  Jet Airways  Banglore       Delhi              BLR → DEL    non-stop   \n",
       "10681      Vistara  Banglore   New Delhi              BLR → DEL    non-stop   \n",
       "10682    Air India     Delhi      Cochin  DEL → GOI → BOM → COK     2 stops   \n",
       "\n",
       "      Additional_Info  Price  journey_year  journey_month  journey_day  \\\n",
       "0             No info   3897          2019              3           24   \n",
       "1             No info   7662          2019              1            5   \n",
       "2             No info  13882          2019              9            6   \n",
       "3             No info   6218          2019             12            5   \n",
       "4             No info  13302          2019              1            3   \n",
       "...               ...    ...           ...            ...          ...   \n",
       "10678         No info   4107          2019              9            4   \n",
       "10679         No info   4145          2019              4           27   \n",
       "10680         No info   7229          2019              4           27   \n",
       "10681         No info  12648          2019              1            3   \n",
       "10682         No info  11753          2019              9            5   \n",
       "\n",
       "       Dep_Time_hour  Dep_Time_minute  Arrival_Time_hour  Arrival_Time_minute  \\\n",
       "0                 22               20                  1                   10   \n",
       "1                  5               50                 13                   15   \n",
       "2                  9               25                  4                   25   \n",
       "3                 18                5                 23                   30   \n",
       "4                 16               50                 21                   35   \n",
       "...              ...              ...                ...                  ...   \n",
       "10678             19               55                 22                   25   \n",
       "10679             20               45                 23                   20   \n",
       "10680              8               20                 11                   20   \n",
       "10681             11               30                 14                   10   \n",
       "10682             10               55                 19                   15   \n",
       "\n",
       "       Duration_hours  Duration_minutes  Duration_total_minutes  \n",
       "0                   2                50                     170  \n",
       "1                   7                25                     445  \n",
       "2                  19                 0                    1140  \n",
       "3                   5                25                     325  \n",
       "4                   4                45                     285  \n",
       "...               ...               ...                     ...  \n",
       "10678               2                30                     150  \n",
       "10679               2                35                     155  \n",
       "10680               3                 0                     180  \n",
       "10681               2                40                     160  \n",
       "10682               8                20                     500  \n",
       "\n",
       "[10682 rows x 17 columns]"
      ]
     },
     "metadata": {},
     "output_type": "display_data"
    }
   ],
   "source": [
    "with pd.option_context('display.max_columns', None):\n",
    "    display(df)"
   ]
  },
  {
   "cell_type": "code",
   "execution_count": 38,
   "id": "ad38d015",
   "metadata": {},
   "outputs": [
    {
     "data": {
      "text/plain": [
       "No info                         78.11\n",
       "In-flight meal not included     18.55\n",
       "No check-in baggage included     3.00\n",
       "1 Long layover                   0.18\n",
       "Change airports                  0.07\n",
       "Business class                   0.04\n",
       "No Info                          0.03\n",
       "1 Short layover                  0.01\n",
       "Red-eye flight                   0.01\n",
       "2 Long layover                   0.01\n",
       "Name: Additional_Info, dtype: float64"
      ]
     },
     "execution_count": 38,
     "metadata": {},
     "output_type": "execute_result"
    }
   ],
   "source": [
    "#observe Column additional info\n",
    "np.round(df['Additional_Info'].value_counts()/len(df)*100, 2)\n",
    "#Almost 80% of the data has no info so this columns can be dropped."
   ]
  },
  {
   "cell_type": "code",
   "execution_count": 39,
   "id": "34e97100",
   "metadata": {},
   "outputs": [],
   "source": [
    "#Total Stops can account for the Route feature, so Total stops can be dropped.\n",
    "#Duration has been accounted for by hours and minutes, we do not need Duration total minutes.\n",
    "#Journey year is constant so that feature can be dropped too.\n",
    "df.drop(columns = ['Additional_Info', 'Route', 'Duration_total_minutes', 'journey_year'], inplace = True)\n"
   ]
  },
  {
   "cell_type": "markdown",
   "id": "79658f7a",
   "metadata": {},
   "source": [
    "**How numerical and categorical data is usually differentiated?**"
   ]
  },
  {
   "cell_type": "code",
   "execution_count": 40,
   "id": "e796deb1",
   "metadata": {},
   "outputs": [
    {
     "name": "stdout",
     "output_type": "stream",
     "text": [
      "['Airline', 'Source', 'Destination', 'Total_Stops']\n"
     ]
    }
   ],
   "source": [
    "cat_col = [col for col in df.columns if df[col].dtype=='object']\n",
    "print(cat_col)"
   ]
  },
  {
   "cell_type": "code",
   "execution_count": 41,
   "id": "1be7bbd3",
   "metadata": {},
   "outputs": [
    {
     "name": "stdout",
     "output_type": "stream",
     "text": [
      "['Price', 'journey_month', 'journey_day', 'Dep_Time_hour', 'Dep_Time_minute', 'Arrival_Time_hour', 'Arrival_Time_minute', 'Duration_hours', 'Duration_minutes']\n"
     ]
    }
   ],
   "source": [
    "num_col = [col for col in df.columns if df[col].dtype!='object']\n",
    "print(num_col)"
   ]
  },
  {
   "cell_type": "markdown",
   "id": "2089171e",
   "metadata": {},
   "source": [
    "## Two ways to encode categorical features:\n",
    "1. Ordianal encoder using OrdinalEncoder and LabelEncoder - for ordinal data\n",
    "2. Nominal encoder using Pandas dummies and OneHotEncoder- for nominal data\n",
    "\n",
    "Note: Difference between OrdinalEncoder and LabelEncoder: Both have the same functionality. A bit difference is the idea behind. OrdinalEncoder is for converting features, while LabelEncoder is for converting target variable.\n",
    "\n",
    "That's why OrdinalEncoder can fit data that has the shape of (n_samples, n_features) while LabelEncoder can only fit data that has the shape of (n_samples,) (though in the past one used LabelEncoder within the loop to handle what has been becoming the job of OrdinalEncoder now)"
   ]
  },
  {
   "cell_type": "markdown",
   "id": "d0fc41c0",
   "metadata": {},
   "source": [
    "## Nominal Encoding on Source: adds multiple columns to the dataset"
   ]
  },
  {
   "cell_type": "code",
   "execution_count": 42,
   "id": "1ae2444f",
   "metadata": {
    "scrolled": false
   },
   "outputs": [
    {
     "data": {
      "text/html": [
       "<div>\n",
       "<style scoped>\n",
       "    .dataframe tbody tr th:only-of-type {\n",
       "        vertical-align: middle;\n",
       "    }\n",
       "\n",
       "    .dataframe tbody tr th {\n",
       "        vertical-align: top;\n",
       "    }\n",
       "\n",
       "    .dataframe thead th {\n",
       "        text-align: right;\n",
       "    }\n",
       "</style>\n",
       "<table border=\"1\" class=\"dataframe\">\n",
       "  <thead>\n",
       "    <tr style=\"text-align: right;\">\n",
       "      <th></th>\n",
       "      <th>Airline</th>\n",
       "      <th>Source</th>\n",
       "      <th>Destination</th>\n",
       "      <th>Total_Stops</th>\n",
       "      <th>Price</th>\n",
       "      <th>journey_month</th>\n",
       "      <th>journey_day</th>\n",
       "      <th>Dep_Time_hour</th>\n",
       "      <th>Dep_Time_minute</th>\n",
       "      <th>Arrival_Time_hour</th>\n",
       "      <th>Arrival_Time_minute</th>\n",
       "      <th>Duration_hours</th>\n",
       "      <th>Duration_minutes</th>\n",
       "      <th>Source_Banglore</th>\n",
       "      <th>Source_Kolkata</th>\n",
       "      <th>Source_Delhi</th>\n",
       "      <th>Source_Chennai</th>\n",
       "      <th>Source_Mumbai</th>\n",
       "    </tr>\n",
       "  </thead>\n",
       "  <tbody>\n",
       "    <tr>\n",
       "      <th>0</th>\n",
       "      <td>IndiGo</td>\n",
       "      <td>Banglore</td>\n",
       "      <td>New Delhi</td>\n",
       "      <td>non-stop</td>\n",
       "      <td>3897</td>\n",
       "      <td>3</td>\n",
       "      <td>24</td>\n",
       "      <td>22</td>\n",
       "      <td>20</td>\n",
       "      <td>1</td>\n",
       "      <td>10</td>\n",
       "      <td>2</td>\n",
       "      <td>50</td>\n",
       "      <td>1</td>\n",
       "      <td>0</td>\n",
       "      <td>0</td>\n",
       "      <td>0</td>\n",
       "      <td>0</td>\n",
       "    </tr>\n",
       "    <tr>\n",
       "      <th>1</th>\n",
       "      <td>Air India</td>\n",
       "      <td>Kolkata</td>\n",
       "      <td>Banglore</td>\n",
       "      <td>2 stops</td>\n",
       "      <td>7662</td>\n",
       "      <td>1</td>\n",
       "      <td>5</td>\n",
       "      <td>5</td>\n",
       "      <td>50</td>\n",
       "      <td>13</td>\n",
       "      <td>15</td>\n",
       "      <td>7</td>\n",
       "      <td>25</td>\n",
       "      <td>0</td>\n",
       "      <td>1</td>\n",
       "      <td>0</td>\n",
       "      <td>0</td>\n",
       "      <td>0</td>\n",
       "    </tr>\n",
       "    <tr>\n",
       "      <th>2</th>\n",
       "      <td>Jet Airways</td>\n",
       "      <td>Delhi</td>\n",
       "      <td>Cochin</td>\n",
       "      <td>2 stops</td>\n",
       "      <td>13882</td>\n",
       "      <td>9</td>\n",
       "      <td>6</td>\n",
       "      <td>9</td>\n",
       "      <td>25</td>\n",
       "      <td>4</td>\n",
       "      <td>25</td>\n",
       "      <td>19</td>\n",
       "      <td>0</td>\n",
       "      <td>0</td>\n",
       "      <td>0</td>\n",
       "      <td>1</td>\n",
       "      <td>0</td>\n",
       "      <td>0</td>\n",
       "    </tr>\n",
       "    <tr>\n",
       "      <th>3</th>\n",
       "      <td>IndiGo</td>\n",
       "      <td>Kolkata</td>\n",
       "      <td>Banglore</td>\n",
       "      <td>1 stop</td>\n",
       "      <td>6218</td>\n",
       "      <td>12</td>\n",
       "      <td>5</td>\n",
       "      <td>18</td>\n",
       "      <td>5</td>\n",
       "      <td>23</td>\n",
       "      <td>30</td>\n",
       "      <td>5</td>\n",
       "      <td>25</td>\n",
       "      <td>0</td>\n",
       "      <td>1</td>\n",
       "      <td>0</td>\n",
       "      <td>0</td>\n",
       "      <td>0</td>\n",
       "    </tr>\n",
       "    <tr>\n",
       "      <th>4</th>\n",
       "      <td>IndiGo</td>\n",
       "      <td>Banglore</td>\n",
       "      <td>New Delhi</td>\n",
       "      <td>1 stop</td>\n",
       "      <td>13302</td>\n",
       "      <td>1</td>\n",
       "      <td>3</td>\n",
       "      <td>16</td>\n",
       "      <td>50</td>\n",
       "      <td>21</td>\n",
       "      <td>35</td>\n",
       "      <td>4</td>\n",
       "      <td>45</td>\n",
       "      <td>1</td>\n",
       "      <td>0</td>\n",
       "      <td>0</td>\n",
       "      <td>0</td>\n",
       "      <td>0</td>\n",
       "    </tr>\n",
       "  </tbody>\n",
       "</table>\n",
       "</div>"
      ],
      "text/plain": [
       "       Airline    Source Destination Total_Stops  Price  journey_month  \\\n",
       "0       IndiGo  Banglore   New Delhi    non-stop   3897              3   \n",
       "1    Air India   Kolkata    Banglore     2 stops   7662              1   \n",
       "2  Jet Airways     Delhi      Cochin     2 stops  13882              9   \n",
       "3       IndiGo   Kolkata    Banglore      1 stop   6218             12   \n",
       "4       IndiGo  Banglore   New Delhi      1 stop  13302              1   \n",
       "\n",
       "   journey_day  Dep_Time_hour  Dep_Time_minute  Arrival_Time_hour  \\\n",
       "0           24             22               20                  1   \n",
       "1            5              5               50                 13   \n",
       "2            6              9               25                  4   \n",
       "3            5             18                5                 23   \n",
       "4            3             16               50                 21   \n",
       "\n",
       "   Arrival_Time_minute  Duration_hours  Duration_minutes  Source_Banglore  \\\n",
       "0                   10               2                50                1   \n",
       "1                   15               7                25                0   \n",
       "2                   25              19                 0                0   \n",
       "3                   30               5                25                0   \n",
       "4                   35               4                45                1   \n",
       "\n",
       "   Source_Kolkata  Source_Delhi  Source_Chennai  Source_Mumbai  \n",
       "0               0             0               0              0  \n",
       "1               1             0               0              0  \n",
       "2               0             1               0              0  \n",
       "3               1             0               0              0  \n",
       "4               0             0               0              0  "
      ]
     },
     "execution_count": 42,
     "metadata": {},
     "output_type": "execute_result"
    }
   ],
   "source": [
    "for category in df['Source']:\n",
    "    df['Source_'+category] = df['Source'].apply(lambda x: 1 if x == category else 0)\n",
    "df.head()"
   ]
  },
  {
   "cell_type": "markdown",
   "id": "8729d26f",
   "metadata": {},
   "source": [
    "**Source has now been encoded to multiple columns through one hot encoder and the source column can now be dropped.**"
   ]
  },
  {
   "cell_type": "code",
   "execution_count": 43,
   "id": "6acf8f62",
   "metadata": {},
   "outputs": [],
   "source": [
    "df.drop(columns = ['Source'], inplace = True)"
   ]
  },
  {
   "cell_type": "markdown",
   "id": "6bddb439",
   "metadata": {},
   "source": [
    "## Ordinal Encoding on Airlines using Price as basis\n",
    "**Applying target guided encoding on data to avoid the curse of dimensionality.**  \n",
    "Label Encoder on Airline using brute-force approach."
   ]
  },
  {
   "cell_type": "code",
   "execution_count": 44,
   "id": "d66c34e2",
   "metadata": {},
   "outputs": [
    {
     "name": "stdout",
     "output_type": "stream",
     "text": [
      "Index(['Trujet', 'SpiceJet', 'Air Asia', 'IndiGo', 'GoAir', 'Vistara',\n",
      "       'Vistara Premium economy', 'Air India', 'Multiple carriers',\n",
      "       'Multiple carriers Premium economy', 'Jet Airways',\n",
      "       'Jet Airways Business'],\n",
      "      dtype='object', name='Airline')\n"
     ]
    }
   ],
   "source": [
    "airlines = df.groupby(['Airline'])['Price'].mean().sort_values().index\n",
    "print(airlines)"
   ]
  },
  {
   "cell_type": "code",
   "execution_count": 45,
   "id": "d8e7be97",
   "metadata": {
    "scrolled": true
   },
   "outputs": [
    {
     "data": {
      "text/plain": [
       "{'Trujet': 0,\n",
       " 'SpiceJet': 1,\n",
       " 'Air Asia': 2,\n",
       " 'IndiGo': 3,\n",
       " 'GoAir': 4,\n",
       " 'Vistara': 5,\n",
       " 'Vistara Premium economy': 6,\n",
       " 'Air India': 7,\n",
       " 'Multiple carriers': 8,\n",
       " 'Multiple carriers Premium economy': 9,\n",
       " 'Jet Airways': 10,\n",
       " 'Jet Airways Business': 11}"
      ]
     },
     "execution_count": 45,
     "metadata": {},
     "output_type": "execute_result"
    }
   ],
   "source": [
    "dict1 = {key: index for index, key in enumerate(airlines, 0)}\n",
    "dict1"
   ]
  },
  {
   "cell_type": "code",
   "execution_count": 46,
   "id": "65122bc3",
   "metadata": {
    "scrolled": true
   },
   "outputs": [],
   "source": [
    "df['Airline'] = df['Airline'].map(dict1)"
   ]
  },
  {
   "cell_type": "code",
   "execution_count": 47,
   "id": "9d36bc13",
   "metadata": {},
   "outputs": [
    {
     "data": {
      "text/html": [
       "<div>\n",
       "<style scoped>\n",
       "    .dataframe tbody tr th:only-of-type {\n",
       "        vertical-align: middle;\n",
       "    }\n",
       "\n",
       "    .dataframe tbody tr th {\n",
       "        vertical-align: top;\n",
       "    }\n",
       "\n",
       "    .dataframe thead th {\n",
       "        text-align: right;\n",
       "    }\n",
       "</style>\n",
       "<table border=\"1\" class=\"dataframe\">\n",
       "  <thead>\n",
       "    <tr style=\"text-align: right;\">\n",
       "      <th></th>\n",
       "      <th>Airline</th>\n",
       "      <th>Destination</th>\n",
       "      <th>Total_Stops</th>\n",
       "      <th>Price</th>\n",
       "      <th>journey_month</th>\n",
       "      <th>journey_day</th>\n",
       "      <th>Dep_Time_hour</th>\n",
       "      <th>Dep_Time_minute</th>\n",
       "      <th>Arrival_Time_hour</th>\n",
       "      <th>Arrival_Time_minute</th>\n",
       "      <th>Duration_hours</th>\n",
       "      <th>Duration_minutes</th>\n",
       "      <th>Source_Banglore</th>\n",
       "      <th>Source_Kolkata</th>\n",
       "      <th>Source_Delhi</th>\n",
       "      <th>Source_Chennai</th>\n",
       "      <th>Source_Mumbai</th>\n",
       "    </tr>\n",
       "  </thead>\n",
       "  <tbody>\n",
       "    <tr>\n",
       "      <th>0</th>\n",
       "      <td>3</td>\n",
       "      <td>New Delhi</td>\n",
       "      <td>non-stop</td>\n",
       "      <td>3897</td>\n",
       "      <td>3</td>\n",
       "      <td>24</td>\n",
       "      <td>22</td>\n",
       "      <td>20</td>\n",
       "      <td>1</td>\n",
       "      <td>10</td>\n",
       "      <td>2</td>\n",
       "      <td>50</td>\n",
       "      <td>1</td>\n",
       "      <td>0</td>\n",
       "      <td>0</td>\n",
       "      <td>0</td>\n",
       "      <td>0</td>\n",
       "    </tr>\n",
       "    <tr>\n",
       "      <th>1</th>\n",
       "      <td>7</td>\n",
       "      <td>Banglore</td>\n",
       "      <td>2 stops</td>\n",
       "      <td>7662</td>\n",
       "      <td>1</td>\n",
       "      <td>5</td>\n",
       "      <td>5</td>\n",
       "      <td>50</td>\n",
       "      <td>13</td>\n",
       "      <td>15</td>\n",
       "      <td>7</td>\n",
       "      <td>25</td>\n",
       "      <td>0</td>\n",
       "      <td>1</td>\n",
       "      <td>0</td>\n",
       "      <td>0</td>\n",
       "      <td>0</td>\n",
       "    </tr>\n",
       "    <tr>\n",
       "      <th>2</th>\n",
       "      <td>10</td>\n",
       "      <td>Cochin</td>\n",
       "      <td>2 stops</td>\n",
       "      <td>13882</td>\n",
       "      <td>9</td>\n",
       "      <td>6</td>\n",
       "      <td>9</td>\n",
       "      <td>25</td>\n",
       "      <td>4</td>\n",
       "      <td>25</td>\n",
       "      <td>19</td>\n",
       "      <td>0</td>\n",
       "      <td>0</td>\n",
       "      <td>0</td>\n",
       "      <td>1</td>\n",
       "      <td>0</td>\n",
       "      <td>0</td>\n",
       "    </tr>\n",
       "  </tbody>\n",
       "</table>\n",
       "</div>"
      ],
      "text/plain": [
       "   Airline Destination Total_Stops  Price  journey_month  journey_day  \\\n",
       "0        3   New Delhi    non-stop   3897              3           24   \n",
       "1        7    Banglore     2 stops   7662              1            5   \n",
       "2       10      Cochin     2 stops  13882              9            6   \n",
       "\n",
       "   Dep_Time_hour  Dep_Time_minute  Arrival_Time_hour  Arrival_Time_minute  \\\n",
       "0             22               20                  1                   10   \n",
       "1              5               50                 13                   15   \n",
       "2              9               25                  4                   25   \n",
       "\n",
       "   Duration_hours  Duration_minutes  Source_Banglore  Source_Kolkata  \\\n",
       "0               2                50                1               0   \n",
       "1               7                25                0               1   \n",
       "2              19                 0                0               0   \n",
       "\n",
       "   Source_Delhi  Source_Chennai  Source_Mumbai  \n",
       "0             0               0              0  \n",
       "1             0               0              0  \n",
       "2             1               0              0  "
      ]
     },
     "execution_count": 47,
     "metadata": {},
     "output_type": "execute_result"
    }
   ],
   "source": [
    "df.head(3)"
   ]
  },
  {
   "cell_type": "markdown",
   "id": "4685e9d8",
   "metadata": {},
   "source": [
    "## Ordinal Encoding on Destination using Price"
   ]
  },
  {
   "cell_type": "code",
   "execution_count": 48,
   "id": "1a19065a",
   "metadata": {},
   "outputs": [
    {
     "data": {
      "text/plain": [
       "array(['New Delhi', 'Banglore', 'Cochin', 'Kolkata', 'Delhi', 'Hyderabad'],\n",
       "      dtype=object)"
      ]
     },
     "execution_count": 48,
     "metadata": {},
     "output_type": "execute_result"
    }
   ],
   "source": [
    "df['Destination'].unique()"
   ]
  },
  {
   "cell_type": "code",
   "execution_count": 49,
   "id": "c4e6c6cb",
   "metadata": {},
   "outputs": [],
   "source": [
    "df['Destination'].replace('New Delhi', 'Delhi', inplace = True)"
   ]
  },
  {
   "cell_type": "code",
   "execution_count": 50,
   "id": "b88bad50",
   "metadata": {},
   "outputs": [],
   "source": [
    "destination = df.groupby(['Destination'])['Price'].mean().sort_values().index"
   ]
  },
  {
   "cell_type": "code",
   "execution_count": 51,
   "id": "0d1f3f15",
   "metadata": {},
   "outputs": [
    {
     "data": {
      "text/plain": [
       "{'Kolkata': 0, 'Hyderabad': 1, 'Delhi': 2, 'Banglore': 3, 'Cochin': 4}"
      ]
     },
     "execution_count": 51,
     "metadata": {},
     "output_type": "execute_result"
    }
   ],
   "source": [
    "dict2 = {key: index for index, key in enumerate(destination, 0)}\n",
    "dict2"
   ]
  },
  {
   "cell_type": "code",
   "execution_count": 52,
   "id": "b8c0eb5f",
   "metadata": {},
   "outputs": [],
   "source": [
    "df['Destination'] = df['Destination'].map(dict2)"
   ]
  },
  {
   "cell_type": "code",
   "execution_count": 53,
   "id": "f134a953",
   "metadata": {},
   "outputs": [
    {
     "data": {
      "text/html": [
       "<div>\n",
       "<style scoped>\n",
       "    .dataframe tbody tr th:only-of-type {\n",
       "        vertical-align: middle;\n",
       "    }\n",
       "\n",
       "    .dataframe tbody tr th {\n",
       "        vertical-align: top;\n",
       "    }\n",
       "\n",
       "    .dataframe thead th {\n",
       "        text-align: right;\n",
       "    }\n",
       "</style>\n",
       "<table border=\"1\" class=\"dataframe\">\n",
       "  <thead>\n",
       "    <tr style=\"text-align: right;\">\n",
       "      <th></th>\n",
       "      <th>Airline</th>\n",
       "      <th>Destination</th>\n",
       "      <th>Total_Stops</th>\n",
       "      <th>Price</th>\n",
       "      <th>journey_month</th>\n",
       "      <th>journey_day</th>\n",
       "      <th>Dep_Time_hour</th>\n",
       "      <th>Dep_Time_minute</th>\n",
       "      <th>Arrival_Time_hour</th>\n",
       "      <th>Arrival_Time_minute</th>\n",
       "      <th>Duration_hours</th>\n",
       "      <th>Duration_minutes</th>\n",
       "      <th>Source_Banglore</th>\n",
       "      <th>Source_Kolkata</th>\n",
       "      <th>Source_Delhi</th>\n",
       "      <th>Source_Chennai</th>\n",
       "      <th>Source_Mumbai</th>\n",
       "    </tr>\n",
       "  </thead>\n",
       "  <tbody>\n",
       "    <tr>\n",
       "      <th>0</th>\n",
       "      <td>3</td>\n",
       "      <td>2</td>\n",
       "      <td>non-stop</td>\n",
       "      <td>3897</td>\n",
       "      <td>3</td>\n",
       "      <td>24</td>\n",
       "      <td>22</td>\n",
       "      <td>20</td>\n",
       "      <td>1</td>\n",
       "      <td>10</td>\n",
       "      <td>2</td>\n",
       "      <td>50</td>\n",
       "      <td>1</td>\n",
       "      <td>0</td>\n",
       "      <td>0</td>\n",
       "      <td>0</td>\n",
       "      <td>0</td>\n",
       "    </tr>\n",
       "    <tr>\n",
       "      <th>1</th>\n",
       "      <td>7</td>\n",
       "      <td>3</td>\n",
       "      <td>2 stops</td>\n",
       "      <td>7662</td>\n",
       "      <td>1</td>\n",
       "      <td>5</td>\n",
       "      <td>5</td>\n",
       "      <td>50</td>\n",
       "      <td>13</td>\n",
       "      <td>15</td>\n",
       "      <td>7</td>\n",
       "      <td>25</td>\n",
       "      <td>0</td>\n",
       "      <td>1</td>\n",
       "      <td>0</td>\n",
       "      <td>0</td>\n",
       "      <td>0</td>\n",
       "    </tr>\n",
       "    <tr>\n",
       "      <th>2</th>\n",
       "      <td>10</td>\n",
       "      <td>4</td>\n",
       "      <td>2 stops</td>\n",
       "      <td>13882</td>\n",
       "      <td>9</td>\n",
       "      <td>6</td>\n",
       "      <td>9</td>\n",
       "      <td>25</td>\n",
       "      <td>4</td>\n",
       "      <td>25</td>\n",
       "      <td>19</td>\n",
       "      <td>0</td>\n",
       "      <td>0</td>\n",
       "      <td>0</td>\n",
       "      <td>1</td>\n",
       "      <td>0</td>\n",
       "      <td>0</td>\n",
       "    </tr>\n",
       "    <tr>\n",
       "      <th>3</th>\n",
       "      <td>3</td>\n",
       "      <td>3</td>\n",
       "      <td>1 stop</td>\n",
       "      <td>6218</td>\n",
       "      <td>12</td>\n",
       "      <td>5</td>\n",
       "      <td>18</td>\n",
       "      <td>5</td>\n",
       "      <td>23</td>\n",
       "      <td>30</td>\n",
       "      <td>5</td>\n",
       "      <td>25</td>\n",
       "      <td>0</td>\n",
       "      <td>1</td>\n",
       "      <td>0</td>\n",
       "      <td>0</td>\n",
       "      <td>0</td>\n",
       "    </tr>\n",
       "    <tr>\n",
       "      <th>4</th>\n",
       "      <td>3</td>\n",
       "      <td>2</td>\n",
       "      <td>1 stop</td>\n",
       "      <td>13302</td>\n",
       "      <td>1</td>\n",
       "      <td>3</td>\n",
       "      <td>16</td>\n",
       "      <td>50</td>\n",
       "      <td>21</td>\n",
       "      <td>35</td>\n",
       "      <td>4</td>\n",
       "      <td>45</td>\n",
       "      <td>1</td>\n",
       "      <td>0</td>\n",
       "      <td>0</td>\n",
       "      <td>0</td>\n",
       "      <td>0</td>\n",
       "    </tr>\n",
       "  </tbody>\n",
       "</table>\n",
       "</div>"
      ],
      "text/plain": [
       "   Airline  Destination Total_Stops  Price  journey_month  journey_day  \\\n",
       "0        3            2    non-stop   3897              3           24   \n",
       "1        7            3     2 stops   7662              1            5   \n",
       "2       10            4     2 stops  13882              9            6   \n",
       "3        3            3      1 stop   6218             12            5   \n",
       "4        3            2      1 stop  13302              1            3   \n",
       "\n",
       "   Dep_Time_hour  Dep_Time_minute  Arrival_Time_hour  Arrival_Time_minute  \\\n",
       "0             22               20                  1                   10   \n",
       "1              5               50                 13                   15   \n",
       "2              9               25                  4                   25   \n",
       "3             18                5                 23                   30   \n",
       "4             16               50                 21                   35   \n",
       "\n",
       "   Duration_hours  Duration_minutes  Source_Banglore  Source_Kolkata  \\\n",
       "0               2                50                1               0   \n",
       "1               7                25                0               1   \n",
       "2              19                 0                0               0   \n",
       "3               5                25                0               1   \n",
       "4               4                45                1               0   \n",
       "\n",
       "   Source_Delhi  Source_Chennai  Source_Mumbai  \n",
       "0             0               0              0  \n",
       "1             0               0              0  \n",
       "2             1               0              0  \n",
       "3             0               0              0  \n",
       "4             0               0              0  "
      ]
     },
     "metadata": {},
     "output_type": "display_data"
    }
   ],
   "source": [
    "with pd.option_context(\"display.max_columns\",None):\n",
    "    display(df.head())"
   ]
  },
  {
   "cell_type": "markdown",
   "id": "661f3018",
   "metadata": {},
   "source": [
    "## Ordinal Encoding on Total stops using our own dictionary\n",
    "**For stops we need our own dictionary.**"
   ]
  },
  {
   "cell_type": "code",
   "execution_count": 54,
   "id": "df86125f",
   "metadata": {},
   "outputs": [
    {
     "data": {
      "text/plain": [
       "array(['non-stop', '2 stops', '1 stop', '3 stops', '4 stops'],\n",
       "      dtype=object)"
      ]
     },
     "execution_count": 54,
     "metadata": {},
     "output_type": "execute_result"
    }
   ],
   "source": [
    "df['Total_Stops'].unique()"
   ]
  },
  {
   "cell_type": "code",
   "execution_count": 55,
   "id": "bdf0f5d8",
   "metadata": {},
   "outputs": [],
   "source": [
    "stops = {'non-stop':0, '1 stop': 1, '2 stops': 2, '3 stops': 3, '4 stops': 4}"
   ]
  },
  {
   "cell_type": "code",
   "execution_count": 56,
   "id": "46fdabec",
   "metadata": {},
   "outputs": [],
   "source": [
    "df['Total_Stops'] = df['Total_Stops'].map(stops)"
   ]
  },
  {
   "cell_type": "code",
   "execution_count": 57,
   "id": "e7c32cd7",
   "metadata": {},
   "outputs": [
    {
     "data": {
      "text/html": [
       "<div>\n",
       "<style scoped>\n",
       "    .dataframe tbody tr th:only-of-type {\n",
       "        vertical-align: middle;\n",
       "    }\n",
       "\n",
       "    .dataframe tbody tr th {\n",
       "        vertical-align: top;\n",
       "    }\n",
       "\n",
       "    .dataframe thead th {\n",
       "        text-align: right;\n",
       "    }\n",
       "</style>\n",
       "<table border=\"1\" class=\"dataframe\">\n",
       "  <thead>\n",
       "    <tr style=\"text-align: right;\">\n",
       "      <th></th>\n",
       "      <th>Airline</th>\n",
       "      <th>Destination</th>\n",
       "      <th>Total_Stops</th>\n",
       "      <th>Price</th>\n",
       "      <th>journey_month</th>\n",
       "      <th>journey_day</th>\n",
       "      <th>Dep_Time_hour</th>\n",
       "      <th>Dep_Time_minute</th>\n",
       "      <th>Arrival_Time_hour</th>\n",
       "      <th>Arrival_Time_minute</th>\n",
       "      <th>Duration_hours</th>\n",
       "      <th>Duration_minutes</th>\n",
       "      <th>Source_Banglore</th>\n",
       "      <th>Source_Kolkata</th>\n",
       "      <th>Source_Delhi</th>\n",
       "      <th>Source_Chennai</th>\n",
       "      <th>Source_Mumbai</th>\n",
       "    </tr>\n",
       "  </thead>\n",
       "  <tbody>\n",
       "    <tr>\n",
       "      <th>0</th>\n",
       "      <td>3</td>\n",
       "      <td>2</td>\n",
       "      <td>0</td>\n",
       "      <td>3897</td>\n",
       "      <td>3</td>\n",
       "      <td>24</td>\n",
       "      <td>22</td>\n",
       "      <td>20</td>\n",
       "      <td>1</td>\n",
       "      <td>10</td>\n",
       "      <td>2</td>\n",
       "      <td>50</td>\n",
       "      <td>1</td>\n",
       "      <td>0</td>\n",
       "      <td>0</td>\n",
       "      <td>0</td>\n",
       "      <td>0</td>\n",
       "    </tr>\n",
       "    <tr>\n",
       "      <th>1</th>\n",
       "      <td>7</td>\n",
       "      <td>3</td>\n",
       "      <td>2</td>\n",
       "      <td>7662</td>\n",
       "      <td>1</td>\n",
       "      <td>5</td>\n",
       "      <td>5</td>\n",
       "      <td>50</td>\n",
       "      <td>13</td>\n",
       "      <td>15</td>\n",
       "      <td>7</td>\n",
       "      <td>25</td>\n",
       "      <td>0</td>\n",
       "      <td>1</td>\n",
       "      <td>0</td>\n",
       "      <td>0</td>\n",
       "      <td>0</td>\n",
       "    </tr>\n",
       "    <tr>\n",
       "      <th>2</th>\n",
       "      <td>10</td>\n",
       "      <td>4</td>\n",
       "      <td>2</td>\n",
       "      <td>13882</td>\n",
       "      <td>9</td>\n",
       "      <td>6</td>\n",
       "      <td>9</td>\n",
       "      <td>25</td>\n",
       "      <td>4</td>\n",
       "      <td>25</td>\n",
       "      <td>19</td>\n",
       "      <td>0</td>\n",
       "      <td>0</td>\n",
       "      <td>0</td>\n",
       "      <td>1</td>\n",
       "      <td>0</td>\n",
       "      <td>0</td>\n",
       "    </tr>\n",
       "    <tr>\n",
       "      <th>3</th>\n",
       "      <td>3</td>\n",
       "      <td>3</td>\n",
       "      <td>1</td>\n",
       "      <td>6218</td>\n",
       "      <td>12</td>\n",
       "      <td>5</td>\n",
       "      <td>18</td>\n",
       "      <td>5</td>\n",
       "      <td>23</td>\n",
       "      <td>30</td>\n",
       "      <td>5</td>\n",
       "      <td>25</td>\n",
       "      <td>0</td>\n",
       "      <td>1</td>\n",
       "      <td>0</td>\n",
       "      <td>0</td>\n",
       "      <td>0</td>\n",
       "    </tr>\n",
       "    <tr>\n",
       "      <th>4</th>\n",
       "      <td>3</td>\n",
       "      <td>2</td>\n",
       "      <td>1</td>\n",
       "      <td>13302</td>\n",
       "      <td>1</td>\n",
       "      <td>3</td>\n",
       "      <td>16</td>\n",
       "      <td>50</td>\n",
       "      <td>21</td>\n",
       "      <td>35</td>\n",
       "      <td>4</td>\n",
       "      <td>45</td>\n",
       "      <td>1</td>\n",
       "      <td>0</td>\n",
       "      <td>0</td>\n",
       "      <td>0</td>\n",
       "      <td>0</td>\n",
       "    </tr>\n",
       "  </tbody>\n",
       "</table>\n",
       "</div>"
      ],
      "text/plain": [
       "   Airline  Destination  Total_Stops  Price  journey_month  journey_day  \\\n",
       "0        3            2            0   3897              3           24   \n",
       "1        7            3            2   7662              1            5   \n",
       "2       10            4            2  13882              9            6   \n",
       "3        3            3            1   6218             12            5   \n",
       "4        3            2            1  13302              1            3   \n",
       "\n",
       "   Dep_Time_hour  Dep_Time_minute  Arrival_Time_hour  Arrival_Time_minute  \\\n",
       "0             22               20                  1                   10   \n",
       "1              5               50                 13                   15   \n",
       "2              9               25                  4                   25   \n",
       "3             18                5                 23                   30   \n",
       "4             16               50                 21                   35   \n",
       "\n",
       "   Duration_hours  Duration_minutes  Source_Banglore  Source_Kolkata  \\\n",
       "0               2                50                1               0   \n",
       "1               7                25                0               1   \n",
       "2              19                 0                0               0   \n",
       "3               5                25                0               1   \n",
       "4               4                45                1               0   \n",
       "\n",
       "   Source_Delhi  Source_Chennai  Source_Mumbai  \n",
       "0             0               0              0  \n",
       "1             0               0              0  \n",
       "2             1               0              0  \n",
       "3             0               0              0  \n",
       "4             0               0              0  "
      ]
     },
     "metadata": {},
     "output_type": "display_data"
    }
   ],
   "source": [
    "with pd.option_context(\"display.max_columns\",None):\n",
    "    display(df.head())"
   ]
  },
  {
   "cell_type": "markdown",
   "id": "87d058d1",
   "metadata": {},
   "source": [
    "## 18. How to handle outliers in data\n",
    "1. Visualize the outliers\n",
    "2. Change the value of outliers to median"
   ]
  },
  {
   "cell_type": "code",
   "execution_count": 58,
   "id": "9d4513f1",
   "metadata": {},
   "outputs": [],
   "source": [
    "def plot(df, col):\n",
    "    fig, [ax1, ax2, ax3] = plt.subplots(3, 1, figsize=(10, 12))\n",
    "    sns.histplot(x = col, data = df, ax = ax1, kde = True, element = 'poly')\n",
    "    sns.boxplot(x = col, data = df, ax = ax2)\n",
    "    sns.histplot(x = col, data = df, ax = ax3, kde = False) #returns Histograms\n",
    "    plt.show()"
   ]
  },
  {
   "cell_type": "code",
   "execution_count": 59,
   "id": "d65ce094",
   "metadata": {
    "scrolled": true
   },
   "outputs": [
    {
     "data": {
      "image/png": "[encoded data removed]",
      "text/plain": [
       "<Figure size 720x864 with 3 Axes>"
      ]
     },
     "metadata": {
      "needs_background": "light"
     },
     "output_type": "display_data"
    }
   ],
   "source": [
    "plot(df, 'Price')"
   ]
  },
  {
   "cell_type": "code",
   "execution_count": 60,
   "id": "001ef1a1",
   "metadata": {
    "scrolled": true
   },
   "outputs": [
    {
     "data": {
      "image/png": "[encoded data removed]",
      "text/plain": [
       "<Figure size 720x864 with 3 Axes>"
      ]
     },
     "metadata": {
      "needs_background": "light"
     },
     "output_type": "display_data"
    }
   ],
   "source": [
    "#There seem to be a lot of outliers let's reduce them.\n",
    "df['Price'] = np.where(df['Price'] >= 35000, df['Price'].median(), df['Price'])\n",
    "plot(df, 'Price')"
   ]
  },
  {
   "cell_type": "markdown",
   "id": "dd1c2348",
   "metadata": {},
   "source": [
    "## 19. Select Best features using Feature selection\n",
    "Select features that contribute most to the target features.\n",
    "There are several different methods to do this:   \n",
    "1. SelectKBest: we have a score function associated with this method whose values defines the importance of the feature such as :  \n",
    "- For regression use we have f_regression based on correlation  \n",
    "- Mutual information regression based on a rigorous statistical test such as chi square, anova and p-value and typically measures the dependence between two variables"
   ]
  },
  {
   "cell_type": "code",
   "execution_count": 61,
   "id": "bc2da369",
   "metadata": {
    "scrolled": true
   },
   "outputs": [
    {
     "data": {
      "text/html": [
       "<div>\n",
       "<style scoped>\n",
       "    .dataframe tbody tr th:only-of-type {\n",
       "        vertical-align: middle;\n",
       "    }\n",
       "\n",
       "    .dataframe tbody tr th {\n",
       "        vertical-align: top;\n",
       "    }\n",
       "\n",
       "    .dataframe thead th {\n",
       "        text-align: right;\n",
       "    }\n",
       "</style>\n",
       "<table border=\"1\" class=\"dataframe\">\n",
       "  <thead>\n",
       "    <tr style=\"text-align: right;\">\n",
       "      <th></th>\n",
       "      <th>Airline</th>\n",
       "      <th>Destination</th>\n",
       "      <th>Total_Stops</th>\n",
       "      <th>Price</th>\n",
       "      <th>journey_month</th>\n",
       "      <th>journey_day</th>\n",
       "      <th>Dep_Time_hour</th>\n",
       "      <th>Dep_Time_minute</th>\n",
       "      <th>Arrival_Time_hour</th>\n",
       "      <th>Arrival_Time_minute</th>\n",
       "      <th>Duration_hours</th>\n",
       "      <th>Duration_minutes</th>\n",
       "      <th>Source_Banglore</th>\n",
       "      <th>Source_Kolkata</th>\n",
       "      <th>Source_Delhi</th>\n",
       "      <th>Source_Chennai</th>\n",
       "      <th>Source_Mumbai</th>\n",
       "    </tr>\n",
       "  </thead>\n",
       "  <tbody>\n",
       "    <tr>\n",
       "      <th>0</th>\n",
       "      <td>3</td>\n",
       "      <td>2</td>\n",
       "      <td>0</td>\n",
       "      <td>3897.0</td>\n",
       "      <td>3</td>\n",
       "      <td>24</td>\n",
       "      <td>22</td>\n",
       "      <td>20</td>\n",
       "      <td>1</td>\n",
       "      <td>10</td>\n",
       "      <td>2</td>\n",
       "      <td>50</td>\n",
       "      <td>1</td>\n",
       "      <td>0</td>\n",
       "      <td>0</td>\n",
       "      <td>0</td>\n",
       "      <td>0</td>\n",
       "    </tr>\n",
       "    <tr>\n",
       "      <th>1</th>\n",
       "      <td>7</td>\n",
       "      <td>3</td>\n",
       "      <td>2</td>\n",
       "      <td>7662.0</td>\n",
       "      <td>1</td>\n",
       "      <td>5</td>\n",
       "      <td>5</td>\n",
       "      <td>50</td>\n",
       "      <td>13</td>\n",
       "      <td>15</td>\n",
       "      <td>7</td>\n",
       "      <td>25</td>\n",
       "      <td>0</td>\n",
       "      <td>1</td>\n",
       "      <td>0</td>\n",
       "      <td>0</td>\n",
       "      <td>0</td>\n",
       "    </tr>\n",
       "    <tr>\n",
       "      <th>2</th>\n",
       "      <td>10</td>\n",
       "      <td>4</td>\n",
       "      <td>2</td>\n",
       "      <td>13882.0</td>\n",
       "      <td>9</td>\n",
       "      <td>6</td>\n",
       "      <td>9</td>\n",
       "      <td>25</td>\n",
       "      <td>4</td>\n",
       "      <td>25</td>\n",
       "      <td>19</td>\n",
       "      <td>0</td>\n",
       "      <td>0</td>\n",
       "      <td>0</td>\n",
       "      <td>1</td>\n",
       "      <td>0</td>\n",
       "      <td>0</td>\n",
       "    </tr>\n",
       "    <tr>\n",
       "      <th>3</th>\n",
       "      <td>3</td>\n",
       "      <td>3</td>\n",
       "      <td>1</td>\n",
       "      <td>6218.0</td>\n",
       "      <td>12</td>\n",
       "      <td>5</td>\n",
       "      <td>18</td>\n",
       "      <td>5</td>\n",
       "      <td>23</td>\n",
       "      <td>30</td>\n",
       "      <td>5</td>\n",
       "      <td>25</td>\n",
       "      <td>0</td>\n",
       "      <td>1</td>\n",
       "      <td>0</td>\n",
       "      <td>0</td>\n",
       "      <td>0</td>\n",
       "    </tr>\n",
       "    <tr>\n",
       "      <th>4</th>\n",
       "      <td>3</td>\n",
       "      <td>2</td>\n",
       "      <td>1</td>\n",
       "      <td>13302.0</td>\n",
       "      <td>1</td>\n",
       "      <td>3</td>\n",
       "      <td>16</td>\n",
       "      <td>50</td>\n",
       "      <td>21</td>\n",
       "      <td>35</td>\n",
       "      <td>4</td>\n",
       "      <td>45</td>\n",
       "      <td>1</td>\n",
       "      <td>0</td>\n",
       "      <td>0</td>\n",
       "      <td>0</td>\n",
       "      <td>0</td>\n",
       "    </tr>\n",
       "    <tr>\n",
       "      <th>...</th>\n",
       "      <td>...</td>\n",
       "      <td>...</td>\n",
       "      <td>...</td>\n",
       "      <td>...</td>\n",
       "      <td>...</td>\n",
       "      <td>...</td>\n",
       "      <td>...</td>\n",
       "      <td>...</td>\n",
       "      <td>...</td>\n",
       "      <td>...</td>\n",
       "      <td>...</td>\n",
       "      <td>...</td>\n",
       "      <td>...</td>\n",
       "      <td>...</td>\n",
       "      <td>...</td>\n",
       "      <td>...</td>\n",
       "      <td>...</td>\n",
       "    </tr>\n",
       "    <tr>\n",
       "      <th>10678</th>\n",
       "      <td>2</td>\n",
       "      <td>3</td>\n",
       "      <td>0</td>\n",
       "      <td>4107.0</td>\n",
       "      <td>9</td>\n",
       "      <td>4</td>\n",
       "      <td>19</td>\n",
       "      <td>55</td>\n",
       "      <td>22</td>\n",
       "      <td>25</td>\n",
       "      <td>2</td>\n",
       "      <td>30</td>\n",
       "      <td>0</td>\n",
       "      <td>1</td>\n",
       "      <td>0</td>\n",
       "      <td>0</td>\n",
       "      <td>0</td>\n",
       "    </tr>\n",
       "    <tr>\n",
       "      <th>10679</th>\n",
       "      <td>7</td>\n",
       "      <td>3</td>\n",
       "      <td>0</td>\n",
       "      <td>4145.0</td>\n",
       "      <td>4</td>\n",
       "      <td>27</td>\n",
       "      <td>20</td>\n",
       "      <td>45</td>\n",
       "      <td>23</td>\n",
       "      <td>20</td>\n",
       "      <td>2</td>\n",
       "      <td>35</td>\n",
       "      <td>0</td>\n",
       "      <td>1</td>\n",
       "      <td>0</td>\n",
       "      <td>0</td>\n",
       "      <td>0</td>\n",
       "    </tr>\n",
       "    <tr>\n",
       "      <th>10680</th>\n",
       "      <td>10</td>\n",
       "      <td>2</td>\n",
       "      <td>0</td>\n",
       "      <td>7229.0</td>\n",
       "      <td>4</td>\n",
       "      <td>27</td>\n",
       "      <td>8</td>\n",
       "      <td>20</td>\n",
       "      <td>11</td>\n",
       "      <td>20</td>\n",
       "      <td>3</td>\n",
       "      <td>0</td>\n",
       "      <td>1</td>\n",
       "      <td>0</td>\n",
       "      <td>0</td>\n",
       "      <td>0</td>\n",
       "      <td>0</td>\n",
       "    </tr>\n",
       "    <tr>\n",
       "      <th>10681</th>\n",
       "      <td>5</td>\n",
       "      <td>2</td>\n",
       "      <td>0</td>\n",
       "      <td>12648.0</td>\n",
       "      <td>1</td>\n",
       "      <td>3</td>\n",
       "      <td>11</td>\n",
       "      <td>30</td>\n",
       "      <td>14</td>\n",
       "      <td>10</td>\n",
       "      <td>2</td>\n",
       "      <td>40</td>\n",
       "      <td>1</td>\n",
       "      <td>0</td>\n",
       "      <td>0</td>\n",
       "      <td>0</td>\n",
       "      <td>0</td>\n",
       "    </tr>\n",
       "    <tr>\n",
       "      <th>10682</th>\n",
       "      <td>7</td>\n",
       "      <td>4</td>\n",
       "      <td>2</td>\n",
       "      <td>11753.0</td>\n",
       "      <td>9</td>\n",
       "      <td>5</td>\n",
       "      <td>10</td>\n",
       "      <td>55</td>\n",
       "      <td>19</td>\n",
       "      <td>15</td>\n",
       "      <td>8</td>\n",
       "      <td>20</td>\n",
       "      <td>0</td>\n",
       "      <td>0</td>\n",
       "      <td>1</td>\n",
       "      <td>0</td>\n",
       "      <td>0</td>\n",
       "    </tr>\n",
       "  </tbody>\n",
       "</table>\n",
       "<p>10682 rows × 17 columns</p>\n",
       "</div>"
      ],
      "text/plain": [
       "       Airline  Destination  Total_Stops    Price  journey_month  journey_day  \\\n",
       "0            3            2            0   3897.0              3           24   \n",
       "1            7            3            2   7662.0              1            5   \n",
       "2           10            4            2  13882.0              9            6   \n",
       "3            3            3            1   6218.0             12            5   \n",
       "4            3            2            1  13302.0              1            3   \n",
       "...        ...          ...          ...      ...            ...          ...   \n",
       "10678        2            3            0   4107.0              9            4   \n",
       "10679        7            3            0   4145.0              4           27   \n",
       "10680       10            2            0   7229.0              4           27   \n",
       "10681        5            2            0  12648.0              1            3   \n",
       "10682        7            4            2  11753.0              9            5   \n",
       "\n",
       "       Dep_Time_hour  Dep_Time_minute  Arrival_Time_hour  Arrival_Time_minute  \\\n",
       "0                 22               20                  1                   10   \n",
       "1                  5               50                 13                   15   \n",
       "2                  9               25                  4                   25   \n",
       "3                 18                5                 23                   30   \n",
       "4                 16               50                 21                   35   \n",
       "...              ...              ...                ...                  ...   \n",
       "10678             19               55                 22                   25   \n",
       "10679             20               45                 23                   20   \n",
       "10680              8               20                 11                   20   \n",
       "10681             11               30                 14                   10   \n",
       "10682             10               55                 19                   15   \n",
       "\n",
       "       Duration_hours  Duration_minutes  Source_Banglore  Source_Kolkata  \\\n",
       "0                   2                50                1               0   \n",
       "1                   7                25                0               1   \n",
       "2                  19                 0                0               0   \n",
       "3                   5                25                0               1   \n",
       "4                   4                45                1               0   \n",
       "...               ...               ...              ...             ...   \n",
       "10678               2                30                0               1   \n",
       "10679               2                35                0               1   \n",
       "10680               3                 0                1               0   \n",
       "10681               2                40                1               0   \n",
       "10682               8                20                0               0   \n",
       "\n",
       "       Source_Delhi  Source_Chennai  Source_Mumbai  \n",
       "0                 0               0              0  \n",
       "1                 0               0              0  \n",
       "2                 1               0              0  \n",
       "3                 0               0              0  \n",
       "4                 0               0              0  \n",
       "...             ...             ...            ...  \n",
       "10678             0               0              0  \n",
       "10679             0               0              0  \n",
       "10680             0               0              0  \n",
       "10681             0               0              0  \n",
       "10682             1               0              0  \n",
       "\n",
       "[10682 rows x 17 columns]"
      ]
     },
     "metadata": {},
     "output_type": "display_data"
    }
   ],
   "source": [
    "with pd.option_context(\"display.max_columns\",None):\n",
    "    display(df)"
   ]
  },
  {
   "cell_type": "code",
   "execution_count": 62,
   "id": "36e397c0",
   "metadata": {
    "scrolled": true
   },
   "outputs": [
    {
     "data": {
      "text/plain": [
       "Airline                  int64\n",
       "Destination              int64\n",
       "Total_Stops              int64\n",
       "Price                  float64\n",
       "journey_month            int64\n",
       "journey_day              int64\n",
       "Dep_Time_hour            int64\n",
       "Dep_Time_minute          int64\n",
       "Arrival_Time_hour        int64\n",
       "Arrival_Time_minute      int64\n",
       "Duration_hours           int64\n",
       "Duration_minutes         int64\n",
       "Source_Banglore          int64\n",
       "Source_Kolkata           int64\n",
       "Source_Delhi             int64\n",
       "Source_Chennai           int64\n",
       "Source_Mumbai            int64\n",
       "dtype: object"
      ]
     },
     "execution_count": 62,
     "metadata": {},
     "output_type": "execute_result"
    }
   ],
   "source": [
    "df.dtypes"
   ]
  },
  {
   "cell_type": "markdown",
   "id": "88afa4cc",
   "metadata": {},
   "source": [
    "### Which features contribute most to the target feature?"
   ]
  },
  {
   "cell_type": "code",
   "execution_count": 63,
   "id": "87b3af4b",
   "metadata": {},
   "outputs": [
    {
     "data": {
      "text/html": [
       "<div>\n",
       "<style scoped>\n",
       "    .dataframe tbody tr th:only-of-type {\n",
       "        vertical-align: middle;\n",
       "    }\n",
       "\n",
       "    .dataframe tbody tr th {\n",
       "        vertical-align: top;\n",
       "    }\n",
       "\n",
       "    .dataframe thead th {\n",
       "        text-align: right;\n",
       "    }\n",
       "</style>\n",
       "<table border=\"1\" class=\"dataframe\">\n",
       "  <thead>\n",
       "    <tr style=\"text-align: right;\">\n",
       "      <th></th>\n",
       "      <th>Airline</th>\n",
       "      <th>Destination</th>\n",
       "      <th>Total_Stops</th>\n",
       "      <th>journey_month</th>\n",
       "      <th>journey_day</th>\n",
       "      <th>Dep_Time_hour</th>\n",
       "      <th>Dep_Time_minute</th>\n",
       "      <th>Arrival_Time_hour</th>\n",
       "      <th>Arrival_Time_minute</th>\n",
       "      <th>Duration_hours</th>\n",
       "      <th>Duration_minutes</th>\n",
       "      <th>Source_Banglore</th>\n",
       "      <th>Source_Kolkata</th>\n",
       "      <th>Source_Delhi</th>\n",
       "      <th>Source_Chennai</th>\n",
       "      <th>Source_Mumbai</th>\n",
       "    </tr>\n",
       "  </thead>\n",
       "  <tbody>\n",
       "    <tr>\n",
       "      <th>0</th>\n",
       "      <td>3</td>\n",
       "      <td>2</td>\n",
       "      <td>0</td>\n",
       "      <td>3</td>\n",
       "      <td>24</td>\n",
       "      <td>22</td>\n",
       "      <td>20</td>\n",
       "      <td>1</td>\n",
       "      <td>10</td>\n",
       "      <td>2</td>\n",
       "      <td>50</td>\n",
       "      <td>1</td>\n",
       "      <td>0</td>\n",
       "      <td>0</td>\n",
       "      <td>0</td>\n",
       "      <td>0</td>\n",
       "    </tr>\n",
       "    <tr>\n",
       "      <th>1</th>\n",
       "      <td>7</td>\n",
       "      <td>3</td>\n",
       "      <td>2</td>\n",
       "      <td>1</td>\n",
       "      <td>5</td>\n",
       "      <td>5</td>\n",
       "      <td>50</td>\n",
       "      <td>13</td>\n",
       "      <td>15</td>\n",
       "      <td>7</td>\n",
       "      <td>25</td>\n",
       "      <td>0</td>\n",
       "      <td>1</td>\n",
       "      <td>0</td>\n",
       "      <td>0</td>\n",
       "      <td>0</td>\n",
       "    </tr>\n",
       "    <tr>\n",
       "      <th>2</th>\n",
       "      <td>10</td>\n",
       "      <td>4</td>\n",
       "      <td>2</td>\n",
       "      <td>9</td>\n",
       "      <td>6</td>\n",
       "      <td>9</td>\n",
       "      <td>25</td>\n",
       "      <td>4</td>\n",
       "      <td>25</td>\n",
       "      <td>19</td>\n",
       "      <td>0</td>\n",
       "      <td>0</td>\n",
       "      <td>0</td>\n",
       "      <td>1</td>\n",
       "      <td>0</td>\n",
       "      <td>0</td>\n",
       "    </tr>\n",
       "    <tr>\n",
       "      <th>3</th>\n",
       "      <td>3</td>\n",
       "      <td>3</td>\n",
       "      <td>1</td>\n",
       "      <td>12</td>\n",
       "      <td>5</td>\n",
       "      <td>18</td>\n",
       "      <td>5</td>\n",
       "      <td>23</td>\n",
       "      <td>30</td>\n",
       "      <td>5</td>\n",
       "      <td>25</td>\n",
       "      <td>0</td>\n",
       "      <td>1</td>\n",
       "      <td>0</td>\n",
       "      <td>0</td>\n",
       "      <td>0</td>\n",
       "    </tr>\n",
       "    <tr>\n",
       "      <th>4</th>\n",
       "      <td>3</td>\n",
       "      <td>2</td>\n",
       "      <td>1</td>\n",
       "      <td>1</td>\n",
       "      <td>3</td>\n",
       "      <td>16</td>\n",
       "      <td>50</td>\n",
       "      <td>21</td>\n",
       "      <td>35</td>\n",
       "      <td>4</td>\n",
       "      <td>45</td>\n",
       "      <td>1</td>\n",
       "      <td>0</td>\n",
       "      <td>0</td>\n",
       "      <td>0</td>\n",
       "      <td>0</td>\n",
       "    </tr>\n",
       "    <tr>\n",
       "      <th>...</th>\n",
       "      <td>...</td>\n",
       "      <td>...</td>\n",
       "      <td>...</td>\n",
       "      <td>...</td>\n",
       "      <td>...</td>\n",
       "      <td>...</td>\n",
       "      <td>...</td>\n",
       "      <td>...</td>\n",
       "      <td>...</td>\n",
       "      <td>...</td>\n",
       "      <td>...</td>\n",
       "      <td>...</td>\n",
       "      <td>...</td>\n",
       "      <td>...</td>\n",
       "      <td>...</td>\n",
       "      <td>...</td>\n",
       "    </tr>\n",
       "    <tr>\n",
       "      <th>10678</th>\n",
       "      <td>2</td>\n",
       "      <td>3</td>\n",
       "      <td>0</td>\n",
       "      <td>9</td>\n",
       "      <td>4</td>\n",
       "      <td>19</td>\n",
       "      <td>55</td>\n",
       "      <td>22</td>\n",
       "      <td>25</td>\n",
       "      <td>2</td>\n",
       "      <td>30</td>\n",
       "      <td>0</td>\n",
       "      <td>1</td>\n",
       "      <td>0</td>\n",
       "      <td>0</td>\n",
       "      <td>0</td>\n",
       "    </tr>\n",
       "    <tr>\n",
       "      <th>10679</th>\n",
       "      <td>7</td>\n",
       "      <td>3</td>\n",
       "      <td>0</td>\n",
       "      <td>4</td>\n",
       "      <td>27</td>\n",
       "      <td>20</td>\n",
       "      <td>45</td>\n",
       "      <td>23</td>\n",
       "      <td>20</td>\n",
       "      <td>2</td>\n",
       "      <td>35</td>\n",
       "      <td>0</td>\n",
       "      <td>1</td>\n",
       "      <td>0</td>\n",
       "      <td>0</td>\n",
       "      <td>0</td>\n",
       "    </tr>\n",
       "    <tr>\n",
       "      <th>10680</th>\n",
       "      <td>10</td>\n",
       "      <td>2</td>\n",
       "      <td>0</td>\n",
       "      <td>4</td>\n",
       "      <td>27</td>\n",
       "      <td>8</td>\n",
       "      <td>20</td>\n",
       "      <td>11</td>\n",
       "      <td>20</td>\n",
       "      <td>3</td>\n",
       "      <td>0</td>\n",
       "      <td>1</td>\n",
       "      <td>0</td>\n",
       "      <td>0</td>\n",
       "      <td>0</td>\n",
       "      <td>0</td>\n",
       "    </tr>\n",
       "    <tr>\n",
       "      <th>10681</th>\n",
       "      <td>5</td>\n",
       "      <td>2</td>\n",
       "      <td>0</td>\n",
       "      <td>1</td>\n",
       "      <td>3</td>\n",
       "      <td>11</td>\n",
       "      <td>30</td>\n",
       "      <td>14</td>\n",
       "      <td>10</td>\n",
       "      <td>2</td>\n",
       "      <td>40</td>\n",
       "      <td>1</td>\n",
       "      <td>0</td>\n",
       "      <td>0</td>\n",
       "      <td>0</td>\n",
       "      <td>0</td>\n",
       "    </tr>\n",
       "    <tr>\n",
       "      <th>10682</th>\n",
       "      <td>7</td>\n",
       "      <td>4</td>\n",
       "      <td>2</td>\n",
       "      <td>9</td>\n",
       "      <td>5</td>\n",
       "      <td>10</td>\n",
       "      <td>55</td>\n",
       "      <td>19</td>\n",
       "      <td>15</td>\n",
       "      <td>8</td>\n",
       "      <td>20</td>\n",
       "      <td>0</td>\n",
       "      <td>0</td>\n",
       "      <td>1</td>\n",
       "      <td>0</td>\n",
       "      <td>0</td>\n",
       "    </tr>\n",
       "  </tbody>\n",
       "</table>\n",
       "<p>10682 rows × 16 columns</p>\n",
       "</div>"
      ],
      "text/plain": [
       "       Airline  Destination  Total_Stops  journey_month  journey_day  \\\n",
       "0            3            2            0              3           24   \n",
       "1            7            3            2              1            5   \n",
       "2           10            4            2              9            6   \n",
       "3            3            3            1             12            5   \n",
       "4            3            2            1              1            3   \n",
       "...        ...          ...          ...            ...          ...   \n",
       "10678        2            3            0              9            4   \n",
       "10679        7            3            0              4           27   \n",
       "10680       10            2            0              4           27   \n",
       "10681        5            2            0              1            3   \n",
       "10682        7            4            2              9            5   \n",
       "\n",
       "       Dep_Time_hour  Dep_Time_minute  Arrival_Time_hour  Arrival_Time_minute  \\\n",
       "0                 22               20                  1                   10   \n",
       "1                  5               50                 13                   15   \n",
       "2                  9               25                  4                   25   \n",
       "3                 18                5                 23                   30   \n",
       "4                 16               50                 21                   35   \n",
       "...              ...              ...                ...                  ...   \n",
       "10678             19               55                 22                   25   \n",
       "10679             20               45                 23                   20   \n",
       "10680              8               20                 11                   20   \n",
       "10681             11               30                 14                   10   \n",
       "10682             10               55                 19                   15   \n",
       "\n",
       "       Duration_hours  Duration_minutes  Source_Banglore  Source_Kolkata  \\\n",
       "0                   2                50                1               0   \n",
       "1                   7                25                0               1   \n",
       "2                  19                 0                0               0   \n",
       "3                   5                25                0               1   \n",
       "4                   4                45                1               0   \n",
       "...               ...               ...              ...             ...   \n",
       "10678               2                30                0               1   \n",
       "10679               2                35                0               1   \n",
       "10680               3                 0                1               0   \n",
       "10681               2                40                1               0   \n",
       "10682               8                20                0               0   \n",
       "\n",
       "       Source_Delhi  Source_Chennai  Source_Mumbai  \n",
       "0                 0               0              0  \n",
       "1                 0               0              0  \n",
       "2                 1               0              0  \n",
       "3                 0               0              0  \n",
       "4                 0               0              0  \n",
       "...             ...             ...            ...  \n",
       "10678             0               0              0  \n",
       "10679             0               0              0  \n",
       "10680             0               0              0  \n",
       "10681             0               0              0  \n",
       "10682             1               0              0  \n",
       "\n",
       "[10682 rows x 16 columns]"
      ]
     },
     "execution_count": 63,
     "metadata": {},
     "output_type": "execute_result"
    }
   ],
   "source": [
    "from sklearn.feature_selection import mutual_info_regression\n",
    "\n",
    "X = df.drop(columns = ['Price'])\n",
    "y = df['Price']\n",
    "X"
   ]
  },
  {
   "cell_type": "code",
   "execution_count": 64,
   "id": "2f73d8d0",
   "metadata": {
    "scrolled": true
   },
   "outputs": [
    {
     "data": {
      "text/html": [
       "<div>\n",
       "<style scoped>\n",
       "    .dataframe tbody tr th:only-of-type {\n",
       "        vertical-align: middle;\n",
       "    }\n",
       "\n",
       "    .dataframe tbody tr th {\n",
       "        vertical-align: top;\n",
       "    }\n",
       "\n",
       "    .dataframe thead th {\n",
       "        text-align: right;\n",
       "    }\n",
       "</style>\n",
       "<table border=\"1\" class=\"dataframe\">\n",
       "  <thead>\n",
       "    <tr style=\"text-align: right;\">\n",
       "      <th></th>\n",
       "      <th>Importance</th>\n",
       "    </tr>\n",
       "  </thead>\n",
       "  <tbody>\n",
       "    <tr>\n",
       "      <th>Destination</th>\n",
       "      <td>1.01</td>\n",
       "    </tr>\n",
       "    <tr>\n",
       "      <th>Airline</th>\n",
       "      <td>0.97</td>\n",
       "    </tr>\n",
       "    <tr>\n",
       "      <th>Total_Stops</th>\n",
       "      <td>0.79</td>\n",
       "    </tr>\n",
       "    <tr>\n",
       "      <th>Source_Delhi</th>\n",
       "      <td>0.52</td>\n",
       "    </tr>\n",
       "    <tr>\n",
       "      <th>Duration_hours</th>\n",
       "      <td>0.47</td>\n",
       "    </tr>\n",
       "    <tr>\n",
       "      <th>Source_Kolkata</th>\n",
       "      <td>0.46</td>\n",
       "    </tr>\n",
       "    <tr>\n",
       "      <th>Arrival_Time_hour</th>\n",
       "      <td>0.40</td>\n",
       "    </tr>\n",
       "    <tr>\n",
       "      <th>Source_Banglore</th>\n",
       "      <td>0.39</td>\n",
       "    </tr>\n",
       "    <tr>\n",
       "      <th>Duration_minutes</th>\n",
       "      <td>0.35</td>\n",
       "    </tr>\n",
       "    <tr>\n",
       "      <th>Dep_Time_hour</th>\n",
       "      <td>0.34</td>\n",
       "    </tr>\n",
       "    <tr>\n",
       "      <th>Arrival_Time_minute</th>\n",
       "      <td>0.34</td>\n",
       "    </tr>\n",
       "    <tr>\n",
       "      <th>Dep_Time_minute</th>\n",
       "      <td>0.26</td>\n",
       "    </tr>\n",
       "    <tr>\n",
       "      <th>journey_month</th>\n",
       "      <td>0.24</td>\n",
       "    </tr>\n",
       "    <tr>\n",
       "      <th>journey_day</th>\n",
       "      <td>0.20</td>\n",
       "    </tr>\n",
       "    <tr>\n",
       "      <th>Source_Mumbai</th>\n",
       "      <td>0.20</td>\n",
       "    </tr>\n",
       "    <tr>\n",
       "      <th>Source_Chennai</th>\n",
       "      <td>0.13</td>\n",
       "    </tr>\n",
       "  </tbody>\n",
       "</table>\n",
       "</div>"
      ],
      "text/plain": [
       "                     Importance\n",
       "Destination                1.01\n",
       "Airline                    0.97\n",
       "Total_Stops                0.79\n",
       "Source_Delhi               0.52\n",
       "Duration_hours             0.47\n",
       "Source_Kolkata             0.46\n",
       "Arrival_Time_hour          0.40\n",
       "Source_Banglore            0.39\n",
       "Duration_minutes           0.35\n",
       "Dep_Time_hour              0.34\n",
       "Arrival_Time_minute        0.34\n",
       "Dep_Time_minute            0.26\n",
       "journey_month              0.24\n",
       "journey_day                0.20\n",
       "Source_Mumbai              0.20\n",
       "Source_Chennai             0.13"
      ]
     },
     "execution_count": 64,
     "metadata": {},
     "output_type": "execute_result"
    }
   ],
   "source": [
    "imp = pd.DataFrame(np.round(mutual_info_regression(X, y), 2), index = X.columns, columns = ['Importance'])\n",
    "imp.sort_values('Importance', ascending = False)"
   ]
  },
  {
   "cell_type": "markdown",
   "id": "1c9d617c",
   "metadata": {},
   "source": [
    "## Splitting the dataset for the ML model evaluation"
   ]
  },
  {
   "cell_type": "code",
   "execution_count": 66,
   "id": "d15c8260",
   "metadata": {},
   "outputs": [
    {
     "name": "stdout",
     "output_type": "stream",
     "text": [
      "Shape of training set X: (8011, 16)\n",
      "Shape of training set target features: (8011,)\n",
      "Shape of test set X: (2671, 16)\n",
      "Shape of test set target features: (2671,)\n"
     ]
    }
   ],
   "source": [
    "from sklearn.model_selection import train_test_split\n",
    "X_train, X_test, y_train, y_test = train_test_split(X, y, test_size = 0.25, random_state = 42)\n",
    "print(\"Shape of training set X:\", X_train.shape)\n",
    "print(\"Shape of training set target features:\", y_train.shape)\n",
    "print(\"Shape of test set X:\", X_test.shape)\n",
    "print(\"Shape of test set target features:\", y_test.shape)"
   ]
  },
  {
   "cell_type": "code",
   "execution_count": 68,
   "id": "edffc6ba",
   "metadata": {},
   "outputs": [
    {
     "name": "stdout",
     "output_type": "stream",
     "text": [
      "R squared for the random forest regressor: 0.81\n"
     ]
    }
   ],
   "source": [
    "#define machine learning model\n",
    "from sklearn.ensemble import RandomForestRegressor\n",
    "random_forest = RandomForestRegressor()\n",
    "random_forest.fit(X_train, y_train)\n",
    "r2_score = random_forest.score(X_test, y_test)\n",
    "print(\"R squared for the random forest regressor:\", round(r2_score, 2))"
   ]
  },
  {
   "cell_type": "markdown",
   "id": "103dffc0",
   "metadata": {},
   "source": [
    "### Hyper parameter tuning\n",
    "Can we improve the accuracy of the random forest model?"
   ]
  },
  {
   "cell_type": "code",
   "execution_count": 76,
   "id": "0af2940b",
   "metadata": {},
   "outputs": [],
   "source": [
    "from sklearn.model_selection import RandomizedSearchCV\n",
    "orig_rf = RandomForestRegressor()\n",
    "\n",
    "n_estimators = [int(x) for x in np.linspace(1000, 1200, 6)]\n",
    "max_features = [\"auto\", \"sqrt\"]\n",
    "max_depth = [int(x) for x in np.linspace(5, 30, 4)]\n",
    "min_samples_split = [5, 10, 15, 100]\n",
    "\n",
    "params_grid = {'n_estimators': n_estimators,\n",
    "              'max_features': max_features,\n",
    "              'max_depth': max_depth,\n",
    "              'min_samples_split': min_samples_split}\n",
    "\n",
    "rf_random = RandomizedSearchCV(orig_rf, param_distributions = params_grid, cv = 3, verbose = 2, n_jobs = -1)"
   ]
  },
  {
   "cell_type": "code",
   "execution_count": 77,
   "id": "a358bee4",
   "metadata": {},
   "outputs": [
    {
     "name": "stdout",
     "output_type": "stream",
     "text": [
      "Fitting 3 folds for each of 10 candidates, totalling 30 fits\n"
     ]
    },
    {
     "name": "stderr",
     "output_type": "stream",
     "text": [
      "/home/himanshi/.local/lib/python3.10/site-packages/sklearn/ensemble/_forest.py:414: FutureWarning: `max_features='auto'` has been deprecated in 1.1 and will be removed in 1.3. To keep the past behaviour, explicitly set `max_features=1.0` or remove this parameter as it is also the default value for RandomForestRegressors and ExtraTreesRegressors.\n",
      "  warn(\n",
      "/home/himanshi/.local/lib/python3.10/site-packages/sklearn/ensemble/_forest.py:414: FutureWarning: `max_features='auto'` has been deprecated in 1.1 and will be removed in 1.3. To keep the past behaviour, explicitly set `max_features=1.0` or remove this parameter as it is also the default value for RandomForestRegressors and ExtraTreesRegressors.\n",
      "  warn(\n",
      "/home/himanshi/.local/lib/python3.10/site-packages/sklearn/ensemble/_forest.py:414: FutureWarning: `max_features='auto'` has been deprecated in 1.1 and will be removed in 1.3. To keep the past behaviour, explicitly set `max_features=1.0` or remove this parameter as it is also the default value for RandomForestRegressors and ExtraTreesRegressors.\n",
      "  warn(\n",
      "/home/himanshi/.local/lib/python3.10/site-packages/sklearn/ensemble/_forest.py:414: FutureWarning: `max_features='auto'` has been deprecated in 1.1 and will be removed in 1.3. To keep the past behaviour, explicitly set `max_features=1.0` or remove this parameter as it is also the default value for RandomForestRegressors and ExtraTreesRegressors.\n",
      "  warn(\n",
      "/home/himanshi/.local/lib/python3.10/site-packages/sklearn/ensemble/_forest.py:414: FutureWarning: `max_features='auto'` has been deprecated in 1.1 and will be removed in 1.3. To keep the past behaviour, explicitly set `max_features=1.0` or remove this parameter as it is also the default value for RandomForestRegressors and ExtraTreesRegressors.\n",
      "  warn(\n",
      "/home/himanshi/.local/lib/python3.10/site-packages/sklearn/ensemble/_forest.py:414: FutureWarning: `max_features='auto'` has been deprecated in 1.1 and will be removed in 1.3. To keep the past behaviour, explicitly set `max_features=1.0` or remove this parameter as it is also the default value for RandomForestRegressors and ExtraTreesRegressors.\n",
      "  warn(\n",
      "/home/himanshi/.local/lib/python3.10/site-packages/sklearn/ensemble/_forest.py:414: FutureWarning: `max_features='auto'` has been deprecated in 1.1 and will be removed in 1.3. To keep the past behaviour, explicitly set `max_features=1.0` or remove this parameter as it is also the default value for RandomForestRegressors and ExtraTreesRegressors.\n",
      "  warn(\n",
      "/home/himanshi/.local/lib/python3.10/site-packages/sklearn/ensemble/_forest.py:414: FutureWarning: `max_features='auto'` has been deprecated in 1.1 and will be removed in 1.3. To keep the past behaviour, explicitly set `max_features=1.0` or remove this parameter as it is also the default value for RandomForestRegressors and ExtraTreesRegressors.\n",
      "  warn(\n",
      "/home/himanshi/.local/lib/python3.10/site-packages/sklearn/ensemble/_forest.py:414: FutureWarning: `max_features='auto'` has been deprecated in 1.1 and will be removed in 1.3. To keep the past behaviour, explicitly set `max_features=1.0` or remove this parameter as it is also the default value for RandomForestRegressors and ExtraTreesRegressors.\n",
      "  warn(\n",
      "/home/himanshi/.local/lib/python3.10/site-packages/sklearn/ensemble/_forest.py:414: FutureWarning: `max_features='auto'` has been deprecated in 1.1 and will be removed in 1.3. To keep the past behaviour, explicitly set `max_features=1.0` or remove this parameter as it is also the default value for RandomForestRegressors and ExtraTreesRegressors.\n",
      "  warn(\n",
      "/home/himanshi/.local/lib/python3.10/site-packages/sklearn/ensemble/_forest.py:414: FutureWarning: `max_features='auto'` has been deprecated in 1.1 and will be removed in 1.3. To keep the past behaviour, explicitly set `max_features=1.0` or remove this parameter as it is also the default value for RandomForestRegressors and ExtraTreesRegressors.\n",
      "  warn(\n",
      "/home/himanshi/.local/lib/python3.10/site-packages/sklearn/ensemble/_forest.py:414: FutureWarning: `max_features='auto'` has been deprecated in 1.1 and will be removed in 1.3. To keep the past behaviour, explicitly set `max_features=1.0` or remove this parameter as it is also the default value for RandomForestRegressors and ExtraTreesRegressors.\n",
      "  warn(\n",
      "/home/himanshi/.local/lib/python3.10/site-packages/sklearn/ensemble/_forest.py:414: FutureWarning: `max_features='auto'` has been deprecated in 1.1 and will be removed in 1.3. To keep the past behaviour, explicitly set `max_features=1.0` or remove this parameter as it is also the default value for RandomForestRegressors and ExtraTreesRegressors.\n",
      "  warn(\n",
      "/home/himanshi/.local/lib/python3.10/site-packages/sklearn/ensemble/_forest.py:414: FutureWarning: `max_features='auto'` has been deprecated in 1.1 and will be removed in 1.3. To keep the past behaviour, explicitly set `max_features=1.0` or remove this parameter as it is also the default value for RandomForestRegressors and ExtraTreesRegressors.\n",
      "  warn(\n",
      "/home/himanshi/.local/lib/python3.10/site-packages/sklearn/ensemble/_forest.py:414: FutureWarning: `max_features='auto'` has been deprecated in 1.1 and will be removed in 1.3. To keep the past behaviour, explicitly set `max_features=1.0` or remove this parameter as it is also the default value for RandomForestRegressors and ExtraTreesRegressors.\n",
      "  warn(\n",
      "/home/himanshi/.local/lib/python3.10/site-packages/sklearn/ensemble/_forest.py:414: FutureWarning:\n",
      "\n",
      "`max_features='auto'` has been deprecated in 1.1 and will be removed in 1.3. To keep the past behaviour, explicitly set `max_features=1.0` or remove this parameter as it is also the default value for RandomForestRegressors and ExtraTreesRegressors.\n",
      "\n"
     ]
    },
    {
     "data": {
      "text/plain": [
       "{'n_estimators': 1000,\n",
       " 'min_samples_split': 5,\n",
       " 'max_features': 'auto',\n",
       " 'max_depth': 13}"
      ]
     },
     "execution_count": 77,
     "metadata": {},
     "output_type": "execute_result"
    },
    {
     "name": "stdout",
     "output_type": "stream",
     "text": [
      "[CV] END max_depth=30, max_features=auto, min_samples_split=5, n_estimators=1120; total time=  27.0s\n",
      "[CV] END max_depth=13, max_features=auto, min_samples_split=5, n_estimators=1000; total time=  25.1s\n",
      "[CV] END max_depth=13, max_features=auto, min_samples_split=5, n_estimators=1080; total time=  22.3s\n",
      "[CV] END max_depth=5, max_features=sqrt, min_samples_split=10, n_estimators=1040; total time=   4.5s\n",
      "[CV] END max_depth=21, max_features=sqrt, min_samples_split=10, n_estimators=1160; total time=   8.9s\n",
      "[CV] END max_depth=21, max_features=sqrt, min_samples_split=10, n_estimators=1160; total time=   8.8s\n",
      "[CV] END max_depth=21, max_features=sqrt, min_samples_split=100, n_estimators=1120; total time=   6.2s\n",
      "[CV] END max_depth=30, max_features=auto, min_samples_split=5, n_estimators=1120; total time=  28.7s\n",
      "[CV] END max_depth=13, max_features=auto, min_samples_split=5, n_estimators=1080; total time=  25.4s\n",
      "[CV] END max_depth=5, max_features=auto, min_samples_split=5, n_estimators=1080; total time=   9.6s\n",
      "[CV] END max_depth=5, max_features=sqrt, min_samples_split=10, n_estimators=1040; total time=   4.5s\n",
      "[CV] END max_depth=13, max_features=auto, min_samples_split=100, n_estimators=1200; total time=  14.6s\n",
      "[CV] END max_depth=21, max_features=sqrt, min_samples_split=10, n_estimators=1160; total time=   8.9s\n",
      "[CV] END max_depth=21, max_features=sqrt, min_samples_split=100, n_estimators=1120; total time=   6.1s\n",
      "[CV] END max_depth=30, max_features=auto, min_samples_split=5, n_estimators=1120; total time=  26.7s\n",
      "[CV] END max_depth=13, max_features=auto, min_samples_split=5, n_estimators=1000; total time=  25.2s\n",
      "[CV] END max_depth=5, max_features=auto, min_samples_split=5, n_estimators=1080; total time=   9.9s\n",
      "[CV] END max_depth=5, max_features=auto, min_samples_split=5, n_estimators=1080; total time=   9.9s\n",
      "[CV] END max_depth=13, max_features=auto, min_samples_split=100, n_estimators=1200; total time=  15.1s\n",
      "[CV] END max_depth=30, max_features=sqrt, min_samples_split=100, n_estimators=1040; total time=   5.1s\n",
      "[CV] END max_depth=21, max_features=sqrt, min_samples_split=100, n_estimators=1120; total time=   6.1s\n",
      "[CV] END max_depth=5, max_features=sqrt, min_samples_split=10, n_estimators=1200; total time=   5.7s\n",
      "[CV] END max_depth=5, max_features=sqrt, min_samples_split=10, n_estimators=1200; total time=   6.8s\n",
      "[CV] END max_depth=5, max_features=sqrt, min_samples_split=10, n_estimators=1200; total time=   6.1s\n",
      "[CV] END max_depth=13, max_features=auto, min_samples_split=5, n_estimators=1000; total time=  23.7s\n",
      "[CV] END max_depth=13, max_features=auto, min_samples_split=5, n_estimators=1080; total time=  22.1s\n",
      "[CV] END max_depth=5, max_features=sqrt, min_samples_split=10, n_estimators=1040; total time=   4.5s\n",
      "[CV] END max_depth=13, max_features=auto, min_samples_split=100, n_estimators=1200; total time=  14.8s\n",
      "[CV] END max_depth=30, max_features=sqrt, min_samples_split=100, n_estimators=1040; total time=   5.7s\n",
      "[CV] END max_depth=30, max_features=sqrt, min_samples_split=100, n_estimators=1040; total time=   4.4s\n"
     ]
    }
   ],
   "source": [
    "rf_random.fit(X_train, y_train)\n",
    "rf_random.best_params_"
   ]
  },
  {
   "cell_type": "code",
   "execution_count": 70,
   "id": "816a2753",
   "metadata": {},
   "outputs": [],
   "source": [
    "import pickle\n",
    "file = open('random_forest.pkl', 'wb')\n",
    "pickle.dump(random_forest, file)"
   ]
  },
  {
   "cell_type": "code",
   "execution_count": null,
   "id": "712ab177",
   "metadata": {},
   "outputs": [],
   "source": []
  }
 ],
 "metadata": {
  "kernelspec": {
   "display_name": "Python 3 (ipykernel)",
   "language": "python",
   "name": "python3"
  },
  "language_info": {
   "codemirror_mode": {
    "name": "ipython",
    "version": 3
   },
   "file_extension": ".py",
   "mimetype": "text/x-python",
   "name": "python",
   "nbconvert_exporter": "python",
   "pygments_lexer": "ipython3",
   "version": "3.10.6"
  }
 },
 "nbformat": 4,
 "nbformat_minor": 5
}
